{
 "cells": [
  {
   "cell_type": "code",
   "execution_count": 53,
   "metadata": {
    "collapsed": true
   },
   "outputs": [],
   "source": [
    "import tensorflow as tf\n",
    "import matplotlib.pyplot as plt\n",
    "%matplotlib inline\n",
    "import seaborn as sns\n",
    "import numpy as np\n",
    "import pandas as pd\n",
    "from sklearn.model_selection import train_test_split"
   ]
  },
  {
   "cell_type": "code",
   "execution_count": 2,
   "outputs": [],
   "source": [
    "data = pd.read_csv('../data/dimensionality_reduction/creditcard.csv')"
   ],
   "metadata": {
    "collapsed": false,
    "pycharm": {
     "name": "#%%\n"
    }
   }
  },
  {
   "cell_type": "code",
   "execution_count": 3,
   "outputs": [
    {
     "data": {
      "text/plain": "   Time        V1        V2        V3        V4        V5        V6        V7  \\\n0   0.0 -1.359807 -0.072781  2.536347  1.378155 -0.338321  0.462388  0.239599   \n1   0.0  1.191857  0.266151  0.166480  0.448154  0.060018 -0.082361 -0.078803   \n2   1.0 -1.358354 -1.340163  1.773209  0.379780 -0.503198  1.800499  0.791461   \n3   1.0 -0.966272 -0.185226  1.792993 -0.863291 -0.010309  1.247203  0.237609   \n4   2.0 -1.158233  0.877737  1.548718  0.403034 -0.407193  0.095921  0.592941   \n\n         V8        V9  ...       V21       V22       V23       V24       V25  \\\n0  0.098698  0.363787  ... -0.018307  0.277838 -0.110474  0.066928  0.128539   \n1  0.085102 -0.255425  ... -0.225775 -0.638672  0.101288 -0.339846  0.167170   \n2  0.247676 -1.514654  ...  0.247998  0.771679  0.909412 -0.689281 -0.327642   \n3  0.377436 -1.387024  ... -0.108300  0.005274 -0.190321 -1.175575  0.647376   \n4 -0.270533  0.817739  ... -0.009431  0.798278 -0.137458  0.141267 -0.206010   \n\n        V26       V27       V28  Amount  Class  \n0 -0.189115  0.133558 -0.021053  149.62      0  \n1  0.125895 -0.008983  0.014724    2.69      0  \n2 -0.139097 -0.055353 -0.059752  378.66      0  \n3 -0.221929  0.062723  0.061458  123.50      0  \n4  0.502292  0.219422  0.215153   69.99      0  \n\n[5 rows x 31 columns]",
      "text/html": "<div>\n<style scoped>\n    .dataframe tbody tr th:only-of-type {\n        vertical-align: middle;\n    }\n\n    .dataframe tbody tr th {\n        vertical-align: top;\n    }\n\n    .dataframe thead th {\n        text-align: right;\n    }\n</style>\n<table border=\"1\" class=\"dataframe\">\n  <thead>\n    <tr style=\"text-align: right;\">\n      <th></th>\n      <th>Time</th>\n      <th>V1</th>\n      <th>V2</th>\n      <th>V3</th>\n      <th>V4</th>\n      <th>V5</th>\n      <th>V6</th>\n      <th>V7</th>\n      <th>V8</th>\n      <th>V9</th>\n      <th>...</th>\n      <th>V21</th>\n      <th>V22</th>\n      <th>V23</th>\n      <th>V24</th>\n      <th>V25</th>\n      <th>V26</th>\n      <th>V27</th>\n      <th>V28</th>\n      <th>Amount</th>\n      <th>Class</th>\n    </tr>\n  </thead>\n  <tbody>\n    <tr>\n      <th>0</th>\n      <td>0.0</td>\n      <td>-1.359807</td>\n      <td>-0.072781</td>\n      <td>2.536347</td>\n      <td>1.378155</td>\n      <td>-0.338321</td>\n      <td>0.462388</td>\n      <td>0.239599</td>\n      <td>0.098698</td>\n      <td>0.363787</td>\n      <td>...</td>\n      <td>-0.018307</td>\n      <td>0.277838</td>\n      <td>-0.110474</td>\n      <td>0.066928</td>\n      <td>0.128539</td>\n      <td>-0.189115</td>\n      <td>0.133558</td>\n      <td>-0.021053</td>\n      <td>149.62</td>\n      <td>0</td>\n    </tr>\n    <tr>\n      <th>1</th>\n      <td>0.0</td>\n      <td>1.191857</td>\n      <td>0.266151</td>\n      <td>0.166480</td>\n      <td>0.448154</td>\n      <td>0.060018</td>\n      <td>-0.082361</td>\n      <td>-0.078803</td>\n      <td>0.085102</td>\n      <td>-0.255425</td>\n      <td>...</td>\n      <td>-0.225775</td>\n      <td>-0.638672</td>\n      <td>0.101288</td>\n      <td>-0.339846</td>\n      <td>0.167170</td>\n      <td>0.125895</td>\n      <td>-0.008983</td>\n      <td>0.014724</td>\n      <td>2.69</td>\n      <td>0</td>\n    </tr>\n    <tr>\n      <th>2</th>\n      <td>1.0</td>\n      <td>-1.358354</td>\n      <td>-1.340163</td>\n      <td>1.773209</td>\n      <td>0.379780</td>\n      <td>-0.503198</td>\n      <td>1.800499</td>\n      <td>0.791461</td>\n      <td>0.247676</td>\n      <td>-1.514654</td>\n      <td>...</td>\n      <td>0.247998</td>\n      <td>0.771679</td>\n      <td>0.909412</td>\n      <td>-0.689281</td>\n      <td>-0.327642</td>\n      <td>-0.139097</td>\n      <td>-0.055353</td>\n      <td>-0.059752</td>\n      <td>378.66</td>\n      <td>0</td>\n    </tr>\n    <tr>\n      <th>3</th>\n      <td>1.0</td>\n      <td>-0.966272</td>\n      <td>-0.185226</td>\n      <td>1.792993</td>\n      <td>-0.863291</td>\n      <td>-0.010309</td>\n      <td>1.247203</td>\n      <td>0.237609</td>\n      <td>0.377436</td>\n      <td>-1.387024</td>\n      <td>...</td>\n      <td>-0.108300</td>\n      <td>0.005274</td>\n      <td>-0.190321</td>\n      <td>-1.175575</td>\n      <td>0.647376</td>\n      <td>-0.221929</td>\n      <td>0.062723</td>\n      <td>0.061458</td>\n      <td>123.50</td>\n      <td>0</td>\n    </tr>\n    <tr>\n      <th>4</th>\n      <td>2.0</td>\n      <td>-1.158233</td>\n      <td>0.877737</td>\n      <td>1.548718</td>\n      <td>0.403034</td>\n      <td>-0.407193</td>\n      <td>0.095921</td>\n      <td>0.592941</td>\n      <td>-0.270533</td>\n      <td>0.817739</td>\n      <td>...</td>\n      <td>-0.009431</td>\n      <td>0.798278</td>\n      <td>-0.137458</td>\n      <td>0.141267</td>\n      <td>-0.206010</td>\n      <td>0.502292</td>\n      <td>0.219422</td>\n      <td>0.215153</td>\n      <td>69.99</td>\n      <td>0</td>\n    </tr>\n  </tbody>\n</table>\n<p>5 rows × 31 columns</p>\n</div>"
     },
     "execution_count": 3,
     "metadata": {},
     "output_type": "execute_result"
    }
   ],
   "source": [
    "data.head()"
   ],
   "metadata": {
    "collapsed": false,
    "pycharm": {
     "name": "#%%\n"
    }
   }
  },
  {
   "cell_type": "code",
   "execution_count": 21,
   "outputs": [],
   "source": [
    "X = data.drop(['Time', 'Class'], axis=1)\n",
    "y = data['Class']\n",
    "\n",
    "X_train, X_test, y_train, y_test = train_test_split(X, y, test_size=0.2, stratify=y, random_state=42)"
   ],
   "metadata": {
    "collapsed": false,
    "pycharm": {
     "name": "#%%\n"
    }
   }
  },
  {
   "cell_type": "code",
   "execution_count": 22,
   "outputs": [
    {
     "data": {
      "text/plain": "((227845, 29), (56962, 29), (227845,), (56962,))"
     },
     "execution_count": 22,
     "metadata": {},
     "output_type": "execute_result"
    }
   ],
   "source": [
    "X_train.shape, X_test.shape, y_train.shape, y_test.shape"
   ],
   "metadata": {
    "collapsed": false,
    "pycharm": {
     "name": "#%%\n"
    }
   }
  },
  {
   "cell_type": "code",
   "execution_count": 23,
   "outputs": [],
   "source": [
    "latent_dim = 2"
   ],
   "metadata": {
    "collapsed": false,
    "pycharm": {
     "name": "#%%\n"
    }
   }
  },
  {
   "cell_type": "code",
   "execution_count": 24,
   "outputs": [],
   "source": [
    "input_dim = X_train.shape[1]"
   ],
   "metadata": {
    "collapsed": false,
    "pycharm": {
     "name": "#%%\n"
    }
   }
  },
  {
   "cell_type": "code",
   "execution_count": 25,
   "outputs": [],
   "source": [
    "model = tf.keras.models.Sequential([\n",
    "    tf.keras.layers.Dense(units=512, activation='relu', input_dim=input_dim),\n",
    "    tf.keras.layers.Dense(units=128, activation='relu'),\n",
    "    tf.keras.layers.Dense(units=latent_dim, activation='linear', name='encoded'),\n",
    "\n",
    "    tf.keras.layers.Dense(units=128, activation='relu'),\n",
    "    tf.keras.layers.Dense(units=512, activation='relu'),\n",
    "    tf.keras.layers.Dense(units=input_dim, activation='linear', name='decoded')\n",
    "])"
   ],
   "metadata": {
    "collapsed": false,
    "pycharm": {
     "name": "#%%\n"
    }
   }
  },
  {
   "cell_type": "code",
   "execution_count": 26,
   "outputs": [],
   "source": [
    "model.compile(optimizer='adam', loss='mse')"
   ],
   "metadata": {
    "collapsed": false,
    "pycharm": {
     "name": "#%%\n"
    }
   }
  },
  {
   "cell_type": "code",
   "execution_count": 27,
   "outputs": [
    {
     "name": "stdout",
     "output_type": "stream",
     "text": [
      "Epoch 1/30\n",
      "1603/1603 [==============================] - 6s 3ms/step - loss: 23.1316 - val_loss: 1.3574\n",
      "Epoch 2/30\n",
      "1603/1603 [==============================] - 5s 3ms/step - loss: 14.2427 - val_loss: 0.8378\n",
      "Epoch 3/30\n",
      "1603/1603 [==============================] - 4s 3ms/step - loss: 2.9013 - val_loss: 0.7099\n",
      "Epoch 4/30\n",
      "1603/1603 [==============================] - 4s 3ms/step - loss: 3.8117 - val_loss: 0.8293\n",
      "Epoch 5/30\n",
      "1603/1603 [==============================] - 4s 3ms/step - loss: 4.0694 - val_loss: 1.0131\n",
      "Epoch 6/30\n",
      "1603/1603 [==============================] - 4s 3ms/step - loss: 9.5774 - val_loss: 0.7419\n",
      "Epoch 7/30\n",
      "1603/1603 [==============================] - 5s 3ms/step - loss: 3.2749 - val_loss: 2.2673\n",
      "Epoch 8/30\n",
      "1603/1603 [==============================] - 4s 3ms/step - loss: 8.1802 - val_loss: 0.9677\n",
      "Epoch 9/30\n",
      "1603/1603 [==============================] - 4s 3ms/step - loss: 1.8632 - val_loss: 0.6712\n",
      "Epoch 10/30\n",
      "1603/1603 [==============================] - 4s 3ms/step - loss: 4.4018 - val_loss: 0.7723\n",
      "Epoch 11/30\n",
      "1603/1603 [==============================] - 4s 3ms/step - loss: 2.4084 - val_loss: 1.4116\n",
      "Epoch 12/30\n",
      "1603/1603 [==============================] - 4s 3ms/step - loss: 1.1922 - val_loss: 0.7062\n",
      "Epoch 13/30\n",
      "1603/1603 [==============================] - 5s 3ms/step - loss: 7.2653 - val_loss: 0.7787\n",
      "Epoch 14/30\n",
      "1603/1603 [==============================] - 5s 3ms/step - loss: 1.7071 - val_loss: 0.6413\n",
      "Epoch 15/30\n",
      "1603/1603 [==============================] - 4s 3ms/step - loss: 1.3159 - val_loss: 0.6661\n",
      "Epoch 16/30\n",
      "1603/1603 [==============================] - 4s 3ms/step - loss: 3.9196 - val_loss: 2.6526\n",
      "Epoch 17/30\n",
      "1603/1603 [==============================] - 4s 3ms/step - loss: 1.3527 - val_loss: 1.3220\n",
      "Epoch 18/30\n",
      "1603/1603 [==============================] - 4s 3ms/step - loss: 5.3222 - val_loss: 0.6859\n",
      "Epoch 19/30\n",
      "1603/1603 [==============================] - 4s 3ms/step - loss: 1.4336 - val_loss: 1.0762\n",
      "Epoch 20/30\n",
      "1603/1603 [==============================] - 5s 3ms/step - loss: 2.6927 - val_loss: 0.7999\n",
      "Epoch 21/30\n",
      "1603/1603 [==============================] - 4s 3ms/step - loss: 4.5477 - val_loss: 0.7170\n",
      "Epoch 22/30\n",
      "1603/1603 [==============================] - 5s 3ms/step - loss: 1.5845 - val_loss: 0.6863\n",
      "Epoch 23/30\n",
      "1603/1603 [==============================] - 4s 3ms/step - loss: 1.1312 - val_loss: 0.6926\n",
      "Epoch 24/30\n",
      "1603/1603 [==============================] - 5s 3ms/step - loss: 3.1761 - val_loss: 0.7218\n",
      "Epoch 25/30\n",
      "1603/1603 [==============================] - 5s 3ms/step - loss: 0.9916 - val_loss: 1.6015\n",
      "Epoch 26/30\n",
      "1603/1603 [==============================] - 4s 3ms/step - loss: 2.6935 - val_loss: 1.1277\n",
      "Epoch 27/30\n",
      "1603/1603 [==============================] - 4s 3ms/step - loss: 2.2307 - val_loss: 0.8159\n",
      "Epoch 28/30\n",
      "1603/1603 [==============================] - 4s 3ms/step - loss: 3.4538 - val_loss: 0.7067\n",
      "Epoch 29/30\n",
      "1603/1603 [==============================] - 5s 3ms/step - loss: 1.8785 - val_loss: 0.6420\n",
      "Epoch 30/30\n",
      "1603/1603 [==============================] - 5s 3ms/step - loss: 1.5589 - val_loss: 0.9145\n"
     ]
    }
   ],
   "source": [
    "history = model.fit(X_train, X_train, batch_size=128, epochs=30, verbose=1, validation_split=0.1)"
   ],
   "metadata": {
    "collapsed": false,
    "pycharm": {
     "name": "#%%\n"
    }
   }
  },
  {
   "cell_type": "code",
   "execution_count": 28,
   "outputs": [
    {
     "data": {
      "text/plain": "<Figure size 432x288 with 1 Axes>",
      "image/png": "[encoded data removed]"
     },
     "metadata": {
      "needs_background": "light"
     },
     "output_type": "display_data"
    }
   ],
   "source": [
    "loss = history.history['loss']\n",
    "val_loss = history.history['val_loss']\n",
    "\n",
    "plt.plot(loss)\n",
    "plt.plot(val_loss)\n",
    "plt.legend(['Train', 'Validation'])\n",
    "plt.title('Train x Validation loss')\n",
    "plt.xlabel('Epochs');"
   ],
   "metadata": {
    "collapsed": false,
    "pycharm": {
     "name": "#%%\n"
    }
   }
  },
  {
   "cell_type": "code",
   "execution_count": 29,
   "outputs": [],
   "source": [
    "encoder = tf.keras.models.Model(inputs=model.input, outputs=model.get_layer(name='encoded').output)\n",
    "X_test_encoded = encoder.predict(X_test)"
   ],
   "metadata": {
    "collapsed": false,
    "pycharm": {
     "name": "#%%\n"
    }
   }
  },
  {
   "cell_type": "code",
   "execution_count": 30,
   "outputs": [
    {
     "data": {
      "text/plain": "array([[ 2.5354676,  4.3161225],\n       [ 1.083026 ,  0.9410671],\n       [ 2.2247515, 17.630075 ],\n       ...,\n       [ 1.5922842,  2.5672965],\n       [-2.4233823,  2.962225 ],\n       [-0.7206447, 13.3460045]], dtype=float32)"
     },
     "execution_count": 30,
     "metadata": {},
     "output_type": "execute_result"
    }
   ],
   "source": [
    "X_test_encoded"
   ],
   "metadata": {
    "collapsed": false,
    "pycharm": {
     "name": "#%%\n"
    }
   }
  },
  {
   "cell_type": "code",
   "execution_count": 39,
   "outputs": [
    {
     "data": {
      "text/plain": "<Figure size 864x720 with 2 Axes>",
      "image/png": "[encoded data removed]"
     },
     "metadata": {
      "needs_background": "light"
     },
     "output_type": "display_data"
    }
   ],
   "source": [
    "plt.figure(figsize=(12,10))\n",
    "plt.scatter(X_test_encoded[:, 0], X_test_encoded[:, 1], c=y_test, cmap=plt.cm.get_cmap(name='Spectral', lut=2), s=5)\n",
    "plt.colorbar();"
   ],
   "metadata": {
    "collapsed": false,
    "pycharm": {
     "name": "#%%\n"
    }
   }
  },
  {
   "cell_type": "code",
   "execution_count": null,
   "outputs": [],
   "source": [],
   "metadata": {
    "collapsed": false,
    "pycharm": {
     "name": "#%%\n"
    }
   }
  }
 ],
 "metadata": {
  "kernelspec": {
   "display_name": "Python 3",
   "language": "python",
   "name": "python3"
  },
  "language_info": {
   "codemirror_mode": {
    "name": "ipython",
    "version": 2
   },
   "file_extension": ".py",
   "mimetype": "text/x-python",
   "name": "python",
   "nbconvert_exporter": "python",
   "pygments_lexer": "ipython2",
   "version": "2.7.6"
  }
 },
 "nbformat": 4,
 "nbformat_minor": 0
}