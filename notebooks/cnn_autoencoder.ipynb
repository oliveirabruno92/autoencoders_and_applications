{
  "nbformat": 4,
  "nbformat_minor": 0,
  "metadata": {
    "accelerator": "GPU",
    "colab": {
      "name": "cnn_autoencoder.ipynb",
      "provenance": []
    },
    "kernelspec": {
      "display_name": "Python 3",
      "name": "python3"
    },
    "language_info": {
      "name": "python"
    }
  },
  "cells": [
    {
      "cell_type": "code",
      "metadata": {
        "id": "ZE8HBahnaT_G"
      },
      "source": [
        "import tensorflow as tf \n",
        "import matplotlib.pyplot as plt \n",
        "%matplotlib inline \n",
        "import pandas as pd\n",
        "from sklearn.neighbors import NearestNeighbors"
      ],
      "execution_count": 189,
      "outputs": []
    },
    {
      "cell_type": "code",
      "metadata": {
        "id": "X74r0VfzaXaz"
      },
      "source": [
        "(x_train, y_train), (x_test, y_test) = tf.keras.datasets.mnist.load_data()"
      ],
      "execution_count": 166,
      "outputs": []
    },
    {
      "cell_type": "code",
      "metadata": {
        "colab": {
          "base_uri": "https://localhost:8080/"
        },
        "id": "TwvlSi2Tasma",
        "outputId": "1f7e9ae8-6dc5-4547-b81f-7f7196d1b3bc"
      },
      "source": [
        "x_train.shape, y_train.shape, x_test.shape, y_test.shape"
      ],
      "execution_count": 167,
      "outputs": [
        {
          "output_type": "execute_result",
          "data": {
            "text/plain": [
              "((60000, 28, 28), (60000,), (10000, 28, 28), (10000,))"
            ]
          },
          "metadata": {},
          "execution_count": 167
        }
      ]
    },
    {
      "cell_type": "code",
      "metadata": {
        "id": "2tcTgvVta9Vz"
      },
      "source": [
        "x_train = x_train / 255.\n",
        "x_test = x_test / 255. "
      ],
      "execution_count": 168,
      "outputs": []
    },
    {
      "cell_type": "code",
      "metadata": {
        "colab": {
          "base_uri": "https://localhost:8080/",
          "height": 175
        },
        "id": "p4lniZAPbV31",
        "outputId": "26c10f01-8d21-4b1b-af7e-1f2a8827d0cb"
      },
      "source": [
        "fig, ax = plt.subplots(nrows=1, ncols=10, figsize=(20,6), tight_layout=True)\n",
        "\n",
        "for i in range(10):\n",
        "  ax[i].imshow(x_train[i], cmap='gray')\n",
        "  ax[i].set_title(y_train[i])"
      ],
      "execution_count": 169,
      "outputs": [
        {
          "output_type": "display_data",
          "data": {
            "image/png": "[encoded data removed]",
            "text/plain": [
              "<Figure size 1440x432 with 10 Axes>"
            ]
          },
          "metadata": {
            "needs_background": "light"
          }
        }
      ]
    },
    {
      "cell_type": "code",
      "metadata": {
        "id": "oTVQi8-dbBAc"
      },
      "source": [
        "x_train = np.expand_dims(x_train, axis=-1)\n",
        "x_test = np.expand_dims(x_test, axis=-1)"
      ],
      "execution_count": 170,
      "outputs": []
    },
    {
      "cell_type": "code",
      "metadata": {
        "id": "oefGyaquDgZo"
      },
      "source": [
        "cnn_model = tf.keras.models.Sequential([\n",
        "    tf.keras.layers.Conv2D(filters=16, kernel_size=(3,3), strides=(1,1), padding='same', activation='relu', input_shape=(28, 28, 1)),\n",
        "    tf.keras.layers.MaxPool2D(pool_size=(2, 2), padding='valid'),\n",
        "    tf.keras.layers.Conv2D(filters=8, kernel_size=(3,3), strides=(1,1), padding='same', activation='relu'),\n",
        "    tf.keras.layers.MaxPool2D(pool_size=(2, 2), padding='valid', name='encoded'),\n",
        "\n",
        "    tf.keras.layers.UpSampling2D(size=(2,2)),\n",
        "    tf.keras.layers.Conv2D(filters=16, kernel_size=(3, 3), strides=(1,1), padding='same', activation='relu'),\n",
        "    tf.keras.layers.UpSampling2D(size=(2,2)),\n",
        "    tf.keras.layers.Conv2D(filters=1, kernel_size=(3, 3), strides=(1,1), padding='same', activation='sigmoid', name='decoded'),\n",
        "])"
      ],
      "execution_count": 171,
      "outputs": []
    },
    {
      "cell_type": "code",
      "metadata": {
        "colab": {
          "base_uri": "https://localhost:8080/"
        },
        "id": "V04ggIQc8fUK",
        "outputId": "9029810c-4b16-4db4-f705-0b2c0e9b0925"
      },
      "source": [
        "cnn_model.summary()"
      ],
      "execution_count": 172,
      "outputs": [
        {
          "output_type": "stream",
          "name": "stdout",
          "text": [
            "Model: \"sequential_11\"\n",
            "_________________________________________________________________\n",
            " Layer (type)                Output Shape              Param #   \n",
            "=================================================================\n",
            " conv2d_27 (Conv2D)          (None, 28, 28, 16)        160       \n",
            "                                                                 \n",
            " max_pooling2d_9 (MaxPooling  (None, 14, 14, 16)       0         \n",
            " 2D)                                                             \n",
            "                                                                 \n",
            " conv2d_28 (Conv2D)          (None, 14, 14, 8)         1160      \n",
            "                                                                 \n",
            " encoded (MaxPooling2D)      (None, 7, 7, 8)           0         \n",
            "                                                                 \n",
            " up_sampling2d_18 (UpSamplin  (None, 14, 14, 8)        0         \n",
            " g2D)                                                            \n",
            "                                                                 \n",
            " conv2d_29 (Conv2D)          (None, 14, 14, 16)        1168      \n",
            "                                                                 \n",
            " up_sampling2d_19 (UpSamplin  (None, 28, 28, 16)       0         \n",
            " g2D)                                                            \n",
            "                                                                 \n",
            " decoded (Conv2D)            (None, 28, 28, 1)         145       \n",
            "                                                                 \n",
            "=================================================================\n",
            "Total params: 2,633\n",
            "Trainable params: 2,633\n",
            "Non-trainable params: 0\n",
            "_________________________________________________________________\n"
          ]
        }
      ]
    },
    {
      "cell_type": "code",
      "metadata": {
        "id": "uTenioqn8guB"
      },
      "source": [
        "cnn_model.compile(optimizer='adam', loss='binary_crossentropy')"
      ],
      "execution_count": 173,
      "outputs": []
    },
    {
      "cell_type": "code",
      "metadata": {
        "colab": {
          "base_uri": "https://localhost:8080/"
        },
        "id": "prGDbAa28ijT",
        "outputId": "77a3d51c-15e1-43ce-cc68-6cef672e25f4"
      },
      "source": [
        "history = cnn_model.fit(x_train, x_train, batch_size=128, epochs=10, verbose=1, validation_data=(x_test, x_test))"
      ],
      "execution_count": 174,
      "outputs": [
        {
          "output_type": "stream",
          "name": "stdout",
          "text": [
            "Epoch 1/10\n",
            "469/469 [==============================] - 7s 13ms/step - loss: 0.1528 - val_loss: 0.0913\n",
            "Epoch 2/10\n",
            "469/469 [==============================] - 6s 13ms/step - loss: 0.0877 - val_loss: 0.0840\n",
            "Epoch 3/10\n",
            "469/469 [==============================] - 6s 13ms/step - loss: 0.0834 - val_loss: 0.0811\n",
            "Epoch 4/10\n",
            "469/469 [==============================] - 6s 13ms/step - loss: 0.0812 - val_loss: 0.0794\n",
            "Epoch 5/10\n",
            "469/469 [==============================] - 6s 13ms/step - loss: 0.0792 - val_loss: 0.0775\n",
            "Epoch 6/10\n",
            "469/469 [==============================] - 6s 13ms/step - loss: 0.0776 - val_loss: 0.0762\n",
            "Epoch 7/10\n",
            "469/469 [==============================] - 6s 13ms/step - loss: 0.0765 - val_loss: 0.0754\n",
            "Epoch 8/10\n",
            "469/469 [==============================] - 6s 13ms/step - loss: 0.0758 - val_loss: 0.0748\n",
            "Epoch 9/10\n",
            "469/469 [==============================] - 6s 13ms/step - loss: 0.0753 - val_loss: 0.0744\n",
            "Epoch 10/10\n",
            "469/469 [==============================] - 6s 13ms/step - loss: 0.0749 - val_loss: 0.0740\n"
          ]
        }
      ]
    },
    {
      "cell_type": "code",
      "metadata": {
        "colab": {
          "base_uri": "https://localhost:8080/",
          "height": 312
        },
        "id": "UrfUHlXn8kGh",
        "outputId": "271f8474-adb8-4832-c4e9-2a72ebf601f2"
      },
      "source": [
        "loss = history.history['loss']\n",
        "val_loss = history.history['val_loss']\n",
        "\n",
        "plt.plot(loss)\n",
        "plt.plot(val_loss)\n",
        "plt.legend(['Train', 'Validation'])\n",
        "plt.title('Train x Validation loss')\n",
        "plt.xlabel('Epochs')"
      ],
      "execution_count": 175,
      "outputs": [
        {
          "output_type": "execute_result",
          "data": {
            "text/plain": [
              "Text(0.5, 0, 'Epochs')"
            ]
          },
          "metadata": {},
          "execution_count": 175
        },
        {
          "output_type": "display_data",
          "data": {
            "image/png": "[encoded data removed]",
            "text/plain": [
              "<Figure size 432x288 with 1 Axes>"
            ]
          },
          "metadata": {
            "needs_background": "light"
          }
        }
      ]
    },
    {
      "cell_type": "code",
      "metadata": {
        "colab": {
          "base_uri": "https://localhost:8080/",
          "height": 244
        },
        "id": "VYG7RrRO8vI1",
        "outputId": "663708c7-1fe4-442b-cad1-472699956f6c"
      },
      "source": [
        "n_imgs = 10\n",
        "random_imgs = np.random.choice(range(x_test.shape[0]), size=n_imgs)\n",
        "img_true = x_test[random_imgs]\n",
        "img_pred = cnn_model.predict(img_true)\n",
        "\n",
        "plt.figure(figsize=(20, 4))\n",
        "for i in range(n_imgs):\n",
        "  plt.subplot(2, n_imgs, i + 1)\n",
        "  plt.imshow(img_true[i].reshape(28, 28), cmap='gray')\n",
        "  plt.axis('off')\n",
        "\n",
        "  plt.subplot(2, n_imgs, i + 1 + n_imgs)\n",
        "  plt.imshow(img_pred[i].reshape(28, 28), cmap='gray')\n",
        "  plt.axis('off')"
      ],
      "execution_count": 176,
      "outputs": [
        {
          "output_type": "display_data",
          "data": {
            "image/png": "[encoded data removed]",
            "text/plain": [
              "<Figure size 1440x288 with 20 Axes>"
            ]
          },
          "metadata": {
            "needs_background": "light"
          }
        }
      ]
    },
    {
      "cell_type": "code",
      "metadata": {
        "id": "6eQohbaRBBNF"
      },
      "source": [
        "encoder = tf.keras.models.Model(inputs=cnn_model.input, outputs=cnn_model.get_layer(name='encoded').output)\n",
        "x_test_encoded = encoder.predict(x_test)"
      ],
      "execution_count": 182,
      "outputs": []
    },
    {
      "cell_type": "code",
      "metadata": {
        "colab": {
          "base_uri": "https://localhost:8080/"
        },
        "id": "RDFLmINMDgj2",
        "outputId": "e8db50cd-1001-4eed-c345-e6f317811642"
      },
      "source": [
        "x_test_encoded.shape"
      ],
      "execution_count": 184,
      "outputs": [
        {
          "output_type": "execute_result",
          "data": {
            "text/plain": [
              "(10000, 7, 7, 8)"
            ]
          },
          "metadata": {},
          "execution_count": 184
        }
      ]
    },
    {
      "cell_type": "code",
      "metadata": {
        "id": "vSlUyiJJDkC4"
      },
      "source": [
        "encodings = x_test_encoded.reshape(x_test_encoded.shape[0], -1)"
      ],
      "execution_count": 222,
      "outputs": []
    },
    {
      "cell_type": "code",
      "metadata": {
        "colab": {
          "base_uri": "https://localhost:8080/"
        },
        "id": "zLj4wLf8GNI4",
        "outputId": "9990213f-ff2b-4f7f-d4dd-7c05f204300f"
      },
      "source": [
        "encodings.shape"
      ],
      "execution_count": 224,
      "outputs": [
        {
          "output_type": "execute_result",
          "data": {
            "text/plain": [
              "(10000, 392)"
            ]
          },
          "metadata": {},
          "execution_count": 224
        }
      ]
    },
    {
      "cell_type": "code",
      "metadata": {
        "colab": {
          "base_uri": "https://localhost:8080/"
        },
        "id": "ZnkrvLIMDq2i",
        "outputId": "86155862-b258-4128-f2a1-08826cd5224d"
      },
      "source": [
        "retriver = NearestNeighbors(n_neighbors=5, n_jobs=-1)\n",
        "retriver.fit(encodings)"
      ],
      "execution_count": 223,
      "outputs": [
        {
          "output_type": "execute_result",
          "data": {
            "text/plain": [
              "NearestNeighbors(n_jobs=-1)"
            ]
          },
          "metadata": {},
          "execution_count": 223
        }
      ]
    },
    {
      "cell_type": "code",
      "metadata": {
        "id": "zRvqcZrvEFqk"
      },
      "source": [
        "distances, indices = retriver.kneighbors(np.expand_dims(encodings[0], axis=0))"
      ],
      "execution_count": 227,
      "outputs": []
    },
    {
      "cell_type": "code",
      "metadata": {
        "colab": {
          "base_uri": "https://localhost:8080/",
          "height": 282
        },
        "id": "g0oAveTwEToh",
        "outputId": "6a565aec-7572-4935-ed68-137d6c0fe16d"
      },
      "source": [
        "plt.imshow(x_test[0].squeeze(), cmap='gray')"
      ],
      "execution_count": 231,
      "outputs": [
        {
          "output_type": "execute_result",
          "data": {
            "text/plain": [
              "<matplotlib.image.AxesImage at 0x7fc37e093a10>"
            ]
          },
          "metadata": {},
          "execution_count": 231
        },
        {
          "output_type": "display_data",
          "data": {
            "image/png": "[encoded data removed]",
            "text/plain": [
              "<Figure size 432x288 with 1 Axes>"
            ]
          },
          "metadata": {
            "needs_background": "light"
          }
        }
      ]
    },
    {
      "cell_type": "code",
      "metadata": {
        "colab": {
          "base_uri": "https://localhost:8080/"
        },
        "id": "ayyXEd0uEWZX",
        "outputId": "677e9c74-2c18-4171-d9b0-0606fc9be9e2"
      },
      "source": [
        "indices"
      ],
      "execution_count": 233,
      "outputs": [
        {
          "output_type": "execute_result",
          "data": {
            "text/plain": [
              "array([[   0, 4800, 4083, 8815, 4049]])"
            ]
          },
          "metadata": {},
          "execution_count": 233
        }
      ]
    },
    {
      "cell_type": "code",
      "metadata": {
        "colab": {
          "base_uri": "https://localhost:8080/",
          "height": 168
        },
        "id": "k7MlIytHEyUN",
        "outputId": "640d20c3-79f2-42cb-a670-4d6d0c90a199"
      },
      "source": [
        "plt.imshow(encodings[4083].reshape(28,28), cmg='gray')"
      ],
      "execution_count": 234,
      "outputs": [
        {
          "output_type": "error",
          "ename": "ValueError",
          "evalue": "ignored",
          "traceback": [
            "\u001b[0;31m---------------------------------------------------------------------------\u001b[0m",
            "\u001b[0;31mValueError\u001b[0m                                Traceback (most recent call last)",
            "\u001b[0;32m<ipython-input-234-18b7ffd9432b>\u001b[0m in \u001b[0;36m<module>\u001b[0;34m()\u001b[0m\n\u001b[0;32m----> 1\u001b[0;31m \u001b[0mplt\u001b[0m\u001b[0;34m.\u001b[0m\u001b[0mimshow\u001b[0m\u001b[0;34m(\u001b[0m\u001b[0mencodings\u001b[0m\u001b[0;34m[\u001b[0m\u001b[0;36m4083\u001b[0m\u001b[0;34m]\u001b[0m\u001b[0;34m.\u001b[0m\u001b[0mreshape\u001b[0m\u001b[0;34m(\u001b[0m\u001b[0;36m28\u001b[0m\u001b[0;34m,\u001b[0m\u001b[0;36m28\u001b[0m\u001b[0;34m)\u001b[0m\u001b[0;34m,\u001b[0m \u001b[0mcmg\u001b[0m\u001b[0;34m=\u001b[0m\u001b[0;34m'gray'\u001b[0m\u001b[0;34m)\u001b[0m\u001b[0;34m\u001b[0m\u001b[0;34m\u001b[0m\u001b[0m\n\u001b[0m",
            "\u001b[0;31mValueError\u001b[0m: cannot reshape array of size 392 into shape (28,28)"
          ]
        }
      ]
    },
    {
      "cell_type": "code",
      "metadata": {
        "id": "yU9kNjGrE1w4"
      },
      "source": [
        "\n",
        "for i in indices[1:]:\n",
        "  plt.imshow(encodings[i].reshape(28,28), cmg='gray')"
      ],
      "execution_count": 232,
      "outputs": []
    },
    {
      "cell_type": "code",
      "metadata": {
        "id": "dpCg4_d3Gx-l"
      },
      "source": [
        ""
      ],
      "execution_count": null,
      "outputs": []
    }
  ]
}