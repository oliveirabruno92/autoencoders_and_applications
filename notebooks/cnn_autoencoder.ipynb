{
 "nbformat": 4,
 "nbformat_minor": 0,
 "metadata": {
  "accelerator": "GPU",
  "colab": {
   "name": "cnn_autoencoder.ipynb",
   "provenance": []
  },
  "kernelspec": {
   "display_name": "Python 3",
   "name": "python3"
  },
  "language_info": {
   "name": "python"
  }
 },
 "cells": [
  {
   "cell_type": "markdown",
   "source": [
    "# CNN Autoencoder\n",
    "---"
   ],
   "metadata": {
    "collapsed": false,
    "pycharm": {
     "name": "#%% md\n"
    }
   }
  },
  {
   "cell_type": "code",
   "metadata": {
    "id": "ZE8HBahnaT_G"
   },
   "source": [
    "import tensorflow as tf \n",
    "import matplotlib.pyplot as plt \n",
    "%matplotlib inline \n",
    "import numpy as np\n",
    "from sklearn.neighbors import NearestNeighbors"
   ],
   "execution_count": 7,
   "outputs": []
  },
  {
   "cell_type": "code",
   "metadata": {
    "id": "X74r0VfzaXaz"
   },
   "source": [
    "(x_train, y_train), (x_test, y_test) = tf.keras.datasets.mnist.load_data()"
   ],
   "execution_count": 8,
   "outputs": []
  },
  {
   "cell_type": "code",
   "metadata": {
    "colab": {
     "base_uri": "https://localhost:8080/"
    },
    "id": "TwvlSi2Tasma",
    "outputId": "1f7e9ae8-6dc5-4547-b81f-7f7196d1b3bc"
   },
   "source": [
    "x_train.shape, y_train.shape, x_test.shape, y_test.shape"
   ],
   "execution_count": 9,
   "outputs": [
    {
     "data": {
      "text/plain": "((60000, 28, 28), (60000,), (10000, 28, 28), (10000,))"
     },
     "execution_count": 9,
     "metadata": {},
     "output_type": "execute_result"
    }
   ]
  },
  {
   "cell_type": "code",
   "metadata": {
    "id": "2tcTgvVta9Vz"
   },
   "source": [
    "x_train = x_train / 255.\n",
    "x_test = x_test / 255. "
   ],
   "execution_count": 10,
   "outputs": []
  },
  {
   "cell_type": "code",
   "metadata": {
    "colab": {
     "base_uri": "https://localhost:8080/",
     "height": 175
    },
    "id": "p4lniZAPbV31",
    "outputId": "26c10f01-8d21-4b1b-af7e-1f2a8827d0cb"
   },
   "source": [
    "fig, ax = plt.subplots(nrows=1, ncols=10, figsize=(20,6), tight_layout=True)\n",
    "\n",
    "for i in range(10):\n",
    "  ax[i].imshow(x_train[i], cmap='gray')\n",
    "  ax[i].set_title(y_train[i])\n",
    "  ax[i].axis('off')"
   ],
   "execution_count": 118,
   "outputs": [
    {
     "data": {
      "text/plain": "<Figure size 1440x432 with 10 Axes>",
      "image/png": "[encoded data removed]"
     },
     "metadata": {
      "needs_background": "light"
     },
     "output_type": "display_data"
    }
   ]
  },
  {
   "cell_type": "code",
   "metadata": {
    "id": "oTVQi8-dbBAc"
   },
   "source": [
    "x_train = np.expand_dims(x_train, axis=-1)\n",
    "x_test = np.expand_dims(x_test, axis=-1)"
   ],
   "execution_count": 12,
   "outputs": []
  },
  {
   "cell_type": "code",
   "metadata": {
    "id": "oefGyaquDgZo"
   },
   "source": [
    "cnn_model = tf.keras.models.Sequential([\n",
    "    tf.keras.layers.Conv2D(filters=16, kernel_size=(3,3), strides=(1,1), padding='same', activation='relu', input_shape=(28, 28, 1)),\n",
    "    tf.keras.layers.MaxPool2D(pool_size=(2, 2), padding='valid'),\n",
    "    tf.keras.layers.Conv2D(filters=8, kernel_size=(3,3), strides=(1,1), padding='same', activation='relu'),\n",
    "    tf.keras.layers.MaxPool2D(pool_size=(2, 2), padding='valid', name='encoded'),\n",
    "\n",
    "    tf.keras.layers.UpSampling2D(size=(2,2)),\n",
    "    tf.keras.layers.Conv2D(filters=16, kernel_size=(3, 3), strides=(1,1), padding='same', activation='relu'),\n",
    "    tf.keras.layers.UpSampling2D(size=(2,2)),\n",
    "    tf.keras.layers.Conv2D(filters=1, kernel_size=(3, 3), strides=(1,1), padding='same', activation='sigmoid', name='decoded'),\n",
    "])"
   ],
   "execution_count": 13,
   "outputs": [
    {
     "name": "stderr",
     "output_type": "stream",
     "text": [
      "2021-11-17 23:12:40.731327: I tensorflow/core/platform/cpu_feature_guard.cc:151] This TensorFlow binary is optimized with oneAPI Deep Neural Network Library (oneDNN) to use the following CPU instructions in performance-critical operations:  AVX2 FMA\n",
      "To enable them in other operations, rebuild TensorFlow with the appropriate compiler flags.\n"
     ]
    }
   ]
  },
  {
   "cell_type": "code",
   "metadata": {
    "colab": {
     "base_uri": "https://localhost:8080/"
    },
    "id": "V04ggIQc8fUK",
    "outputId": "9029810c-4b16-4db4-f705-0b2c0e9b0925"
   },
   "source": [
    "cnn_model.summary()"
   ],
   "execution_count": 14,
   "outputs": [
    {
     "name": "stdout",
     "output_type": "stream",
     "text": [
      "Model: \"sequential\"\n",
      "_________________________________________________________________\n",
      " Layer (type)                Output Shape              Param #   \n",
      "=================================================================\n",
      " conv2d (Conv2D)             (None, 28, 28, 16)        160       \n",
      "                                                                 \n",
      " max_pooling2d (MaxPooling2D  (None, 14, 14, 16)       0         \n",
      " )                                                               \n",
      "                                                                 \n",
      " conv2d_1 (Conv2D)           (None, 14, 14, 8)         1160      \n",
      "                                                                 \n",
      " encoded (MaxPooling2D)      (None, 7, 7, 8)           0         \n",
      "                                                                 \n",
      " up_sampling2d (UpSampling2D  (None, 14, 14, 8)        0         \n",
      " )                                                               \n",
      "                                                                 \n",
      " conv2d_2 (Conv2D)           (None, 14, 14, 16)        1168      \n",
      "                                                                 \n",
      " up_sampling2d_1 (UpSampling  (None, 28, 28, 16)       0         \n",
      " 2D)                                                             \n",
      "                                                                 \n",
      " decoded (Conv2D)            (None, 28, 28, 1)         145       \n",
      "                                                                 \n",
      "=================================================================\n",
      "Total params: 2,633\n",
      "Trainable params: 2,633\n",
      "Non-trainable params: 0\n",
      "_________________________________________________________________\n"
     ]
    }
   ]
  },
  {
   "cell_type": "code",
   "metadata": {
    "id": "uTenioqn8guB"
   },
   "source": [
    "cnn_model.compile(optimizer='adam', loss='binary_crossentropy')"
   ],
   "execution_count": 15,
   "outputs": []
  },
  {
   "cell_type": "code",
   "metadata": {
    "colab": {
     "base_uri": "https://localhost:8080/"
    },
    "id": "prGDbAa28ijT",
    "outputId": "77a3d51c-15e1-43ce-cc68-6cef672e25f4"
   },
   "source": [
    "history = cnn_model.fit(x_train, x_train, batch_size=128, epochs=10, verbose=1, validation_data=(x_test, x_test))"
   ],
   "execution_count": 16,
   "outputs": [
    {
     "name": "stdout",
     "output_type": "stream",
     "text": [
      "Epoch 1/10\n",
      "469/469 [==============================] - 36s 76ms/step - loss: 0.1533 - val_loss: 0.0863\n",
      "Epoch 2/10\n",
      "469/469 [==============================] - 34s 71ms/step - loss: 0.0839 - val_loss: 0.0806\n",
      "Epoch 3/10\n",
      "469/469 [==============================] - 31s 67ms/step - loss: 0.0802 - val_loss: 0.0782\n",
      "Epoch 4/10\n",
      "469/469 [==============================] - 31s 67ms/step - loss: 0.0784 - val_loss: 0.0770\n",
      "Epoch 5/10\n",
      "469/469 [==============================] - 29s 63ms/step - loss: 0.0773 - val_loss: 0.0760\n",
      "Epoch 6/10\n",
      "469/469 [==============================] - 30s 65ms/step - loss: 0.0764 - val_loss: 0.0753\n",
      "Epoch 7/10\n",
      "469/469 [==============================] - 33s 70ms/step - loss: 0.0758 - val_loss: 0.0748\n",
      "Epoch 8/10\n",
      "469/469 [==============================] - 33s 70ms/step - loss: 0.0752 - val_loss: 0.0742\n",
      "Epoch 9/10\n",
      "469/469 [==============================] - 33s 70ms/step - loss: 0.0748 - val_loss: 0.0738\n",
      "Epoch 10/10\n",
      "469/469 [==============================] - 33s 71ms/step - loss: 0.0744 - val_loss: 0.0735\n"
     ]
    }
   ]
  },
  {
   "cell_type": "code",
   "metadata": {
    "colab": {
     "base_uri": "https://localhost:8080/",
     "height": 312
    },
    "id": "UrfUHlXn8kGh",
    "outputId": "271f8474-adb8-4832-c4e9-2a72ebf601f2"
   },
   "source": [
    "loss = history.history['loss']\n",
    "val_loss = history.history['val_loss']\n",
    "\n",
    "plt.plot(loss)\n",
    "plt.plot(val_loss)\n",
    "plt.legend(['Train', 'Validation'])\n",
    "plt.title('Train x Validation loss')\n",
    "plt.xlabel('Epochs')"
   ],
   "execution_count": 17,
   "outputs": [
    {
     "data": {
      "text/plain": "Text(0.5, 0, 'Epochs')"
     },
     "execution_count": 17,
     "metadata": {},
     "output_type": "execute_result"
    },
    {
     "data": {
      "text/plain": "<Figure size 432x288 with 1 Axes>",
      "image/png": "[encoded data removed]"
     },
     "metadata": {
      "needs_background": "light"
     },
     "output_type": "display_data"
    }
   ]
  },
  {
   "cell_type": "code",
   "metadata": {
    "colab": {
     "base_uri": "https://localhost:8080/",
     "height": 244
    },
    "id": "VYG7RrRO8vI1",
    "outputId": "663708c7-1fe4-442b-cad1-472699956f6c"
   },
   "source": [
    "n_imgs = 10\n",
    "random_imgs = np.random.choice(range(x_test.shape[0]), size=n_imgs)\n",
    "img_true = x_test[random_imgs]\n",
    "img_pred = cnn_model.predict(img_true)\n",
    "\n",
    "plt.figure(figsize=(20, 4))\n",
    "for i in range(n_imgs):\n",
    "  plt.subplot(2, n_imgs, i + 1)\n",
    "  plt.imshow(img_true[i].reshape(28, 28), cmap='gray')\n",
    "  plt.axis('off')\n",
    "\n",
    "  plt.subplot(2, n_imgs, i + 1 + n_imgs)\n",
    "  plt.imshow(img_pred[i].reshape(28, 28), cmap='gray')\n",
    "  plt.axis('off')"
   ],
   "execution_count": 18,
   "outputs": [
    {
     "data": {
      "text/plain": "<Figure size 1440x288 with 20 Axes>",
      "image/png": "[encoded data removed]"
     },
     "metadata": {
      "needs_background": "light"
     },
     "output_type": "display_data"
    }
   ]
  },
  {
   "cell_type": "markdown",
   "source": [
    "## Information Retrieval"
   ],
   "metadata": {
    "collapsed": false,
    "pycharm": {
     "name": "#%% md\n"
    }
   }
  },
  {
   "cell_type": "code",
   "metadata": {
    "id": "6eQohbaRBBNF"
   },
   "source": [
    "encoder = tf.keras.models.Model(inputs=cnn_model.input, outputs=cnn_model.get_layer(name='encoded').output)\n",
    "x_test_encoded = encoder.predict(x_test)"
   ],
   "execution_count": 109,
   "outputs": []
  },
  {
   "cell_type": "code",
   "metadata": {
    "colab": {
     "base_uri": "https://localhost:8080/"
    },
    "id": "RDFLmINMDgj2",
    "outputId": "e8db50cd-1001-4eed-c345-e6f317811642"
   },
   "source": [
    "x_test_encoded.shape"
   ],
   "execution_count": 110,
   "outputs": [
    {
     "data": {
      "text/plain": "(10000, 7, 7, 8)"
     },
     "execution_count": 110,
     "metadata": {},
     "output_type": "execute_result"
    }
   ]
  },
  {
   "cell_type": "code",
   "metadata": {
    "id": "vSlUyiJJDkC4"
   },
   "source": [
    "encodings = x_test_encoded.reshape(x_test_encoded.shape[0], -1)"
   ],
   "execution_count": 111,
   "outputs": []
  },
  {
   "cell_type": "code",
   "metadata": {
    "colab": {
     "base_uri": "https://localhost:8080/"
    },
    "id": "zLj4wLf8GNI4",
    "outputId": "9990213f-ff2b-4f7f-d4dd-7c05f204300f"
   },
   "source": [
    "encodings.shape"
   ],
   "execution_count": 112,
   "outputs": [
    {
     "data": {
      "text/plain": "(10000, 392)"
     },
     "execution_count": 112,
     "metadata": {},
     "output_type": "execute_result"
    }
   ]
  },
  {
   "cell_type": "code",
   "execution_count": 119,
   "outputs": [
    {
     "data": {
      "text/plain": "array([[0.8616288 , 0.6689726 , 0.        , ..., 0.86365795, 0.963325  ,\n        0.        ],\n       [0.8616288 , 0.6689726 , 0.        , ..., 0.86365795, 1.4791193 ,\n        0.11714597],\n       [0.8616288 , 0.6689726 , 0.        , ..., 0.86365795, 0.963325  ,\n        0.        ],\n       ...,\n       [0.8616288 , 0.6689726 , 0.        , ..., 0.86365795, 0.963325  ,\n        0.        ],\n       [0.8616288 , 0.6689726 , 0.        , ..., 0.86365795, 0.963325  ,\n        0.        ],\n       [0.8616288 , 0.6689726 , 0.        , ..., 0.86365795, 0.963325  ,\n        0.        ]], dtype=float32)"
     },
     "execution_count": 119,
     "metadata": {},
     "output_type": "execute_result"
    }
   ],
   "source": [
    "encodings"
   ],
   "metadata": {
    "collapsed": false,
    "pycharm": {
     "name": "#%%\n"
    }
   }
  },
  {
   "cell_type": "code",
   "metadata": {
    "colab": {
     "base_uri": "https://localhost:8080/"
    },
    "id": "ZnkrvLIMDq2i",
    "outputId": "86155862-b258-4128-f2a1-08826cd5224d"
   },
   "source": [
    "retriever = NearestNeighbors(n_neighbors=10, n_jobs=-1)\n",
    "retriever.fit(encodings)"
   ],
   "execution_count": 113,
   "outputs": [
    {
     "data": {
      "text/plain": "NearestNeighbors(n_jobs=-1, n_neighbors=10)"
     },
     "execution_count": 113,
     "metadata": {},
     "output_type": "execute_result"
    }
   ]
  },
  {
   "cell_type": "code",
   "metadata": {
    "id": "zRvqcZrvEFqk"
   },
   "source": [
    "img_idx = np.random.choice(range(x_test.shape[0]), size=1)\n",
    "distances, indices = retriever.kneighbors(encodings[img_idx])"
   ],
   "execution_count": 114,
   "outputs": []
  },
  {
   "cell_type": "code",
   "metadata": {
    "colab": {
     "base_uri": "https://localhost:8080/",
     "height": 168
    },
    "id": "k7MlIytHEyUN",
    "outputId": "640d20c3-79f2-42cb-a670-4d6d0c90a199"
   },
   "source": [
    "plt.figure(figsize=(10,4))\n",
    "plt.imshow(x_test[img_idx].squeeze(), cmap='gray')\n",
    "plt.axis('off');"
   ],
   "execution_count": 115,
   "outputs": [
    {
     "data": {
      "text/plain": "<Figure size 720x288 with 1 Axes>",
      "image/png": "[encoded data removed]"
     },
     "metadata": {
      "needs_background": "light"
     },
     "output_type": "display_data"
    }
   ]
  },
  {
   "cell_type": "code",
   "metadata": {
    "id": "dpCg4_d3Gx-l"
   },
   "source": [
    "fig, ax = plt.subplots(nrows=1, ncols=indices.shape[1], figsize=(16, 6), tight_layout=True)\n",
    "\n",
    "for idx, img_idx in enumerate(indices[0]):\n",
    "    ax[idx].imshow(x_test[img_idx].squeeze(), cmap='gray')\n",
    "    ax[idx].axis('off')"
   ],
   "execution_count": 116,
   "outputs": [
    {
     "data": {
      "text/plain": "<Figure size 1152x432 with 10 Axes>",
      "image/png": "[encoded data removed]"
     },
     "metadata": {
      "needs_background": "light"
     },
     "output_type": "display_data"
    }
   ]
  },
  {
   "cell_type": "code",
   "execution_count": null,
   "outputs": [],
   "source": [],
   "metadata": {
    "collapsed": false,
    "pycharm": {
     "name": "#%%\n"
    }
   }
  },
  {
   "cell_type": "code",
   "execution_count": null,
   "outputs": [],
   "source": [],
   "metadata": {
    "collapsed": false,
    "pycharm": {
     "name": "#%%\n"
    }
   }
  },
  {
   "cell_type": "code",
   "execution_count": null,
   "outputs": [],
   "source": [],
   "metadata": {
    "collapsed": false,
    "pycharm": {
     "name": "#%%\n"
    }
   }
  }
 ]
}