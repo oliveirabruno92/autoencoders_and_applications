{
 "cells": [
  {
   "cell_type": "markdown",
   "source": [
    "# Autoencoder for Recommendation Systems\n",
    "---"
   ],
   "metadata": {
    "collapsed": false,
    "pycharm": {
     "name": "#%% md\n"
    }
   }
  },
  {
   "cell_type": "code",
   "execution_count": 502,
   "metadata": {
    "collapsed": true
   },
   "outputs": [],
   "source": [
    "import numpy as np\n",
    "import pandas as pd\n",
    "from sklearn.model_selection import train_test_split\n",
    "\n",
    "import tensorflow as tf\n",
    "\n",
    "import matplotlib.pyplot as plt\n",
    "%matplotlib inline\n",
    "\n",
    "from sklearn.preprocessing import MinMaxScaler, StandardScaler\n",
    "from sklearn.metrics import mean_squared_error"
   ]
  },
  {
   "cell_type": "code",
   "execution_count": 435,
   "outputs": [],
   "source": [
    "ratings = pd.read_csv('../data/recommendation_system/ratings.csv')\n",
    "movies = pd.read_csv('../data/recommendation_system/movies.csv')"
   ],
   "metadata": {
    "collapsed": false,
    "pycharm": {
     "name": "#%%\n"
    }
   }
  },
  {
   "cell_type": "code",
   "execution_count": 436,
   "outputs": [
    {
     "data": {
      "text/plain": "   userId  movieId  rating  timestamp\n0       1        1     4.0  964982703\n1       1        3     4.0  964981247\n2       1        6     4.0  964982224\n3       1       47     5.0  964983815\n4       1       50     5.0  964982931",
      "text/html": "<div>\n<style scoped>\n    .dataframe tbody tr th:only-of-type {\n        vertical-align: middle;\n    }\n\n    .dataframe tbody tr th {\n        vertical-align: top;\n    }\n\n    .dataframe thead th {\n        text-align: right;\n    }\n</style>\n<table border=\"1\" class=\"dataframe\">\n  <thead>\n    <tr style=\"text-align: right;\">\n      <th></th>\n      <th>userId</th>\n      <th>movieId</th>\n      <th>rating</th>\n      <th>timestamp</th>\n    </tr>\n  </thead>\n  <tbody>\n    <tr>\n      <th>0</th>\n      <td>1</td>\n      <td>1</td>\n      <td>4.0</td>\n      <td>964982703</td>\n    </tr>\n    <tr>\n      <th>1</th>\n      <td>1</td>\n      <td>3</td>\n      <td>4.0</td>\n      <td>964981247</td>\n    </tr>\n    <tr>\n      <th>2</th>\n      <td>1</td>\n      <td>6</td>\n      <td>4.0</td>\n      <td>964982224</td>\n    </tr>\n    <tr>\n      <th>3</th>\n      <td>1</td>\n      <td>47</td>\n      <td>5.0</td>\n      <td>964983815</td>\n    </tr>\n    <tr>\n      <th>4</th>\n      <td>1</td>\n      <td>50</td>\n      <td>5.0</td>\n      <td>964982931</td>\n    </tr>\n  </tbody>\n</table>\n</div>"
     },
     "execution_count": 436,
     "metadata": {},
     "output_type": "execute_result"
    }
   ],
   "source": [
    "ratings.head()"
   ],
   "metadata": {
    "collapsed": false,
    "pycharm": {
     "name": "#%%\n"
    }
   }
  },
  {
   "cell_type": "code",
   "execution_count": 437,
   "outputs": [
    {
     "data": {
      "text/plain": "(100836, 4)"
     },
     "execution_count": 437,
     "metadata": {},
     "output_type": "execute_result"
    }
   ],
   "source": [
    "ratings.shape"
   ],
   "metadata": {
    "collapsed": false,
    "pycharm": {
     "name": "#%%\n"
    }
   }
  },
  {
   "cell_type": "code",
   "execution_count": 438,
   "outputs": [],
   "source": [
    "data = pd.pivot_table(\n",
    "    data=ratings,\n",
    "    columns='movieId',\n",
    "    index='userId',\n",
    "    values='rating'\n",
    ")"
   ],
   "metadata": {
    "collapsed": false,
    "pycharm": {
     "name": "#%%\n"
    }
   }
  },
  {
   "cell_type": "code",
   "execution_count": 439,
   "outputs": [
    {
     "data": {
      "text/plain": "movieId  1       2       3       4       5       6       7       8       \\\nuserId                                                                    \n1           4.0     NaN     4.0     NaN     NaN     4.0     NaN     NaN   \n2           NaN     NaN     NaN     NaN     NaN     NaN     NaN     NaN   \n3           NaN     NaN     NaN     NaN     NaN     NaN     NaN     NaN   \n4           NaN     NaN     NaN     NaN     NaN     NaN     NaN     NaN   \n5           4.0     NaN     NaN     NaN     NaN     NaN     NaN     NaN   \n\nmovieId  9       10      ...  193565  193567  193571  193573  193579  193581  \\\nuserId                   ...                                                   \n1           NaN     NaN  ...     NaN     NaN     NaN     NaN     NaN     NaN   \n2           NaN     NaN  ...     NaN     NaN     NaN     NaN     NaN     NaN   \n3           NaN     NaN  ...     NaN     NaN     NaN     NaN     NaN     NaN   \n4           NaN     NaN  ...     NaN     NaN     NaN     NaN     NaN     NaN   \n5           NaN     NaN  ...     NaN     NaN     NaN     NaN     NaN     NaN   \n\nmovieId  193583  193585  193587  193609  \nuserId                                   \n1           NaN     NaN     NaN     NaN  \n2           NaN     NaN     NaN     NaN  \n3           NaN     NaN     NaN     NaN  \n4           NaN     NaN     NaN     NaN  \n5           NaN     NaN     NaN     NaN  \n\n[5 rows x 9724 columns]",
      "text/html": "<div>\n<style scoped>\n    .dataframe tbody tr th:only-of-type {\n        vertical-align: middle;\n    }\n\n    .dataframe tbody tr th {\n        vertical-align: top;\n    }\n\n    .dataframe thead th {\n        text-align: right;\n    }\n</style>\n<table border=\"1\" class=\"dataframe\">\n  <thead>\n    <tr style=\"text-align: right;\">\n      <th>movieId</th>\n      <th>1</th>\n      <th>2</th>\n      <th>3</th>\n      <th>4</th>\n      <th>5</th>\n      <th>6</th>\n      <th>7</th>\n      <th>8</th>\n      <th>9</th>\n      <th>10</th>\n      <th>...</th>\n      <th>193565</th>\n      <th>193567</th>\n      <th>193571</th>\n      <th>193573</th>\n      <th>193579</th>\n      <th>193581</th>\n      <th>193583</th>\n      <th>193585</th>\n      <th>193587</th>\n      <th>193609</th>\n    </tr>\n    <tr>\n      <th>userId</th>\n      <th></th>\n      <th></th>\n      <th></th>\n      <th></th>\n      <th></th>\n      <th></th>\n      <th></th>\n      <th></th>\n      <th></th>\n      <th></th>\n      <th></th>\n      <th></th>\n      <th></th>\n      <th></th>\n      <th></th>\n      <th></th>\n      <th></th>\n      <th></th>\n      <th></th>\n      <th></th>\n      <th></th>\n    </tr>\n  </thead>\n  <tbody>\n    <tr>\n      <th>1</th>\n      <td>4.0</td>\n      <td>NaN</td>\n      <td>4.0</td>\n      <td>NaN</td>\n      <td>NaN</td>\n      <td>4.0</td>\n      <td>NaN</td>\n      <td>NaN</td>\n      <td>NaN</td>\n      <td>NaN</td>\n      <td>...</td>\n      <td>NaN</td>\n      <td>NaN</td>\n      <td>NaN</td>\n      <td>NaN</td>\n      <td>NaN</td>\n      <td>NaN</td>\n      <td>NaN</td>\n      <td>NaN</td>\n      <td>NaN</td>\n      <td>NaN</td>\n    </tr>\n    <tr>\n      <th>2</th>\n      <td>NaN</td>\n      <td>NaN</td>\n      <td>NaN</td>\n      <td>NaN</td>\n      <td>NaN</td>\n      <td>NaN</td>\n      <td>NaN</td>\n      <td>NaN</td>\n      <td>NaN</td>\n      <td>NaN</td>\n      <td>...</td>\n      <td>NaN</td>\n      <td>NaN</td>\n      <td>NaN</td>\n      <td>NaN</td>\n      <td>NaN</td>\n      <td>NaN</td>\n      <td>NaN</td>\n      <td>NaN</td>\n      <td>NaN</td>\n      <td>NaN</td>\n    </tr>\n    <tr>\n      <th>3</th>\n      <td>NaN</td>\n      <td>NaN</td>\n      <td>NaN</td>\n      <td>NaN</td>\n      <td>NaN</td>\n      <td>NaN</td>\n      <td>NaN</td>\n      <td>NaN</td>\n      <td>NaN</td>\n      <td>NaN</td>\n      <td>...</td>\n      <td>NaN</td>\n      <td>NaN</td>\n      <td>NaN</td>\n      <td>NaN</td>\n      <td>NaN</td>\n      <td>NaN</td>\n      <td>NaN</td>\n      <td>NaN</td>\n      <td>NaN</td>\n      <td>NaN</td>\n    </tr>\n    <tr>\n      <th>4</th>\n      <td>NaN</td>\n      <td>NaN</td>\n      <td>NaN</td>\n      <td>NaN</td>\n      <td>NaN</td>\n      <td>NaN</td>\n      <td>NaN</td>\n      <td>NaN</td>\n      <td>NaN</td>\n      <td>NaN</td>\n      <td>...</td>\n      <td>NaN</td>\n      <td>NaN</td>\n      <td>NaN</td>\n      <td>NaN</td>\n      <td>NaN</td>\n      <td>NaN</td>\n      <td>NaN</td>\n      <td>NaN</td>\n      <td>NaN</td>\n      <td>NaN</td>\n    </tr>\n    <tr>\n      <th>5</th>\n      <td>4.0</td>\n      <td>NaN</td>\n      <td>NaN</td>\n      <td>NaN</td>\n      <td>NaN</td>\n      <td>NaN</td>\n      <td>NaN</td>\n      <td>NaN</td>\n      <td>NaN</td>\n      <td>NaN</td>\n      <td>...</td>\n      <td>NaN</td>\n      <td>NaN</td>\n      <td>NaN</td>\n      <td>NaN</td>\n      <td>NaN</td>\n      <td>NaN</td>\n      <td>NaN</td>\n      <td>NaN</td>\n      <td>NaN</td>\n      <td>NaN</td>\n    </tr>\n  </tbody>\n</table>\n<p>5 rows × 9724 columns</p>\n</div>"
     },
     "execution_count": 439,
     "metadata": {},
     "output_type": "execute_result"
    }
   ],
   "source": [
    "data.head()"
   ],
   "metadata": {
    "collapsed": false,
    "pycharm": {
     "name": "#%%\n"
    }
   }
  },
  {
   "cell_type": "code",
   "execution_count": 440,
   "outputs": [],
   "source": [
    "def sparsity_calculation(data):\n",
    "    data = np.nan_to_num(data)\n",
    "    return round(1. - np.count_nonzero(data) / data.size, 3) * 100"
   ],
   "metadata": {
    "collapsed": false,
    "pycharm": {
     "name": "#%%\n"
    }
   }
  },
  {
   "cell_type": "code",
   "execution_count": 441,
   "outputs": [
    {
     "data": {
      "text/plain": "98.3"
     },
     "execution_count": 441,
     "metadata": {},
     "output_type": "execute_result"
    }
   ],
   "source": [
    "sparsity_calculation(data)"
   ],
   "metadata": {
    "collapsed": false,
    "pycharm": {
     "name": "#%%\n"
    }
   }
  },
  {
   "cell_type": "code",
   "execution_count": 442,
   "outputs": [
    {
     "data": {
      "text/plain": "StandardScaler()"
     },
     "execution_count": 442,
     "metadata": {},
     "output_type": "execute_result"
    }
   ],
   "source": [
    "scaler = StandardScaler()\n",
    "scaler.fit(data)"
   ],
   "metadata": {
    "collapsed": false,
    "pycharm": {
     "name": "#%%\n"
    }
   }
  },
  {
   "cell_type": "code",
   "execution_count": 443,
   "outputs": [],
   "source": [
    "data_scaled = pd.DataFrame(scaler.transform(data), index=data.index, columns=data.columns).fillna(0)"
   ],
   "metadata": {
    "collapsed": false,
    "pycharm": {
     "name": "#%%\n"
    }
   }
  },
  {
   "cell_type": "code",
   "execution_count": 444,
   "outputs": [
    {
     "data": {
      "text/plain": "movieId    1       2         3       4       5         6       7       8       \\\nuserId                                                                          \n1        0.094931     0.0  0.708752     0.0     0.0  0.066307     0.0     0.0   \n2        0.000000     0.0  0.000000     0.0     0.0  0.000000     0.0     0.0   \n3        0.000000     0.0  0.000000     0.0     0.0  0.000000     0.0     0.0   \n4        0.000000     0.0  0.000000     0.0     0.0  0.000000     0.0     0.0   \n5        0.094931     0.0  0.000000     0.0     0.0  0.000000     0.0     0.0   \n\nmovieId  9       10      ...  193565  193567  193571  193573  193579  193581  \\\nuserId                   ...                                                   \n1           0.0     0.0  ...     0.0     0.0     0.0     0.0     0.0     0.0   \n2           0.0     0.0  ...     0.0     0.0     0.0     0.0     0.0     0.0   \n3           0.0     0.0  ...     0.0     0.0     0.0     0.0     0.0     0.0   \n4           0.0     0.0  ...     0.0     0.0     0.0     0.0     0.0     0.0   \n5           0.0     0.0  ...     0.0     0.0     0.0     0.0     0.0     0.0   \n\nmovieId  193583  193585  193587  193609  \nuserId                                   \n1           0.0     0.0     0.0     0.0  \n2           0.0     0.0     0.0     0.0  \n3           0.0     0.0     0.0     0.0  \n4           0.0     0.0     0.0     0.0  \n5           0.0     0.0     0.0     0.0  \n\n[5 rows x 9724 columns]",
      "text/html": "<div>\n<style scoped>\n    .dataframe tbody tr th:only-of-type {\n        vertical-align: middle;\n    }\n\n    .dataframe tbody tr th {\n        vertical-align: top;\n    }\n\n    .dataframe thead th {\n        text-align: right;\n    }\n</style>\n<table border=\"1\" class=\"dataframe\">\n  <thead>\n    <tr style=\"text-align: right;\">\n      <th>movieId</th>\n      <th>1</th>\n      <th>2</th>\n      <th>3</th>\n      <th>4</th>\n      <th>5</th>\n      <th>6</th>\n      <th>7</th>\n      <th>8</th>\n      <th>9</th>\n      <th>10</th>\n      <th>...</th>\n      <th>193565</th>\n      <th>193567</th>\n      <th>193571</th>\n      <th>193573</th>\n      <th>193579</th>\n      <th>193581</th>\n      <th>193583</th>\n      <th>193585</th>\n      <th>193587</th>\n      <th>193609</th>\n    </tr>\n    <tr>\n      <th>userId</th>\n      <th></th>\n      <th></th>\n      <th></th>\n      <th></th>\n      <th></th>\n      <th></th>\n      <th></th>\n      <th></th>\n      <th></th>\n      <th></th>\n      <th></th>\n      <th></th>\n      <th></th>\n      <th></th>\n      <th></th>\n      <th></th>\n      <th></th>\n      <th></th>\n      <th></th>\n      <th></th>\n      <th></th>\n    </tr>\n  </thead>\n  <tbody>\n    <tr>\n      <th>1</th>\n      <td>0.094931</td>\n      <td>0.0</td>\n      <td>0.708752</td>\n      <td>0.0</td>\n      <td>0.0</td>\n      <td>0.066307</td>\n      <td>0.0</td>\n      <td>0.0</td>\n      <td>0.0</td>\n      <td>0.0</td>\n      <td>...</td>\n      <td>0.0</td>\n      <td>0.0</td>\n      <td>0.0</td>\n      <td>0.0</td>\n      <td>0.0</td>\n      <td>0.0</td>\n      <td>0.0</td>\n      <td>0.0</td>\n      <td>0.0</td>\n      <td>0.0</td>\n    </tr>\n    <tr>\n      <th>2</th>\n      <td>0.000000</td>\n      <td>0.0</td>\n      <td>0.000000</td>\n      <td>0.0</td>\n      <td>0.0</td>\n      <td>0.000000</td>\n      <td>0.0</td>\n      <td>0.0</td>\n      <td>0.0</td>\n      <td>0.0</td>\n      <td>...</td>\n      <td>0.0</td>\n      <td>0.0</td>\n      <td>0.0</td>\n      <td>0.0</td>\n      <td>0.0</td>\n      <td>0.0</td>\n      <td>0.0</td>\n      <td>0.0</td>\n      <td>0.0</td>\n      <td>0.0</td>\n    </tr>\n    <tr>\n      <th>3</th>\n      <td>0.000000</td>\n      <td>0.0</td>\n      <td>0.000000</td>\n      <td>0.0</td>\n      <td>0.0</td>\n      <td>0.000000</td>\n      <td>0.0</td>\n      <td>0.0</td>\n      <td>0.0</td>\n      <td>0.0</td>\n      <td>...</td>\n      <td>0.0</td>\n      <td>0.0</td>\n      <td>0.0</td>\n      <td>0.0</td>\n      <td>0.0</td>\n      <td>0.0</td>\n      <td>0.0</td>\n      <td>0.0</td>\n      <td>0.0</td>\n      <td>0.0</td>\n    </tr>\n    <tr>\n      <th>4</th>\n      <td>0.000000</td>\n      <td>0.0</td>\n      <td>0.000000</td>\n      <td>0.0</td>\n      <td>0.0</td>\n      <td>0.000000</td>\n      <td>0.0</td>\n      <td>0.0</td>\n      <td>0.0</td>\n      <td>0.0</td>\n      <td>...</td>\n      <td>0.0</td>\n      <td>0.0</td>\n      <td>0.0</td>\n      <td>0.0</td>\n      <td>0.0</td>\n      <td>0.0</td>\n      <td>0.0</td>\n      <td>0.0</td>\n      <td>0.0</td>\n      <td>0.0</td>\n    </tr>\n    <tr>\n      <th>5</th>\n      <td>0.094931</td>\n      <td>0.0</td>\n      <td>0.000000</td>\n      <td>0.0</td>\n      <td>0.0</td>\n      <td>0.000000</td>\n      <td>0.0</td>\n      <td>0.0</td>\n      <td>0.0</td>\n      <td>0.0</td>\n      <td>...</td>\n      <td>0.0</td>\n      <td>0.0</td>\n      <td>0.0</td>\n      <td>0.0</td>\n      <td>0.0</td>\n      <td>0.0</td>\n      <td>0.0</td>\n      <td>0.0</td>\n      <td>0.0</td>\n      <td>0.0</td>\n    </tr>\n  </tbody>\n</table>\n<p>5 rows × 9724 columns</p>\n</div>"
     },
     "execution_count": 444,
     "metadata": {},
     "output_type": "execute_result"
    }
   ],
   "source": [
    "data_scaled.head()"
   ],
   "metadata": {
    "collapsed": false,
    "pycharm": {
     "name": "#%%\n"
    }
   }
  },
  {
   "cell_type": "code",
   "execution_count": 463,
   "outputs": [],
   "source": [
    "model = tf.keras.Sequential([\n",
    "    #encoder\n",
    "    tf.keras.layers.Dense(units=512, activation='relu', name='enc_1', input_dim=data_scaled.shape[1]),\n",
    "    tf.keras.layers.BatchNormalization(name='batch_1'),\n",
    "    tf.keras.layers.Dropout(0.5, name='drop_1'),\n",
    "    tf.keras.layers.Dense(units=256, activation='relu', name='enc_2'),\n",
    "    tf.keras.layers.BatchNormalization(name='batch_2'),\n",
    "    tf.keras.layers.Dropout(0.5, name='drop_2'),\n",
    "\n",
    "    #bottleneck\n",
    "    tf.keras.layers.Dense(units=128, activation='relu', name='embeddings'),\n",
    "\n",
    "    #decoder\n",
    "    tf.keras.layers.Dense(units=256, activation='relu', name='dec_1'),\n",
    "    tf.keras.layers.BatchNormalization(name='batch_3'),\n",
    "    tf.keras.layers.Dropout(0.5, name='drop_3'),\n",
    "    tf.keras.layers.Dense(units=512, activation='relu', name='dec_2'),\n",
    "    tf.keras.layers.BatchNormalization(name='batch_4'),\n",
    "    tf.keras.layers.Dropout(0.5, name='drop_4'),\n",
    "    tf.keras.layers.Dense(units=data_scaled.shape[1], activation='relu', name='user_rating_pred')\n",
    "])"
   ],
   "metadata": {
    "collapsed": false,
    "pycharm": {
     "name": "#%%\n"
    }
   }
  },
  {
   "cell_type": "code",
   "execution_count": 464,
   "outputs": [
    {
     "name": "stdout",
     "output_type": "stream",
     "text": [
      "Model: \"sequential_6\"\n",
      "_________________________________________________________________\n",
      " Layer (type)                Output Shape              Param #   \n",
      "=================================================================\n",
      " enc_1 (Dense)               (None, 512)               4979200   \n",
      "                                                                 \n",
      " batch_1 (BatchNormalization  (None, 512)              2048      \n",
      " )                                                               \n",
      "                                                                 \n",
      " drop_1 (Dropout)            (None, 512)               0         \n",
      "                                                                 \n",
      " enc_2 (Dense)               (None, 256)               131328    \n",
      "                                                                 \n",
      " batch_2 (BatchNormalization  (None, 256)              1024      \n",
      " )                                                               \n",
      "                                                                 \n",
      " drop_2 (Dropout)            (None, 256)               0         \n",
      "                                                                 \n",
      " embeddings (Dense)          (None, 128)               32896     \n",
      "                                                                 \n",
      " dec_1 (Dense)               (None, 256)               33024     \n",
      "                                                                 \n",
      " batch_3 (BatchNormalization  (None, 256)              1024      \n",
      " )                                                               \n",
      "                                                                 \n",
      " drop_3 (Dropout)            (None, 256)               0         \n",
      "                                                                 \n",
      " dec_2 (Dense)               (None, 512)               131584    \n",
      "                                                                 \n",
      " batch_4 (BatchNormalization  (None, 512)              2048      \n",
      " )                                                               \n",
      "                                                                 \n",
      " drop_4 (Dropout)            (None, 512)               0         \n",
      "                                                                 \n",
      " user_rating_pred (Dense)    (None, 9724)              4988412   \n",
      "                                                                 \n",
      "=================================================================\n",
      "Total params: 10,302,588\n",
      "Trainable params: 10,299,516\n",
      "Non-trainable params: 3,072\n",
      "_________________________________________________________________\n"
     ]
    }
   ],
   "source": [
    "model.summary()"
   ],
   "metadata": {
    "collapsed": false,
    "pycharm": {
     "name": "#%%\n"
    }
   }
  },
  {
   "cell_type": "code",
   "execution_count": 465,
   "outputs": [],
   "source": [
    "model.compile(optimizer=tf.keras.optimizers.Adam(learning_rate=1e-4), loss='mse')"
   ],
   "metadata": {
    "collapsed": false,
    "pycharm": {
     "name": "#%%\n"
    }
   }
  },
  {
   "cell_type": "code",
   "execution_count": 466,
   "outputs": [],
   "source": [
    "callback = tf.keras.callbacks.EarlyStopping(monitor='loss', patience=10)"
   ],
   "metadata": {
    "collapsed": false,
    "pycharm": {
     "name": "#%%\n"
    }
   }
  },
  {
   "cell_type": "code",
   "execution_count": 467,
   "outputs": [
    {
     "name": "stdout",
     "output_type": "stream",
     "text": [
      "Epoch 1/50\n",
      "9/9 [==============================] - 2s 81ms/step - loss: 0.1128 - val_loss: 0.0246\n",
      "Epoch 2/50\n",
      "9/9 [==============================] - 1s 60ms/step - loss: 0.1078 - val_loss: 0.0247\n",
      "Epoch 3/50\n",
      "9/9 [==============================] - 1s 62ms/step - loss: 0.1016 - val_loss: 0.0249\n",
      "Epoch 4/50\n",
      "9/9 [==============================] - 1s 66ms/step - loss: 0.0971 - val_loss: 0.0252\n",
      "Epoch 5/50\n",
      "9/9 [==============================] - 1s 61ms/step - loss: 0.0926 - val_loss: 0.0256\n",
      "Epoch 6/50\n",
      "9/9 [==============================] - 1s 62ms/step - loss: 0.0887 - val_loss: 0.0262\n",
      "Epoch 7/50\n",
      "9/9 [==============================] - 1s 67ms/step - loss: 0.0844 - val_loss: 0.0270\n",
      "Epoch 8/50\n",
      "9/9 [==============================] - 1s 67ms/step - loss: 0.0814 - val_loss: 0.0279\n",
      "Epoch 9/50\n",
      "9/9 [==============================] - 0s 54ms/step - loss: 0.0773 - val_loss: 0.0289\n",
      "Epoch 10/50\n",
      "9/9 [==============================] - 0s 53ms/step - loss: 0.0750 - val_loss: 0.0299\n",
      "Epoch 11/50\n",
      "9/9 [==============================] - 1s 71ms/step - loss: 0.0708 - val_loss: 0.0307\n",
      "Epoch 12/50\n",
      "9/9 [==============================] - 1s 57ms/step - loss: 0.0686 - val_loss: 0.0314\n",
      "Epoch 13/50\n",
      "9/9 [==============================] - 1s 60ms/step - loss: 0.0652 - val_loss: 0.0320\n",
      "Epoch 14/50\n",
      "9/9 [==============================] - 1s 62ms/step - loss: 0.0633 - val_loss: 0.0324\n",
      "Epoch 15/50\n",
      "9/9 [==============================] - 1s 61ms/step - loss: 0.0605 - val_loss: 0.0328\n",
      "Epoch 16/50\n",
      "9/9 [==============================] - 0s 55ms/step - loss: 0.0580 - val_loss: 0.0329\n",
      "Epoch 17/50\n",
      "9/9 [==============================] - 1s 63ms/step - loss: 0.0562 - val_loss: 0.0330\n",
      "Epoch 18/50\n",
      "9/9 [==============================] - 1s 66ms/step - loss: 0.0545 - val_loss: 0.0331\n",
      "Epoch 19/50\n",
      "9/9 [==============================] - 1s 66ms/step - loss: 0.0517 - val_loss: 0.0330\n",
      "Epoch 20/50\n",
      "9/9 [==============================] - 1s 69ms/step - loss: 0.0496 - val_loss: 0.0330\n",
      "Epoch 21/50\n",
      "9/9 [==============================] - 1s 60ms/step - loss: 0.0474 - val_loss: 0.0329\n",
      "Epoch 22/50\n",
      "9/9 [==============================] - 1s 70ms/step - loss: 0.0457 - val_loss: 0.0326\n",
      "Epoch 23/50\n",
      "9/9 [==============================] - 1s 58ms/step - loss: 0.0437 - val_loss: 0.0322\n",
      "Epoch 24/50\n",
      "9/9 [==============================] - 1s 60ms/step - loss: 0.0429 - val_loss: 0.0317\n",
      "Epoch 25/50\n",
      "9/9 [==============================] - 1s 59ms/step - loss: 0.0408 - val_loss: 0.0312\n",
      "Epoch 26/50\n",
      "9/9 [==============================] - 1s 57ms/step - loss: 0.0402 - val_loss: 0.0309\n",
      "Epoch 27/50\n",
      "9/9 [==============================] - 1s 60ms/step - loss: 0.0389 - val_loss: 0.0305\n",
      "Epoch 28/50\n",
      "9/9 [==============================] - 1s 57ms/step - loss: 0.0373 - val_loss: 0.0302\n",
      "Epoch 29/50\n",
      "9/9 [==============================] - 1s 56ms/step - loss: 0.0360 - val_loss: 0.0299\n",
      "Epoch 30/50\n",
      "9/9 [==============================] - 1s 65ms/step - loss: 0.0353 - val_loss: 0.0295\n",
      "Epoch 31/50\n",
      "9/9 [==============================] - 1s 58ms/step - loss: 0.0353 - val_loss: 0.0289\n",
      "Epoch 32/50\n",
      "9/9 [==============================] - 1s 63ms/step - loss: 0.0332 - val_loss: 0.0284\n",
      "Epoch 33/50\n",
      "9/9 [==============================] - 1s 69ms/step - loss: 0.0323 - val_loss: 0.0282\n",
      "Epoch 34/50\n",
      "9/9 [==============================] - 1s 67ms/step - loss: 0.0312 - val_loss: 0.0278\n",
      "Epoch 35/50\n",
      "9/9 [==============================] - 1s 70ms/step - loss: 0.0301 - val_loss: 0.0277\n",
      "Epoch 36/50\n",
      "9/9 [==============================] - 1s 66ms/step - loss: 0.0300 - val_loss: 0.0276\n",
      "Epoch 37/50\n",
      "9/9 [==============================] - 1s 57ms/step - loss: 0.0294 - val_loss: 0.0272\n",
      "Epoch 38/50\n",
      "9/9 [==============================] - 1s 57ms/step - loss: 0.0284 - val_loss: 0.0268\n",
      "Epoch 39/50\n",
      "9/9 [==============================] - 1s 59ms/step - loss: 0.0278 - val_loss: 0.0266\n",
      "Epoch 40/50\n",
      "9/9 [==============================] - 1s 62ms/step - loss: 0.0278 - val_loss: 0.0265\n",
      "Epoch 41/50\n",
      "9/9 [==============================] - 1s 58ms/step - loss: 0.0265 - val_loss: 0.0263\n",
      "Epoch 42/50\n",
      "9/9 [==============================] - 1s 71ms/step - loss: 0.0259 - val_loss: 0.0262\n",
      "Epoch 43/50\n",
      "9/9 [==============================] - 1s 81ms/step - loss: 0.0256 - val_loss: 0.0260\n",
      "Epoch 44/50\n",
      "9/9 [==============================] - 1s 65ms/step - loss: 0.0244 - val_loss: 0.0259\n",
      "Epoch 45/50\n",
      "9/9 [==============================] - 1s 61ms/step - loss: 0.0247 - val_loss: 0.0257\n",
      "Epoch 46/50\n",
      "9/9 [==============================] - 1s 68ms/step - loss: 0.0241 - val_loss: 0.0256\n",
      "Epoch 47/50\n",
      "9/9 [==============================] - 1s 66ms/step - loss: 0.0239 - val_loss: 0.0255\n",
      "Epoch 48/50\n",
      "9/9 [==============================] - 1s 67ms/step - loss: 0.0232 - val_loss: 0.0254\n",
      "Epoch 49/50\n",
      "9/9 [==============================] - 1s 78ms/step - loss: 0.0232 - val_loss: 0.0253\n",
      "Epoch 50/50\n",
      "9/9 [==============================] - 1s 59ms/step - loss: 0.0232 - val_loss: 0.0252\n"
     ]
    }
   ],
   "source": [
    "history = model.fit(\n",
    "    data_scaled,\n",
    "    data_scaled,\n",
    "    validation_split=0.1,\n",
    "    epochs=50,\n",
    "    batch_size=64,\n",
    "    callbacks=[callback]\n",
    ")"
   ],
   "metadata": {
    "collapsed": false,
    "pycharm": {
     "name": "#%%\n"
    }
   }
  },
  {
   "cell_type": "code",
   "execution_count": 468,
   "outputs": [
    {
     "data": {
      "text/plain": "<matplotlib.legend.Legend at 0x150452700>"
     },
     "execution_count": 468,
     "metadata": {},
     "output_type": "execute_result"
    },
    {
     "data": {
      "text/plain": "<Figure size 1440x432 with 1 Axes>",
      "image/png": "[encoded data removed]"
     },
     "metadata": {
      "needs_background": "light"
     },
     "output_type": "display_data"
    }
   ],
   "source": [
    "epoch_loss = history.history['loss']\n",
    "epoch_val_loss = history.history['val_loss']\n",
    "\n",
    "plt.figure(figsize=(20,6))\n",
    "plt.plot(range(0,len(epoch_loss)), epoch_loss, 'b-', linewidth=2, label='Train Loss')\n",
    "plt.plot(range(0,len(epoch_val_loss)), epoch_val_loss, 'r-', linewidth=2, label='Val Loss')\n",
    "plt.title('Evolution of loss on train & validation datasets over epochs')\n",
    "plt.legend(loc='best')"
   ],
   "metadata": {
    "collapsed": false,
    "pycharm": {
     "name": "#%%\n"
    }
   }
  },
  {
   "cell_type": "code",
   "execution_count": 480,
   "outputs": [],
   "source": [
    "predictions = model.predict(data_scaled)"
   ],
   "metadata": {
    "collapsed": false,
    "pycharm": {
     "name": "#%%\n"
    }
   }
  },
  {
   "cell_type": "code",
   "execution_count": 481,
   "outputs": [],
   "source": [
    "predictions = pd.DataFrame(scaler.inverse_transform(predictions), columns=data_scaled.columns, index=data_scaled.index)"
   ],
   "metadata": {
    "collapsed": false,
    "pycharm": {
     "name": "#%%\n"
    }
   }
  },
  {
   "cell_type": "code",
   "execution_count": 482,
   "outputs": [
    {
     "data": {
      "text/plain": "movieId    1         2         3         4         5         6         7       \\\nuserId                                                                          \n1        3.977975  3.489798  3.310902  2.379281  3.104244  3.980164  3.228327   \n2        3.969248  3.486055  3.286455  2.391527  3.125786  4.001696  3.205983   \n3        3.973889  3.480745  3.294134  2.391290  3.122657  3.993728  3.208127   \n4        3.993111  3.472938  3.305927  2.387459  3.135081  4.000187  3.206925   \n5        3.969837  3.477237  3.286468  2.397398  3.129447  4.001042  3.202674   \n\nmovieId    8         9         10      ...  193565    193567    193571  \\\nuserId                                 ...                               \n1        2.908198  3.151192  3.580476  ...     3.5  3.054390  4.016104   \n2        2.903627  3.142722  3.557061  ...     3.5  3.055744  4.003867   \n3        2.903424  3.142411  3.567183  ...     3.5  3.053190  4.002650   \n4        2.908830  3.142813  3.572953  ...     3.5  3.043416  4.000000   \n5        2.904456  3.135589  3.554588  ...     3.5  3.056362  4.004320   \n\nmovieId    193573  193579    193581    193583    193585    193587    193609  \nuserId                                                                       \n1        4.036620     3.5  4.010660  3.543392  3.528217  3.531490  4.037915  \n2        4.023722     3.5  4.007668  3.535733  3.516908  3.528641  4.030457  \n3        4.026421     3.5  4.009479  3.539331  3.518969  3.528248  4.033315  \n4        4.015167     3.5  4.007619  3.548050  3.517878  3.524243  4.036775  \n5        4.022439     3.5  4.007188  3.535753  3.515093  3.529944  4.034026  \n\n[5 rows x 9724 columns]",
      "text/html": "<div>\n<style scoped>\n    .dataframe tbody tr th:only-of-type {\n        vertical-align: middle;\n    }\n\n    .dataframe tbody tr th {\n        vertical-align: top;\n    }\n\n    .dataframe thead th {\n        text-align: right;\n    }\n</style>\n<table border=\"1\" class=\"dataframe\">\n  <thead>\n    <tr style=\"text-align: right;\">\n      <th>movieId</th>\n      <th>1</th>\n      <th>2</th>\n      <th>3</th>\n      <th>4</th>\n      <th>5</th>\n      <th>6</th>\n      <th>7</th>\n      <th>8</th>\n      <th>9</th>\n      <th>10</th>\n      <th>...</th>\n      <th>193565</th>\n      <th>193567</th>\n      <th>193571</th>\n      <th>193573</th>\n      <th>193579</th>\n      <th>193581</th>\n      <th>193583</th>\n      <th>193585</th>\n      <th>193587</th>\n      <th>193609</th>\n    </tr>\n    <tr>\n      <th>userId</th>\n      <th></th>\n      <th></th>\n      <th></th>\n      <th></th>\n      <th></th>\n      <th></th>\n      <th></th>\n      <th></th>\n      <th></th>\n      <th></th>\n      <th></th>\n      <th></th>\n      <th></th>\n      <th></th>\n      <th></th>\n      <th></th>\n      <th></th>\n      <th></th>\n      <th></th>\n      <th></th>\n      <th></th>\n    </tr>\n  </thead>\n  <tbody>\n    <tr>\n      <th>1</th>\n      <td>3.977975</td>\n      <td>3.489798</td>\n      <td>3.310902</td>\n      <td>2.379281</td>\n      <td>3.104244</td>\n      <td>3.980164</td>\n      <td>3.228327</td>\n      <td>2.908198</td>\n      <td>3.151192</td>\n      <td>3.580476</td>\n      <td>...</td>\n      <td>3.5</td>\n      <td>3.054390</td>\n      <td>4.016104</td>\n      <td>4.036620</td>\n      <td>3.5</td>\n      <td>4.010660</td>\n      <td>3.543392</td>\n      <td>3.528217</td>\n      <td>3.531490</td>\n      <td>4.037915</td>\n    </tr>\n    <tr>\n      <th>2</th>\n      <td>3.969248</td>\n      <td>3.486055</td>\n      <td>3.286455</td>\n      <td>2.391527</td>\n      <td>3.125786</td>\n      <td>4.001696</td>\n      <td>3.205983</td>\n      <td>2.903627</td>\n      <td>3.142722</td>\n      <td>3.557061</td>\n      <td>...</td>\n      <td>3.5</td>\n      <td>3.055744</td>\n      <td>4.003867</td>\n      <td>4.023722</td>\n      <td>3.5</td>\n      <td>4.007668</td>\n      <td>3.535733</td>\n      <td>3.516908</td>\n      <td>3.528641</td>\n      <td>4.030457</td>\n    </tr>\n    <tr>\n      <th>3</th>\n      <td>3.973889</td>\n      <td>3.480745</td>\n      <td>3.294134</td>\n      <td>2.391290</td>\n      <td>3.122657</td>\n      <td>3.993728</td>\n      <td>3.208127</td>\n      <td>2.903424</td>\n      <td>3.142411</td>\n      <td>3.567183</td>\n      <td>...</td>\n      <td>3.5</td>\n      <td>3.053190</td>\n      <td>4.002650</td>\n      <td>4.026421</td>\n      <td>3.5</td>\n      <td>4.009479</td>\n      <td>3.539331</td>\n      <td>3.518969</td>\n      <td>3.528248</td>\n      <td>4.033315</td>\n    </tr>\n    <tr>\n      <th>4</th>\n      <td>3.993111</td>\n      <td>3.472938</td>\n      <td>3.305927</td>\n      <td>2.387459</td>\n      <td>3.135081</td>\n      <td>4.000187</td>\n      <td>3.206925</td>\n      <td>2.908830</td>\n      <td>3.142813</td>\n      <td>3.572953</td>\n      <td>...</td>\n      <td>3.5</td>\n      <td>3.043416</td>\n      <td>4.000000</td>\n      <td>4.015167</td>\n      <td>3.5</td>\n      <td>4.007619</td>\n      <td>3.548050</td>\n      <td>3.517878</td>\n      <td>3.524243</td>\n      <td>4.036775</td>\n    </tr>\n    <tr>\n      <th>5</th>\n      <td>3.969837</td>\n      <td>3.477237</td>\n      <td>3.286468</td>\n      <td>2.397398</td>\n      <td>3.129447</td>\n      <td>4.001042</td>\n      <td>3.202674</td>\n      <td>2.904456</td>\n      <td>3.135589</td>\n      <td>3.554588</td>\n      <td>...</td>\n      <td>3.5</td>\n      <td>3.056362</td>\n      <td>4.004320</td>\n      <td>4.022439</td>\n      <td>3.5</td>\n      <td>4.007188</td>\n      <td>3.535753</td>\n      <td>3.515093</td>\n      <td>3.529944</td>\n      <td>4.034026</td>\n    </tr>\n  </tbody>\n</table>\n<p>5 rows × 9724 columns</p>\n</div>"
     },
     "execution_count": 482,
     "metadata": {},
     "output_type": "execute_result"
    }
   ],
   "source": [
    "predictions.head()"
   ],
   "metadata": {
    "collapsed": false,
    "pycharm": {
     "name": "#%%\n"
    }
   }
  },
  {
   "cell_type": "code",
   "execution_count": 497,
   "outputs": [],
   "source": [
    "def recommend_for_user(user_item_matrix, content_data, user_id, top_n=10):\n",
    "\n",
    "    rating = user_item_matrix.loc[user_id].to_frame('rating')\n",
    "    recommendations = (\n",
    "        rating\n",
    "            .join(content_data.set_index('movieId'))\n",
    "            .sort_values(by='rating', ascending=False)\n",
    "\n",
    "    )\n",
    "    if top_n is not None:\n",
    "        recommendations = recommendations.iloc[:top_n]\n",
    "        return recommendations[recommendations['rating'] > 0]\n",
    "    else:\n",
    "        return recommendations[recommendations['rating'] > 0]"
   ],
   "metadata": {
    "collapsed": false,
    "pycharm": {
     "name": "#%%\n"
    }
   }
  },
  {
   "cell_type": "code",
   "execution_count": null,
   "outputs": [],
   "source": [],
   "metadata": {
    "collapsed": false,
    "pycharm": {
     "name": "#%%\n"
    }
   }
  },
  {
   "cell_type": "code",
   "execution_count": 498,
   "outputs": [],
   "source": [
    "user_id = 4\n",
    "\n",
    "preds = recommend_for_user(user_item_matrix=predictions, content_data=movies, user_id=user_id, top_n=None)"
   ],
   "metadata": {
    "collapsed": false,
    "pycharm": {
     "name": "#%%\n"
    }
   }
  },
  {
   "cell_type": "code",
   "execution_count": 499,
   "outputs": [],
   "source": [
    "real = recommend_for_user(user_item_matrix=data, content_data=movies, user_id=user_id, top_n=None)"
   ],
   "metadata": {
    "collapsed": false,
    "pycharm": {
     "name": "#%%\n"
    }
   }
  },
  {
   "cell_type": "code",
   "execution_count": 510,
   "outputs": [
    {
     "data": {
      "text/plain": "0.9728232929471157"
     },
     "execution_count": 510,
     "metadata": {},
     "output_type": "execute_result"
    }
   ],
   "source": [
    "mean_squared_error(real['rating'], preds[preds.index.isin(real.index)]['rating']) ** 0.5"
   ],
   "metadata": {
    "collapsed": false,
    "pycharm": {
     "name": "#%%\n"
    }
   }
  },
  {
   "cell_type": "code",
   "execution_count": null,
   "outputs": [],
   "source": [],
   "metadata": {
    "collapsed": false,
    "pycharm": {
     "name": "#%%\n"
    }
   }
  }
 ],
 "metadata": {
  "kernelspec": {
   "display_name": "Python 3",
   "language": "python",
   "name": "python3"
  },
  "language_info": {
   "codemirror_mode": {
    "name": "ipython",
    "version": 2
   },
   "file_extension": ".py",
   "mimetype": "text/x-python",
   "name": "python",
   "nbconvert_exporter": "python",
   "pygments_lexer": "ipython2",
   "version": "2.7.6"
  }
 },
 "nbformat": 4,
 "nbformat_minor": 0
}