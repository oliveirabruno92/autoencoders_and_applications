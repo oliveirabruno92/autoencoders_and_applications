{
 "cells": [
  {
   "cell_type": "markdown",
   "source": [
    "# Autoencoder for Recommendation Systems\n",
    "---"
   ],
   "metadata": {
    "collapsed": false,
    "pycharm": {
     "name": "#%% md\n"
    }
   }
  },
  {
   "cell_type": "code",
   "execution_count": 2,
   "metadata": {
    "collapsed": true
   },
   "outputs": [],
   "source": [
    "import numpy as np\n",
    "import pandas as pd\n",
    "from sklearn.model_selection import train_test_split\n",
    "\n",
    "import tensorflow as tf\n",
    "\n",
    "import matplotlib.pyplot as plt\n",
    "%matplotlib inline\n",
    "\n",
    "from sklearn.preprocessing import MinMaxScaler, StandardScaler\n",
    "from sklearn.metrics import mean_squared_error"
   ]
  },
  {
   "cell_type": "code",
   "execution_count": 7,
   "outputs": [
    {
     "name": "stderr",
     "output_type": "stream",
     "text": [
      "/Users/bruno.guimaraes/.virtualenvs/NeuralNetworks_Course/lib/python3.9/site-packages/pandas/util/_decorators.py:311: ParserWarning: Falling back to the 'python' engine because the 'c' engine does not support regex separators (separators > 1 char and different from '\\s+' are interpreted as regex); you can avoid this warning by specifying engine='python'.\n",
      "  return func(*args, **kwargs)\n"
     ]
    }
   ],
   "source": [
    "ratings_columns = ['UserID', 'MovieID', 'Rating', 'Timestamp']\n",
    "movies_columns = ['MovieID', 'Title', 'Genres']\n",
    "ratings = pd.read_csv('../data/recommendation_system/movie_lens/ratings.dat', sep='::', names=ratings_columns)\n",
    "movies = pd.read_csv('../data/recommendation_system/movie_lens/movies.dat', sep='::', names=movies_columns)"
   ],
   "metadata": {
    "collapsed": false,
    "pycharm": {
     "name": "#%%\n"
    }
   }
  },
  {
   "cell_type": "code",
   "execution_count": 8,
   "outputs": [
    {
     "data": {
      "text/plain": "   UserID  MovieID  Rating  Timestamp\n0       1      122     5.0  838985046\n1       1      185     5.0  838983525\n2       1      231     5.0  838983392\n3       1      292     5.0  838983421\n4       1      316     5.0  838983392",
      "text/html": "<div>\n<style scoped>\n    .dataframe tbody tr th:only-of-type {\n        vertical-align: middle;\n    }\n\n    .dataframe tbody tr th {\n        vertical-align: top;\n    }\n\n    .dataframe thead th {\n        text-align: right;\n    }\n</style>\n<table border=\"1\" class=\"dataframe\">\n  <thead>\n    <tr style=\"text-align: right;\">\n      <th></th>\n      <th>UserID</th>\n      <th>MovieID</th>\n      <th>Rating</th>\n      <th>Timestamp</th>\n    </tr>\n  </thead>\n  <tbody>\n    <tr>\n      <th>0</th>\n      <td>1</td>\n      <td>122</td>\n      <td>5.0</td>\n      <td>838985046</td>\n    </tr>\n    <tr>\n      <th>1</th>\n      <td>1</td>\n      <td>185</td>\n      <td>5.0</td>\n      <td>838983525</td>\n    </tr>\n    <tr>\n      <th>2</th>\n      <td>1</td>\n      <td>231</td>\n      <td>5.0</td>\n      <td>838983392</td>\n    </tr>\n    <tr>\n      <th>3</th>\n      <td>1</td>\n      <td>292</td>\n      <td>5.0</td>\n      <td>838983421</td>\n    </tr>\n    <tr>\n      <th>4</th>\n      <td>1</td>\n      <td>316</td>\n      <td>5.0</td>\n      <td>838983392</td>\n    </tr>\n  </tbody>\n</table>\n</div>"
     },
     "execution_count": 8,
     "metadata": {},
     "output_type": "execute_result"
    }
   ],
   "source": [
    "ratings.head()"
   ],
   "metadata": {
    "collapsed": false,
    "pycharm": {
     "name": "#%%\n"
    }
   }
  },
  {
   "cell_type": "code",
   "execution_count": 10,
   "outputs": [
    {
     "data": {
      "text/plain": "(10000054, 4)"
     },
     "execution_count": 10,
     "metadata": {},
     "output_type": "execute_result"
    }
   ],
   "source": [
    "ratings.shape"
   ],
   "metadata": {
    "collapsed": false,
    "pycharm": {
     "name": "#%%\n"
    }
   }
  },
  {
   "cell_type": "code",
   "execution_count": 14,
   "outputs": [],
   "source": [
    "data = pd.pivot_table(\n",
    "    data=ratings,\n",
    "    columns='MovieID',\n",
    "    index='UserID',\n",
    "    values='Rating'\n",
    ")"
   ],
   "metadata": {
    "collapsed": false,
    "pycharm": {
     "name": "#%%\n"
    }
   }
  },
  {
   "cell_type": "code",
   "execution_count": 15,
   "outputs": [
    {
     "data": {
      "text/plain": "MovieID  1      2      3      4      5      6      7      8      9      10     \\\nUserID                                                                          \n1          NaN    NaN    NaN    NaN    NaN    NaN    NaN    NaN    NaN    NaN   \n2          NaN    NaN    NaN    NaN    NaN    NaN    NaN    NaN    NaN    NaN   \n3          NaN    NaN    NaN    NaN    NaN    NaN    NaN    NaN    NaN    NaN   \n4          NaN    NaN    NaN    NaN    NaN    NaN    NaN    NaN    NaN    NaN   \n5          1.0    NaN    NaN    NaN    NaN    NaN    3.0    NaN    NaN    NaN   \n\nMovieID  ...  65006  65011  65025  65027  65037  65088  65091  65126  65130  \\\nUserID   ...                                                                  \n1        ...    NaN    NaN    NaN    NaN    NaN    NaN    NaN    NaN    NaN   \n2        ...    NaN    NaN    NaN    NaN    NaN    NaN    NaN    NaN    NaN   \n3        ...    NaN    NaN    NaN    NaN    NaN    NaN    NaN    NaN    NaN   \n4        ...    NaN    NaN    NaN    NaN    NaN    NaN    NaN    NaN    NaN   \n5        ...    NaN    NaN    NaN    NaN    NaN    NaN    NaN    NaN    NaN   \n\nMovieID  65133  \nUserID          \n1          NaN  \n2          NaN  \n3          NaN  \n4          NaN  \n5          NaN  \n\n[5 rows x 10677 columns]",
      "text/html": "<div>\n<style scoped>\n    .dataframe tbody tr th:only-of-type {\n        vertical-align: middle;\n    }\n\n    .dataframe tbody tr th {\n        vertical-align: top;\n    }\n\n    .dataframe thead th {\n        text-align: right;\n    }\n</style>\n<table border=\"1\" class=\"dataframe\">\n  <thead>\n    <tr style=\"text-align: right;\">\n      <th>MovieID</th>\n      <th>1</th>\n      <th>2</th>\n      <th>3</th>\n      <th>4</th>\n      <th>5</th>\n      <th>6</th>\n      <th>7</th>\n      <th>8</th>\n      <th>9</th>\n      <th>10</th>\n      <th>...</th>\n      <th>65006</th>\n      <th>65011</th>\n      <th>65025</th>\n      <th>65027</th>\n      <th>65037</th>\n      <th>65088</th>\n      <th>65091</th>\n      <th>65126</th>\n      <th>65130</th>\n      <th>65133</th>\n    </tr>\n    <tr>\n      <th>UserID</th>\n      <th></th>\n      <th></th>\n      <th></th>\n      <th></th>\n      <th></th>\n      <th></th>\n      <th></th>\n      <th></th>\n      <th></th>\n      <th></th>\n      <th></th>\n      <th></th>\n      <th></th>\n      <th></th>\n      <th></th>\n      <th></th>\n      <th></th>\n      <th></th>\n      <th></th>\n      <th></th>\n      <th></th>\n    </tr>\n  </thead>\n  <tbody>\n    <tr>\n      <th>1</th>\n      <td>NaN</td>\n      <td>NaN</td>\n      <td>NaN</td>\n      <td>NaN</td>\n      <td>NaN</td>\n      <td>NaN</td>\n      <td>NaN</td>\n      <td>NaN</td>\n      <td>NaN</td>\n      <td>NaN</td>\n      <td>...</td>\n      <td>NaN</td>\n      <td>NaN</td>\n      <td>NaN</td>\n      <td>NaN</td>\n      <td>NaN</td>\n      <td>NaN</td>\n      <td>NaN</td>\n      <td>NaN</td>\n      <td>NaN</td>\n      <td>NaN</td>\n    </tr>\n    <tr>\n      <th>2</th>\n      <td>NaN</td>\n      <td>NaN</td>\n      <td>NaN</td>\n      <td>NaN</td>\n      <td>NaN</td>\n      <td>NaN</td>\n      <td>NaN</td>\n      <td>NaN</td>\n      <td>NaN</td>\n      <td>NaN</td>\n      <td>...</td>\n      <td>NaN</td>\n      <td>NaN</td>\n      <td>NaN</td>\n      <td>NaN</td>\n      <td>NaN</td>\n      <td>NaN</td>\n      <td>NaN</td>\n      <td>NaN</td>\n      <td>NaN</td>\n      <td>NaN</td>\n    </tr>\n    <tr>\n      <th>3</th>\n      <td>NaN</td>\n      <td>NaN</td>\n      <td>NaN</td>\n      <td>NaN</td>\n      <td>NaN</td>\n      <td>NaN</td>\n      <td>NaN</td>\n      <td>NaN</td>\n      <td>NaN</td>\n      <td>NaN</td>\n      <td>...</td>\n      <td>NaN</td>\n      <td>NaN</td>\n      <td>NaN</td>\n      <td>NaN</td>\n      <td>NaN</td>\n      <td>NaN</td>\n      <td>NaN</td>\n      <td>NaN</td>\n      <td>NaN</td>\n      <td>NaN</td>\n    </tr>\n    <tr>\n      <th>4</th>\n      <td>NaN</td>\n      <td>NaN</td>\n      <td>NaN</td>\n      <td>NaN</td>\n      <td>NaN</td>\n      <td>NaN</td>\n      <td>NaN</td>\n      <td>NaN</td>\n      <td>NaN</td>\n      <td>NaN</td>\n      <td>...</td>\n      <td>NaN</td>\n      <td>NaN</td>\n      <td>NaN</td>\n      <td>NaN</td>\n      <td>NaN</td>\n      <td>NaN</td>\n      <td>NaN</td>\n      <td>NaN</td>\n      <td>NaN</td>\n      <td>NaN</td>\n    </tr>\n    <tr>\n      <th>5</th>\n      <td>1.0</td>\n      <td>NaN</td>\n      <td>NaN</td>\n      <td>NaN</td>\n      <td>NaN</td>\n      <td>NaN</td>\n      <td>3.0</td>\n      <td>NaN</td>\n      <td>NaN</td>\n      <td>NaN</td>\n      <td>...</td>\n      <td>NaN</td>\n      <td>NaN</td>\n      <td>NaN</td>\n      <td>NaN</td>\n      <td>NaN</td>\n      <td>NaN</td>\n      <td>NaN</td>\n      <td>NaN</td>\n      <td>NaN</td>\n      <td>NaN</td>\n    </tr>\n  </tbody>\n</table>\n<p>5 rows × 10677 columns</p>\n</div>"
     },
     "execution_count": 15,
     "metadata": {},
     "output_type": "execute_result"
    }
   ],
   "source": [
    "data.head()"
   ],
   "metadata": {
    "collapsed": false,
    "pycharm": {
     "name": "#%%\n"
    }
   }
  },
  {
   "cell_type": "code",
   "execution_count": 16,
   "outputs": [
    {
     "data": {
      "text/plain": "(69878, 10677)"
     },
     "execution_count": 16,
     "metadata": {},
     "output_type": "execute_result"
    }
   ],
   "source": [
    "data.shape"
   ],
   "metadata": {
    "collapsed": false,
    "pycharm": {
     "name": "#%%\n"
    }
   }
  },
  {
   "cell_type": "code",
   "execution_count": 17,
   "outputs": [],
   "source": [
    "def sparsity_calculation(data):\n",
    "    data = np.nan_to_num(data)\n",
    "    return round(1. - np.count_nonzero(data) / data.size, 3) * 100"
   ],
   "metadata": {
    "collapsed": false,
    "pycharm": {
     "name": "#%%\n"
    }
   }
  },
  {
   "cell_type": "code",
   "execution_count": 18,
   "outputs": [
    {
     "data": {
      "text/plain": "98.7"
     },
     "execution_count": 18,
     "metadata": {},
     "output_type": "execute_result"
    }
   ],
   "source": [
    "sparsity_calculation(data)"
   ],
   "metadata": {
    "collapsed": false,
    "pycharm": {
     "name": "#%%\n"
    }
   }
  },
  {
   "cell_type": "code",
   "execution_count": 19,
   "outputs": [
    {
     "data": {
      "text/plain": "MinMaxScaler()"
     },
     "execution_count": 19,
     "metadata": {},
     "output_type": "execute_result"
    }
   ],
   "source": [
    "scaler = MinMaxScaler()\n",
    "scaler.fit(data)"
   ],
   "metadata": {
    "collapsed": false,
    "pycharm": {
     "name": "#%%\n"
    }
   }
  },
  {
   "cell_type": "code",
   "execution_count": 20,
   "outputs": [],
   "source": [
    "data_scaled = pd.DataFrame(scaler.transform(data), index=data.index, columns=data.columns).fillna(0)"
   ],
   "metadata": {
    "collapsed": false,
    "pycharm": {
     "name": "#%%\n"
    }
   }
  },
  {
   "cell_type": "code",
   "execution_count": 21,
   "outputs": [
    {
     "data": {
      "text/plain": "MovieID     1      2      3      4      5      6         7      8      9      \\\nUserID                                                                         \n1        0.000000    0.0    0.0    0.0    0.0    0.0  0.000000    0.0    0.0   \n2        0.000000    0.0    0.0    0.0    0.0    0.0  0.000000    0.0    0.0   \n3        0.000000    0.0    0.0    0.0    0.0    0.0  0.000000    0.0    0.0   \n4        0.000000    0.0    0.0    0.0    0.0    0.0  0.000000    0.0    0.0   \n5        0.111111    0.0    0.0    0.0    0.0    0.0  0.555556    0.0    0.0   \n\nMovieID  10     ...  65006  65011  65025  65027  65037  65088  65091  65126  \\\nUserID          ...                                                           \n1          0.0  ...    0.0    0.0    0.0    0.0    0.0    0.0    0.0    0.0   \n2          0.0  ...    0.0    0.0    0.0    0.0    0.0    0.0    0.0    0.0   \n3          0.0  ...    0.0    0.0    0.0    0.0    0.0    0.0    0.0    0.0   \n4          0.0  ...    0.0    0.0    0.0    0.0    0.0    0.0    0.0    0.0   \n5          0.0  ...    0.0    0.0    0.0    0.0    0.0    0.0    0.0    0.0   \n\nMovieID  65130  65133  \nUserID                 \n1          0.0    0.0  \n2          0.0    0.0  \n3          0.0    0.0  \n4          0.0    0.0  \n5          0.0    0.0  \n\n[5 rows x 10677 columns]",
      "text/html": "<div>\n<style scoped>\n    .dataframe tbody tr th:only-of-type {\n        vertical-align: middle;\n    }\n\n    .dataframe tbody tr th {\n        vertical-align: top;\n    }\n\n    .dataframe thead th {\n        text-align: right;\n    }\n</style>\n<table border=\"1\" class=\"dataframe\">\n  <thead>\n    <tr style=\"text-align: right;\">\n      <th>MovieID</th>\n      <th>1</th>\n      <th>2</th>\n      <th>3</th>\n      <th>4</th>\n      <th>5</th>\n      <th>6</th>\n      <th>7</th>\n      <th>8</th>\n      <th>9</th>\n      <th>10</th>\n      <th>...</th>\n      <th>65006</th>\n      <th>65011</th>\n      <th>65025</th>\n      <th>65027</th>\n      <th>65037</th>\n      <th>65088</th>\n      <th>65091</th>\n      <th>65126</th>\n      <th>65130</th>\n      <th>65133</th>\n    </tr>\n    <tr>\n      <th>UserID</th>\n      <th></th>\n      <th></th>\n      <th></th>\n      <th></th>\n      <th></th>\n      <th></th>\n      <th></th>\n      <th></th>\n      <th></th>\n      <th></th>\n      <th></th>\n      <th></th>\n      <th></th>\n      <th></th>\n      <th></th>\n      <th></th>\n      <th></th>\n      <th></th>\n      <th></th>\n      <th></th>\n      <th></th>\n    </tr>\n  </thead>\n  <tbody>\n    <tr>\n      <th>1</th>\n      <td>0.000000</td>\n      <td>0.0</td>\n      <td>0.0</td>\n      <td>0.0</td>\n      <td>0.0</td>\n      <td>0.0</td>\n      <td>0.000000</td>\n      <td>0.0</td>\n      <td>0.0</td>\n      <td>0.0</td>\n      <td>...</td>\n      <td>0.0</td>\n      <td>0.0</td>\n      <td>0.0</td>\n      <td>0.0</td>\n      <td>0.0</td>\n      <td>0.0</td>\n      <td>0.0</td>\n      <td>0.0</td>\n      <td>0.0</td>\n      <td>0.0</td>\n    </tr>\n    <tr>\n      <th>2</th>\n      <td>0.000000</td>\n      <td>0.0</td>\n      <td>0.0</td>\n      <td>0.0</td>\n      <td>0.0</td>\n      <td>0.0</td>\n      <td>0.000000</td>\n      <td>0.0</td>\n      <td>0.0</td>\n      <td>0.0</td>\n      <td>...</td>\n      <td>0.0</td>\n      <td>0.0</td>\n      <td>0.0</td>\n      <td>0.0</td>\n      <td>0.0</td>\n      <td>0.0</td>\n      <td>0.0</td>\n      <td>0.0</td>\n      <td>0.0</td>\n      <td>0.0</td>\n    </tr>\n    <tr>\n      <th>3</th>\n      <td>0.000000</td>\n      <td>0.0</td>\n      <td>0.0</td>\n      <td>0.0</td>\n      <td>0.0</td>\n      <td>0.0</td>\n      <td>0.000000</td>\n      <td>0.0</td>\n      <td>0.0</td>\n      <td>0.0</td>\n      <td>...</td>\n      <td>0.0</td>\n      <td>0.0</td>\n      <td>0.0</td>\n      <td>0.0</td>\n      <td>0.0</td>\n      <td>0.0</td>\n      <td>0.0</td>\n      <td>0.0</td>\n      <td>0.0</td>\n      <td>0.0</td>\n    </tr>\n    <tr>\n      <th>4</th>\n      <td>0.000000</td>\n      <td>0.0</td>\n      <td>0.0</td>\n      <td>0.0</td>\n      <td>0.0</td>\n      <td>0.0</td>\n      <td>0.000000</td>\n      <td>0.0</td>\n      <td>0.0</td>\n      <td>0.0</td>\n      <td>...</td>\n      <td>0.0</td>\n      <td>0.0</td>\n      <td>0.0</td>\n      <td>0.0</td>\n      <td>0.0</td>\n      <td>0.0</td>\n      <td>0.0</td>\n      <td>0.0</td>\n      <td>0.0</td>\n      <td>0.0</td>\n    </tr>\n    <tr>\n      <th>5</th>\n      <td>0.111111</td>\n      <td>0.0</td>\n      <td>0.0</td>\n      <td>0.0</td>\n      <td>0.0</td>\n      <td>0.0</td>\n      <td>0.555556</td>\n      <td>0.0</td>\n      <td>0.0</td>\n      <td>0.0</td>\n      <td>...</td>\n      <td>0.0</td>\n      <td>0.0</td>\n      <td>0.0</td>\n      <td>0.0</td>\n      <td>0.0</td>\n      <td>0.0</td>\n      <td>0.0</td>\n      <td>0.0</td>\n      <td>0.0</td>\n      <td>0.0</td>\n    </tr>\n  </tbody>\n</table>\n<p>5 rows × 10677 columns</p>\n</div>"
     },
     "execution_count": 21,
     "metadata": {},
     "output_type": "execute_result"
    }
   ],
   "source": [
    "data_scaled.head()"
   ],
   "metadata": {
    "collapsed": false,
    "pycharm": {
     "name": "#%%\n"
    }
   }
  },
  {
   "cell_type": "code",
   "execution_count": 23,
   "outputs": [
    {
     "name": "stderr",
     "output_type": "stream",
     "text": [
      "2021-11-18 19:55:30.096288: I tensorflow/core/platform/cpu_feature_guard.cc:151] This TensorFlow binary is optimized with oneAPI Deep Neural Network Library (oneDNN) to use the following CPU instructions in performance-critical operations:  AVX2 AVX512F FMA\n",
      "To enable them in other operations, rebuild TensorFlow with the appropriate compiler flags.\n"
     ]
    }
   ],
   "source": [
    "model = tf.keras.Sequential([\n",
    "    #encoder\n",
    "    tf.keras.layers.Dense(units=512, activation='relu', name='enc_1', input_dim=data_scaled.shape[1]),\n",
    "    tf.keras.layers.BatchNormalization(name='batch_1'),\n",
    "    tf.keras.layers.Dropout(0.5, name='drop_1'),\n",
    "    tf.keras.layers.Dense(units=256, activation='relu', name='enc_2'),\n",
    "    tf.keras.layers.BatchNormalization(name='batch_2'),\n",
    "    tf.keras.layers.Dropout(0.5, name='drop_2'),\n",
    "\n",
    "    #bottleneck\n",
    "    tf.keras.layers.Dense(units=128, activation='linear', name='embeddings'),\n",
    "\n",
    "    #decoder\n",
    "    tf.keras.layers.Dense(units=256, activation='relu', name='dec_1'),\n",
    "    tf.keras.layers.BatchNormalization(name='batch_3'),\n",
    "    tf.keras.layers.Dropout(0.5, name='drop_3'),\n",
    "    tf.keras.layers.Dense(units=512, activation='relu', name='dec_2'),\n",
    "    tf.keras.layers.BatchNormalization(name='batch_4'),\n",
    "    tf.keras.layers.Dropout(0.5, name='drop_4'),\n",
    "    tf.keras.layers.Dense(units=data_scaled.shape[1], activation='linear', name='user_rating_pred')\n",
    "])"
   ],
   "metadata": {
    "collapsed": false,
    "pycharm": {
     "name": "#%%\n"
    }
   }
  },
  {
   "cell_type": "code",
   "execution_count": 24,
   "outputs": [
    {
     "name": "stdout",
     "output_type": "stream",
     "text": [
      "Model: \"sequential\"\n",
      "_________________________________________________________________\n",
      " Layer (type)                Output Shape              Param #   \n",
      "=================================================================\n",
      " enc_1 (Dense)               (None, 512)               5467136   \n",
      "                                                                 \n",
      " batch_1 (BatchNormalization  (None, 512)              2048      \n",
      " )                                                               \n",
      "                                                                 \n",
      " drop_1 (Dropout)            (None, 512)               0         \n",
      "                                                                 \n",
      " enc_2 (Dense)               (None, 256)               131328    \n",
      "                                                                 \n",
      " batch_2 (BatchNormalization  (None, 256)              1024      \n",
      " )                                                               \n",
      "                                                                 \n",
      " drop_2 (Dropout)            (None, 256)               0         \n",
      "                                                                 \n",
      " embeddings (Dense)          (None, 128)               32896     \n",
      "                                                                 \n",
      " dec_1 (Dense)               (None, 256)               33024     \n",
      "                                                                 \n",
      " batch_3 (BatchNormalization  (None, 256)              1024      \n",
      " )                                                               \n",
      "                                                                 \n",
      " drop_3 (Dropout)            (None, 256)               0         \n",
      "                                                                 \n",
      " dec_2 (Dense)               (None, 512)               131584    \n",
      "                                                                 \n",
      " batch_4 (BatchNormalization  (None, 512)              2048      \n",
      " )                                                               \n",
      "                                                                 \n",
      " drop_4 (Dropout)            (None, 512)               0         \n",
      "                                                                 \n",
      " user_rating_pred (Dense)    (None, 10677)             5477301   \n",
      "                                                                 \n",
      "=================================================================\n",
      "Total params: 11,279,413\n",
      "Trainable params: 11,276,341\n",
      "Non-trainable params: 3,072\n",
      "_________________________________________________________________\n"
     ]
    }
   ],
   "source": [
    "model.summary()"
   ],
   "metadata": {
    "collapsed": false,
    "pycharm": {
     "name": "#%%\n"
    }
   }
  },
  {
   "cell_type": "code",
   "execution_count": 25,
   "outputs": [],
   "source": [
    "model.compile(optimizer=tf.keras.optimizers.Adam(learning_rate=1e-4), loss='mse')"
   ],
   "metadata": {
    "collapsed": false,
    "pycharm": {
     "name": "#%%\n"
    }
   }
  },
  {
   "cell_type": "code",
   "execution_count": 26,
   "outputs": [],
   "source": [
    "callback = tf.keras.callbacks.EarlyStopping(monitor='val_loss', patience=5, mode='auto', verbose=1)"
   ],
   "metadata": {
    "collapsed": false,
    "pycharm": {
     "name": "#%%\n"
    }
   }
  },
  {
   "cell_type": "code",
   "execution_count": 27,
   "outputs": [
    {
     "name": "stdout",
     "output_type": "stream",
     "text": [
      "Epoch 1/50\n",
      "437/437 [==============================] - 55s 123ms/step - loss: 0.0706 - val_loss: 0.0066\n",
      "Epoch 2/50\n",
      "437/437 [==============================] - 44s 100ms/step - loss: 0.0146 - val_loss: 0.0054\n",
      "Epoch 3/50\n",
      "437/437 [==============================] - 44s 101ms/step - loss: 0.0070 - val_loss: 0.0051\n",
      "Epoch 4/50\n",
      "437/437 [==============================] - 46s 105ms/step - loss: 0.0054 - val_loss: 0.0049\n",
      "Epoch 5/50\n",
      "437/437 [==============================] - 48s 110ms/step - loss: 0.0051 - val_loss: 0.0049\n",
      "Epoch 6/50\n",
      "437/437 [==============================] - 46s 106ms/step - loss: 0.0051 - val_loss: 0.0048\n",
      "Epoch 7/50\n",
      "437/437 [==============================] - 46s 105ms/step - loss: 0.0050 - val_loss: 0.0047\n",
      "Epoch 8/50\n",
      "437/437 [==============================] - 50s 115ms/step - loss: 0.0050 - val_loss: 0.0047\n",
      "Epoch 9/50\n",
      "437/437 [==============================] - 48s 110ms/step - loss: 0.0049 - val_loss: 0.0046\n",
      "Epoch 10/50\n",
      "437/437 [==============================] - 47s 107ms/step - loss: 0.0049 - val_loss: 0.0046\n",
      "Epoch 11/50\n",
      "437/437 [==============================] - 46s 105ms/step - loss: 0.0049 - val_loss: 0.0045\n",
      "Epoch 12/50\n",
      "437/437 [==============================] - 49s 112ms/step - loss: 0.0048 - val_loss: 0.0045\n",
      "Epoch 13/50\n",
      "437/437 [==============================] - 47s 107ms/step - loss: 0.0048 - val_loss: 0.0045\n",
      "Epoch 14/50\n",
      "437/437 [==============================] - 48s 109ms/step - loss: 0.0048 - val_loss: 0.0044\n",
      "Epoch 15/50\n",
      "437/437 [==============================] - 49s 111ms/step - loss: 0.0048 - val_loss: 0.0044\n",
      "Epoch 16/50\n",
      "437/437 [==============================] - 47s 108ms/step - loss: 0.0047 - val_loss: 0.0044\n",
      "Epoch 17/50\n",
      "437/437 [==============================] - 47s 109ms/step - loss: 0.0047 - val_loss: 0.0044\n",
      "Epoch 18/50\n",
      "437/437 [==============================] - 47s 108ms/step - loss: 0.0047 - val_loss: 0.0044\n",
      "Epoch 19/50\n",
      "437/437 [==============================] - 48s 110ms/step - loss: 0.0047 - val_loss: 0.0043\n",
      "Epoch 20/50\n",
      "437/437 [==============================] - 48s 109ms/step - loss: 0.0047 - val_loss: 0.0043\n",
      "Epoch 21/50\n",
      "437/437 [==============================] - 47s 107ms/step - loss: 0.0046 - val_loss: 0.0043\n",
      "Epoch 22/50\n",
      "437/437 [==============================] - 46s 106ms/step - loss: 0.0046 - val_loss: 0.0043\n",
      "Epoch 23/50\n",
      "437/437 [==============================] - 49s 111ms/step - loss: 0.0046 - val_loss: 0.0043\n",
      "Epoch 24/50\n",
      "437/437 [==============================] - 49s 112ms/step - loss: 0.0046 - val_loss: 0.0043\n",
      "Epoch 25/50\n",
      "437/437 [==============================] - 49s 112ms/step - loss: 0.0046 - val_loss: 0.0043\n",
      "Epoch 26/50\n",
      "437/437 [==============================] - 49s 112ms/step - loss: 0.0046 - val_loss: 0.0043\n",
      "Epoch 27/50\n",
      "437/437 [==============================] - 47s 107ms/step - loss: 0.0046 - val_loss: 0.0043\n",
      "Epoch 28/50\n",
      "437/437 [==============================] - 47s 107ms/step - loss: 0.0045 - val_loss: 0.0043\n",
      "Epoch 29/50\n",
      "437/437 [==============================] - 47s 108ms/step - loss: 0.0045 - val_loss: 0.0042\n",
      "Epoch 30/50\n",
      "437/437 [==============================] - 47s 108ms/step - loss: 0.0045 - val_loss: 0.0042\n",
      "Epoch 31/50\n",
      "437/437 [==============================] - 48s 109ms/step - loss: 0.0045 - val_loss: 0.0042\n",
      "Epoch 32/50\n",
      "437/437 [==============================] - 49s 112ms/step - loss: 0.0045 - val_loss: 0.0042\n",
      "Epoch 33/50\n",
      "437/437 [==============================] - 47s 108ms/step - loss: 0.0045 - val_loss: 0.0042\n",
      "Epoch 34/50\n",
      "437/437 [==============================] - 47s 108ms/step - loss: 0.0045 - val_loss: 0.0042\n",
      "Epoch 35/50\n",
      "437/437 [==============================] - 46s 105ms/step - loss: 0.0045 - val_loss: 0.0042\n",
      "Epoch 36/50\n",
      "437/437 [==============================] - 46s 106ms/step - loss: 0.0045 - val_loss: 0.0042\n",
      "Epoch 37/50\n",
      "437/437 [==============================] - 47s 107ms/step - loss: 0.0045 - val_loss: 0.0042\n",
      "Epoch 38/50\n",
      "437/437 [==============================] - 47s 108ms/step - loss: 0.0045 - val_loss: 0.0042\n",
      "Epoch 39/50\n",
      "437/437 [==============================] - 46s 105ms/step - loss: 0.0045 - val_loss: 0.0042\n",
      "Epoch 40/50\n",
      "437/437 [==============================] - 48s 110ms/step - loss: 0.0045 - val_loss: 0.0042\n",
      "Epoch 41/50\n",
      "437/437 [==============================] - 46s 105ms/step - loss: 0.0044 - val_loss: 0.0042\n",
      "Epoch 42/50\n",
      "437/437 [==============================] - 46s 106ms/step - loss: 0.0044 - val_loss: 0.0042\n",
      "Epoch 43/50\n",
      "437/437 [==============================] - 46s 105ms/step - loss: 0.0044 - val_loss: 0.0042\n",
      "Epoch 44/50\n",
      "437/437 [==============================] - 48s 110ms/step - loss: 0.0044 - val_loss: 0.0042\n",
      "Epoch 45/50\n",
      "437/437 [==============================] - 46s 106ms/step - loss: 0.0044 - val_loss: 0.0042\n",
      "Epoch 46/50\n",
      "437/437 [==============================] - 47s 107ms/step - loss: 0.0044 - val_loss: 0.0042\n",
      "Epoch 47/50\n",
      "437/437 [==============================] - 47s 107ms/step - loss: 0.0044 - val_loss: 0.0041\n",
      "Epoch 48/50\n",
      "437/437 [==============================] - 45s 103ms/step - loss: 0.0044 - val_loss: 0.0042\n",
      "Epoch 49/50\n",
      "437/437 [==============================] - 46s 105ms/step - loss: 0.0044 - val_loss: 0.0041\n",
      "Epoch 50/50\n",
      "437/437 [==============================] - 47s 109ms/step - loss: 0.0044 - val_loss: 0.0041\n"
     ]
    }
   ],
   "source": [
    "history = model.fit(\n",
    "    data_scaled,\n",
    "    data_scaled,\n",
    "    validation_split=0.2,\n",
    "    epochs=50,\n",
    "    batch_size=128,\n",
    "    callbacks=[callback]\n",
    ")"
   ],
   "metadata": {
    "collapsed": false,
    "pycharm": {
     "name": "#%%\n"
    }
   }
  },
  {
   "cell_type": "code",
   "execution_count": 28,
   "outputs": [
    {
     "data": {
      "text/plain": "<matplotlib.legend.Legend at 0x18df35610>"
     },
     "execution_count": 28,
     "metadata": {},
     "output_type": "execute_result"
    },
    {
     "data": {
      "text/plain": "<Figure size 1440x432 with 1 Axes>",
      "image/png": "[encoded data removed]"
     },
     "metadata": {
      "needs_background": "light"
     },
     "output_type": "display_data"
    }
   ],
   "source": [
    "epoch_loss = history.history['loss']\n",
    "epoch_val_loss = history.history['val_loss']\n",
    "\n",
    "plt.figure(figsize=(20,6))\n",
    "plt.plot(range(0,len(epoch_loss)), epoch_loss, 'b-', linewidth=2, label='Train Loss')\n",
    "plt.plot(range(0,len(epoch_val_loss)), epoch_val_loss, 'r-', linewidth=2, label='Val Loss')\n",
    "plt.title('Evolution of loss on train & validation datasets over epochs')\n",
    "plt.legend(loc='best')"
   ],
   "metadata": {
    "collapsed": false,
    "pycharm": {
     "name": "#%%\n"
    }
   }
  },
  {
   "cell_type": "code",
   "execution_count": 29,
   "outputs": [],
   "source": [
    "predictions = model.predict(data_scaled)"
   ],
   "metadata": {
    "collapsed": false,
    "pycharm": {
     "name": "#%%\n"
    }
   }
  },
  {
   "cell_type": "code",
   "execution_count": 30,
   "outputs": [],
   "source": [
    "predictions = pd.DataFrame(scaler.inverse_transform(predictions), columns=data_scaled.columns, index=data_scaled.index)"
   ],
   "metadata": {
    "collapsed": false,
    "pycharm": {
     "name": "#%%\n"
    }
   }
  },
  {
   "cell_type": "code",
   "execution_count": 31,
   "outputs": [
    {
     "data": {
      "text/plain": "MovieID     1         2         3         4         5         6         7      \\\nUserID                                                                          \n1        1.178606  1.423762  0.761519  0.558039  0.774662  0.373379  0.605074   \n2        1.814544  0.575889  1.046510  0.504797  0.993728  1.120618  1.096166   \n3        0.692811  0.487313  0.498906  0.481941  0.546141  0.518300  0.560549   \n4        1.624163  1.511411  0.478796  0.443477  0.629854  0.264792  0.525603   \n5        1.256549  0.493535  0.548772  0.581299  0.550053  0.995791  0.717045   \n\nMovieID     8         9         10     ...  65006  65011  65025  65027  \\\nUserID                                 ...                               \n1        0.621079  0.548037  1.503703  ...    4.0    4.0    2.0    2.5   \n2        0.525179  0.702339  0.680343  ...    4.0    4.0    2.0    2.5   \n3        0.507465  0.476058  0.515967  ...    4.0    4.0    2.0    2.5   \n4        0.535303  0.447385  2.668931  ...    4.0    4.0    2.0    2.5   \n5        0.542549  0.454764  0.579813  ...    4.0    4.0    2.0    2.5   \n\nMovieID     65037     65088     65091  65126     65130     65133  \nUserID                                                            \n1        2.495379  0.996900  3.500785    3.0  1.999990  2.000111  \n2        2.500409  0.999754  3.500216    3.0  1.999989  2.000184  \n3        2.501999  0.992992  3.499325    3.0  2.000001  1.999892  \n4        2.497498  1.003241  3.500792    3.0  1.999994  2.000133  \n5        2.500802  0.999275  3.499424    3.0  2.000006  2.000318  \n\n[5 rows x 10677 columns]",
      "text/html": "<div>\n<style scoped>\n    .dataframe tbody tr th:only-of-type {\n        vertical-align: middle;\n    }\n\n    .dataframe tbody tr th {\n        vertical-align: top;\n    }\n\n    .dataframe thead th {\n        text-align: right;\n    }\n</style>\n<table border=\"1\" class=\"dataframe\">\n  <thead>\n    <tr style=\"text-align: right;\">\n      <th>MovieID</th>\n      <th>1</th>\n      <th>2</th>\n      <th>3</th>\n      <th>4</th>\n      <th>5</th>\n      <th>6</th>\n      <th>7</th>\n      <th>8</th>\n      <th>9</th>\n      <th>10</th>\n      <th>...</th>\n      <th>65006</th>\n      <th>65011</th>\n      <th>65025</th>\n      <th>65027</th>\n      <th>65037</th>\n      <th>65088</th>\n      <th>65091</th>\n      <th>65126</th>\n      <th>65130</th>\n      <th>65133</th>\n    </tr>\n    <tr>\n      <th>UserID</th>\n      <th></th>\n      <th></th>\n      <th></th>\n      <th></th>\n      <th></th>\n      <th></th>\n      <th></th>\n      <th></th>\n      <th></th>\n      <th></th>\n      <th></th>\n      <th></th>\n      <th></th>\n      <th></th>\n      <th></th>\n      <th></th>\n      <th></th>\n      <th></th>\n      <th></th>\n      <th></th>\n      <th></th>\n    </tr>\n  </thead>\n  <tbody>\n    <tr>\n      <th>1</th>\n      <td>1.178606</td>\n      <td>1.423762</td>\n      <td>0.761519</td>\n      <td>0.558039</td>\n      <td>0.774662</td>\n      <td>0.373379</td>\n      <td>0.605074</td>\n      <td>0.621079</td>\n      <td>0.548037</td>\n      <td>1.503703</td>\n      <td>...</td>\n      <td>4.0</td>\n      <td>4.0</td>\n      <td>2.0</td>\n      <td>2.5</td>\n      <td>2.495379</td>\n      <td>0.996900</td>\n      <td>3.500785</td>\n      <td>3.0</td>\n      <td>1.999990</td>\n      <td>2.000111</td>\n    </tr>\n    <tr>\n      <th>2</th>\n      <td>1.814544</td>\n      <td>0.575889</td>\n      <td>1.046510</td>\n      <td>0.504797</td>\n      <td>0.993728</td>\n      <td>1.120618</td>\n      <td>1.096166</td>\n      <td>0.525179</td>\n      <td>0.702339</td>\n      <td>0.680343</td>\n      <td>...</td>\n      <td>4.0</td>\n      <td>4.0</td>\n      <td>2.0</td>\n      <td>2.5</td>\n      <td>2.500409</td>\n      <td>0.999754</td>\n      <td>3.500216</td>\n      <td>3.0</td>\n      <td>1.999989</td>\n      <td>2.000184</td>\n    </tr>\n    <tr>\n      <th>3</th>\n      <td>0.692811</td>\n      <td>0.487313</td>\n      <td>0.498906</td>\n      <td>0.481941</td>\n      <td>0.546141</td>\n      <td>0.518300</td>\n      <td>0.560549</td>\n      <td>0.507465</td>\n      <td>0.476058</td>\n      <td>0.515967</td>\n      <td>...</td>\n      <td>4.0</td>\n      <td>4.0</td>\n      <td>2.0</td>\n      <td>2.5</td>\n      <td>2.501999</td>\n      <td>0.992992</td>\n      <td>3.499325</td>\n      <td>3.0</td>\n      <td>2.000001</td>\n      <td>1.999892</td>\n    </tr>\n    <tr>\n      <th>4</th>\n      <td>1.624163</td>\n      <td>1.511411</td>\n      <td>0.478796</td>\n      <td>0.443477</td>\n      <td>0.629854</td>\n      <td>0.264792</td>\n      <td>0.525603</td>\n      <td>0.535303</td>\n      <td>0.447385</td>\n      <td>2.668931</td>\n      <td>...</td>\n      <td>4.0</td>\n      <td>4.0</td>\n      <td>2.0</td>\n      <td>2.5</td>\n      <td>2.497498</td>\n      <td>1.003241</td>\n      <td>3.500792</td>\n      <td>3.0</td>\n      <td>1.999994</td>\n      <td>2.000133</td>\n    </tr>\n    <tr>\n      <th>5</th>\n      <td>1.256549</td>\n      <td>0.493535</td>\n      <td>0.548772</td>\n      <td>0.581299</td>\n      <td>0.550053</td>\n      <td>0.995791</td>\n      <td>0.717045</td>\n      <td>0.542549</td>\n      <td>0.454764</td>\n      <td>0.579813</td>\n      <td>...</td>\n      <td>4.0</td>\n      <td>4.0</td>\n      <td>2.0</td>\n      <td>2.5</td>\n      <td>2.500802</td>\n      <td>0.999275</td>\n      <td>3.499424</td>\n      <td>3.0</td>\n      <td>2.000006</td>\n      <td>2.000318</td>\n    </tr>\n  </tbody>\n</table>\n<p>5 rows × 10677 columns</p>\n</div>"
     },
     "execution_count": 31,
     "metadata": {},
     "output_type": "execute_result"
    }
   ],
   "source": [
    "predictions.head()"
   ],
   "metadata": {
    "collapsed": false,
    "pycharm": {
     "name": "#%%\n"
    }
   }
  },
  {
   "cell_type": "code",
   "execution_count": 53,
   "outputs": [],
   "source": [
    "users = predictions.index"
   ],
   "metadata": {
    "collapsed": false,
    "pycharm": {
     "name": "#%%\n"
    }
   }
  },
  {
   "cell_type": "code",
   "execution_count": 56,
   "outputs": [
    {
     "data": {
      "text/plain": "MovieID  1      2      3      4      5      6      7      8      9      10     \\\nUserID                                                                          \n1          NaN    NaN    NaN    NaN    NaN    NaN    NaN    NaN    NaN    NaN   \n2          NaN    NaN    NaN    NaN    NaN    NaN    NaN    NaN    NaN    NaN   \n3          NaN    NaN    NaN    NaN    NaN    NaN    NaN    NaN    NaN    NaN   \n4          NaN    NaN    NaN    NaN    NaN    NaN    NaN    NaN    NaN    NaN   \n5          1.0    NaN    NaN    NaN    NaN    NaN    3.0    NaN    NaN    NaN   \n...        ...    ...    ...    ...    ...    ...    ...    ...    ...    ...   \n71563      NaN    NaN    NaN    NaN    NaN    NaN    NaN    NaN    NaN    NaN   \n71564      NaN    NaN    2.5    NaN    NaN    NaN    NaN    NaN    NaN    NaN   \n71565      NaN    NaN    NaN    NaN    NaN    3.0    NaN    NaN    NaN    NaN   \n71566      5.0    NaN    NaN    NaN    NaN    NaN    NaN    NaN    NaN    NaN   \n71567      NaN    NaN    NaN    NaN    NaN    NaN    NaN    NaN    NaN    NaN   \n\nMovieID  ...  65006  65011  65025  65027  65037  65088  65091  65126  65130  \\\nUserID   ...                                                                  \n1        ...    NaN    NaN    NaN    NaN    NaN    NaN    NaN    NaN    NaN   \n2        ...    NaN    NaN    NaN    NaN    NaN    NaN    NaN    NaN    NaN   \n3        ...    NaN    NaN    NaN    NaN    NaN    NaN    NaN    NaN    NaN   \n4        ...    NaN    NaN    NaN    NaN    NaN    NaN    NaN    NaN    NaN   \n5        ...    NaN    NaN    NaN    NaN    NaN    NaN    NaN    NaN    NaN   \n...      ...    ...    ...    ...    ...    ...    ...    ...    ...    ...   \n71563    ...    NaN    NaN    NaN    NaN    NaN    NaN    NaN    NaN    NaN   \n71564    ...    NaN    NaN    NaN    NaN    NaN    NaN    NaN    NaN    NaN   \n71565    ...    NaN    NaN    NaN    NaN    NaN    NaN    NaN    NaN    NaN   \n71566    ...    NaN    NaN    NaN    NaN    NaN    NaN    NaN    NaN    NaN   \n71567    ...    NaN    NaN    NaN    NaN    NaN    NaN    NaN    NaN    NaN   \n\nMovieID  65133  \nUserID          \n1          NaN  \n2          NaN  \n3          NaN  \n4          NaN  \n5          NaN  \n...        ...  \n71563      NaN  \n71564      NaN  \n71565      NaN  \n71566      NaN  \n71567      NaN  \n\n[69878 rows x 10677 columns]",
      "text/html": "<div>\n<style scoped>\n    .dataframe tbody tr th:only-of-type {\n        vertical-align: middle;\n    }\n\n    .dataframe tbody tr th {\n        vertical-align: top;\n    }\n\n    .dataframe thead th {\n        text-align: right;\n    }\n</style>\n<table border=\"1\" class=\"dataframe\">\n  <thead>\n    <tr style=\"text-align: right;\">\n      <th>MovieID</th>\n      <th>1</th>\n      <th>2</th>\n      <th>3</th>\n      <th>4</th>\n      <th>5</th>\n      <th>6</th>\n      <th>7</th>\n      <th>8</th>\n      <th>9</th>\n      <th>10</th>\n      <th>...</th>\n      <th>65006</th>\n      <th>65011</th>\n      <th>65025</th>\n      <th>65027</th>\n      <th>65037</th>\n      <th>65088</th>\n      <th>65091</th>\n      <th>65126</th>\n      <th>65130</th>\n      <th>65133</th>\n    </tr>\n    <tr>\n      <th>UserID</th>\n      <th></th>\n      <th></th>\n      <th></th>\n      <th></th>\n      <th></th>\n      <th></th>\n      <th></th>\n      <th></th>\n      <th></th>\n      <th></th>\n      <th></th>\n      <th></th>\n      <th></th>\n      <th></th>\n      <th></th>\n      <th></th>\n      <th></th>\n      <th></th>\n      <th></th>\n      <th></th>\n      <th></th>\n    </tr>\n  </thead>\n  <tbody>\n    <tr>\n      <th>1</th>\n      <td>NaN</td>\n      <td>NaN</td>\n      <td>NaN</td>\n      <td>NaN</td>\n      <td>NaN</td>\n      <td>NaN</td>\n      <td>NaN</td>\n      <td>NaN</td>\n      <td>NaN</td>\n      <td>NaN</td>\n      <td>...</td>\n      <td>NaN</td>\n      <td>NaN</td>\n      <td>NaN</td>\n      <td>NaN</td>\n      <td>NaN</td>\n      <td>NaN</td>\n      <td>NaN</td>\n      <td>NaN</td>\n      <td>NaN</td>\n      <td>NaN</td>\n    </tr>\n    <tr>\n      <th>2</th>\n      <td>NaN</td>\n      <td>NaN</td>\n      <td>NaN</td>\n      <td>NaN</td>\n      <td>NaN</td>\n      <td>NaN</td>\n      <td>NaN</td>\n      <td>NaN</td>\n      <td>NaN</td>\n      <td>NaN</td>\n      <td>...</td>\n      <td>NaN</td>\n      <td>NaN</td>\n      <td>NaN</td>\n      <td>NaN</td>\n      <td>NaN</td>\n      <td>NaN</td>\n      <td>NaN</td>\n      <td>NaN</td>\n      <td>NaN</td>\n      <td>NaN</td>\n    </tr>\n    <tr>\n      <th>3</th>\n      <td>NaN</td>\n      <td>NaN</td>\n      <td>NaN</td>\n      <td>NaN</td>\n      <td>NaN</td>\n      <td>NaN</td>\n      <td>NaN</td>\n      <td>NaN</td>\n      <td>NaN</td>\n      <td>NaN</td>\n      <td>...</td>\n      <td>NaN</td>\n      <td>NaN</td>\n      <td>NaN</td>\n      <td>NaN</td>\n      <td>NaN</td>\n      <td>NaN</td>\n      <td>NaN</td>\n      <td>NaN</td>\n      <td>NaN</td>\n      <td>NaN</td>\n    </tr>\n    <tr>\n      <th>4</th>\n      <td>NaN</td>\n      <td>NaN</td>\n      <td>NaN</td>\n      <td>NaN</td>\n      <td>NaN</td>\n      <td>NaN</td>\n      <td>NaN</td>\n      <td>NaN</td>\n      <td>NaN</td>\n      <td>NaN</td>\n      <td>...</td>\n      <td>NaN</td>\n      <td>NaN</td>\n      <td>NaN</td>\n      <td>NaN</td>\n      <td>NaN</td>\n      <td>NaN</td>\n      <td>NaN</td>\n      <td>NaN</td>\n      <td>NaN</td>\n      <td>NaN</td>\n    </tr>\n    <tr>\n      <th>5</th>\n      <td>1.0</td>\n      <td>NaN</td>\n      <td>NaN</td>\n      <td>NaN</td>\n      <td>NaN</td>\n      <td>NaN</td>\n      <td>3.0</td>\n      <td>NaN</td>\n      <td>NaN</td>\n      <td>NaN</td>\n      <td>...</td>\n      <td>NaN</td>\n      <td>NaN</td>\n      <td>NaN</td>\n      <td>NaN</td>\n      <td>NaN</td>\n      <td>NaN</td>\n      <td>NaN</td>\n      <td>NaN</td>\n      <td>NaN</td>\n      <td>NaN</td>\n    </tr>\n    <tr>\n      <th>...</th>\n      <td>...</td>\n      <td>...</td>\n      <td>...</td>\n      <td>...</td>\n      <td>...</td>\n      <td>...</td>\n      <td>...</td>\n      <td>...</td>\n      <td>...</td>\n      <td>...</td>\n      <td>...</td>\n      <td>...</td>\n      <td>...</td>\n      <td>...</td>\n      <td>...</td>\n      <td>...</td>\n      <td>...</td>\n      <td>...</td>\n      <td>...</td>\n      <td>...</td>\n      <td>...</td>\n    </tr>\n    <tr>\n      <th>71563</th>\n      <td>NaN</td>\n      <td>NaN</td>\n      <td>NaN</td>\n      <td>NaN</td>\n      <td>NaN</td>\n      <td>NaN</td>\n      <td>NaN</td>\n      <td>NaN</td>\n      <td>NaN</td>\n      <td>NaN</td>\n      <td>...</td>\n      <td>NaN</td>\n      <td>NaN</td>\n      <td>NaN</td>\n      <td>NaN</td>\n      <td>NaN</td>\n      <td>NaN</td>\n      <td>NaN</td>\n      <td>NaN</td>\n      <td>NaN</td>\n      <td>NaN</td>\n    </tr>\n    <tr>\n      <th>71564</th>\n      <td>NaN</td>\n      <td>NaN</td>\n      <td>2.5</td>\n      <td>NaN</td>\n      <td>NaN</td>\n      <td>NaN</td>\n      <td>NaN</td>\n      <td>NaN</td>\n      <td>NaN</td>\n      <td>NaN</td>\n      <td>...</td>\n      <td>NaN</td>\n      <td>NaN</td>\n      <td>NaN</td>\n      <td>NaN</td>\n      <td>NaN</td>\n      <td>NaN</td>\n      <td>NaN</td>\n      <td>NaN</td>\n      <td>NaN</td>\n      <td>NaN</td>\n    </tr>\n    <tr>\n      <th>71565</th>\n      <td>NaN</td>\n      <td>NaN</td>\n      <td>NaN</td>\n      <td>NaN</td>\n      <td>NaN</td>\n      <td>3.0</td>\n      <td>NaN</td>\n      <td>NaN</td>\n      <td>NaN</td>\n      <td>NaN</td>\n      <td>...</td>\n      <td>NaN</td>\n      <td>NaN</td>\n      <td>NaN</td>\n      <td>NaN</td>\n      <td>NaN</td>\n      <td>NaN</td>\n      <td>NaN</td>\n      <td>NaN</td>\n      <td>NaN</td>\n      <td>NaN</td>\n    </tr>\n    <tr>\n      <th>71566</th>\n      <td>5.0</td>\n      <td>NaN</td>\n      <td>NaN</td>\n      <td>NaN</td>\n      <td>NaN</td>\n      <td>NaN</td>\n      <td>NaN</td>\n      <td>NaN</td>\n      <td>NaN</td>\n      <td>NaN</td>\n      <td>...</td>\n      <td>NaN</td>\n      <td>NaN</td>\n      <td>NaN</td>\n      <td>NaN</td>\n      <td>NaN</td>\n      <td>NaN</td>\n      <td>NaN</td>\n      <td>NaN</td>\n      <td>NaN</td>\n      <td>NaN</td>\n    </tr>\n    <tr>\n      <th>71567</th>\n      <td>NaN</td>\n      <td>NaN</td>\n      <td>NaN</td>\n      <td>NaN</td>\n      <td>NaN</td>\n      <td>NaN</td>\n      <td>NaN</td>\n      <td>NaN</td>\n      <td>NaN</td>\n      <td>NaN</td>\n      <td>...</td>\n      <td>NaN</td>\n      <td>NaN</td>\n      <td>NaN</td>\n      <td>NaN</td>\n      <td>NaN</td>\n      <td>NaN</td>\n      <td>NaN</td>\n      <td>NaN</td>\n      <td>NaN</td>\n      <td>NaN</td>\n    </tr>\n  </tbody>\n</table>\n<p>69878 rows × 10677 columns</p>\n</div>"
     },
     "execution_count": 56,
     "metadata": {},
     "output_type": "execute_result"
    }
   ],
   "source": [
    "data"
   ],
   "metadata": {
    "collapsed": false,
    "pycharm": {
     "name": "#%%\n"
    }
   }
  },
  {
   "cell_type": "code",
   "execution_count": 57,
   "outputs": [
    {
     "data": {
      "text/plain": "MovieID  1      2      3      4      5      6      7      8      9      10     \\\nUserID                                                                          \n1          NaN    NaN    NaN    NaN    NaN    NaN    NaN    NaN    NaN    NaN   \n2          NaN    NaN    NaN    NaN    NaN    NaN    NaN    NaN    NaN    NaN   \n3          NaN    NaN    NaN    NaN    NaN    NaN    NaN    NaN    NaN    NaN   \n4          NaN    NaN    NaN    NaN    NaN    NaN    NaN    NaN    NaN    NaN   \n5          NaN    NaN    NaN    NaN    NaN    NaN    NaN    NaN    NaN    NaN   \n...        ...    ...    ...    ...    ...    ...    ...    ...    ...    ...   \n71563      NaN    NaN    NaN    NaN    NaN    NaN    NaN    NaN    NaN    NaN   \n71564      NaN    NaN    NaN    NaN    NaN    NaN    NaN    NaN    NaN    NaN   \n71565      NaN    NaN    NaN    NaN    NaN    NaN    NaN    NaN    NaN    NaN   \n71566      NaN    NaN    NaN    NaN    NaN    NaN    NaN    NaN    NaN    NaN   \n71567      NaN    NaN    NaN    NaN    NaN    NaN    NaN    NaN    NaN    NaN   \n\nMovieID  ...  65006  65011  65025  65027  65037  65088  65091  65126  65130  \\\nUserID   ...                                                                  \n1        ...    NaN    NaN    NaN    NaN    NaN    NaN    NaN    NaN    NaN   \n2        ...    NaN    NaN    NaN    NaN    NaN    NaN    NaN    NaN    NaN   \n3        ...    NaN    NaN    NaN    NaN    NaN    NaN    NaN    NaN    NaN   \n4        ...    NaN    NaN    NaN    NaN    NaN    NaN    NaN    NaN    NaN   \n5        ...    NaN    NaN    NaN    NaN    NaN    NaN    NaN    NaN    NaN   \n...      ...    ...    ...    ...    ...    ...    ...    ...    ...    ...   \n71563    ...    NaN    NaN    NaN    NaN    NaN    NaN    NaN    NaN    NaN   \n71564    ...    NaN    NaN    NaN    NaN    NaN    NaN    NaN    NaN    NaN   \n71565    ...    NaN    NaN    NaN    NaN    NaN    NaN    NaN    NaN    NaN   \n71566    ...    NaN    NaN    NaN    NaN    NaN    NaN    NaN    NaN    NaN   \n71567    ...    NaN    NaN    NaN    NaN    NaN    NaN    NaN    NaN    NaN   \n\nMovieID  65133  \nUserID          \n1          NaN  \n2          NaN  \n3          NaN  \n4          NaN  \n5          NaN  \n...        ...  \n71563      NaN  \n71564      NaN  \n71565      NaN  \n71566      NaN  \n71567      NaN  \n\n[69878 rows x 10677 columns]",
      "text/html": "<div>\n<style scoped>\n    .dataframe tbody tr th:only-of-type {\n        vertical-align: middle;\n    }\n\n    .dataframe tbody tr th {\n        vertical-align: top;\n    }\n\n    .dataframe thead th {\n        text-align: right;\n    }\n</style>\n<table border=\"1\" class=\"dataframe\">\n  <thead>\n    <tr style=\"text-align: right;\">\n      <th>MovieID</th>\n      <th>1</th>\n      <th>2</th>\n      <th>3</th>\n      <th>4</th>\n      <th>5</th>\n      <th>6</th>\n      <th>7</th>\n      <th>8</th>\n      <th>9</th>\n      <th>10</th>\n      <th>...</th>\n      <th>65006</th>\n      <th>65011</th>\n      <th>65025</th>\n      <th>65027</th>\n      <th>65037</th>\n      <th>65088</th>\n      <th>65091</th>\n      <th>65126</th>\n      <th>65130</th>\n      <th>65133</th>\n    </tr>\n    <tr>\n      <th>UserID</th>\n      <th></th>\n      <th></th>\n      <th></th>\n      <th></th>\n      <th></th>\n      <th></th>\n      <th></th>\n      <th></th>\n      <th></th>\n      <th></th>\n      <th></th>\n      <th></th>\n      <th></th>\n      <th></th>\n      <th></th>\n      <th></th>\n      <th></th>\n      <th></th>\n      <th></th>\n      <th></th>\n      <th></th>\n    </tr>\n  </thead>\n  <tbody>\n    <tr>\n      <th>1</th>\n      <td>NaN</td>\n      <td>NaN</td>\n      <td>NaN</td>\n      <td>NaN</td>\n      <td>NaN</td>\n      <td>NaN</td>\n      <td>NaN</td>\n      <td>NaN</td>\n      <td>NaN</td>\n      <td>NaN</td>\n      <td>...</td>\n      <td>NaN</td>\n      <td>NaN</td>\n      <td>NaN</td>\n      <td>NaN</td>\n      <td>NaN</td>\n      <td>NaN</td>\n      <td>NaN</td>\n      <td>NaN</td>\n      <td>NaN</td>\n      <td>NaN</td>\n    </tr>\n    <tr>\n      <th>2</th>\n      <td>NaN</td>\n      <td>NaN</td>\n      <td>NaN</td>\n      <td>NaN</td>\n      <td>NaN</td>\n      <td>NaN</td>\n      <td>NaN</td>\n      <td>NaN</td>\n      <td>NaN</td>\n      <td>NaN</td>\n      <td>...</td>\n      <td>NaN</td>\n      <td>NaN</td>\n      <td>NaN</td>\n      <td>NaN</td>\n      <td>NaN</td>\n      <td>NaN</td>\n      <td>NaN</td>\n      <td>NaN</td>\n      <td>NaN</td>\n      <td>NaN</td>\n    </tr>\n    <tr>\n      <th>3</th>\n      <td>NaN</td>\n      <td>NaN</td>\n      <td>NaN</td>\n      <td>NaN</td>\n      <td>NaN</td>\n      <td>NaN</td>\n      <td>NaN</td>\n      <td>NaN</td>\n      <td>NaN</td>\n      <td>NaN</td>\n      <td>...</td>\n      <td>NaN</td>\n      <td>NaN</td>\n      <td>NaN</td>\n      <td>NaN</td>\n      <td>NaN</td>\n      <td>NaN</td>\n      <td>NaN</td>\n      <td>NaN</td>\n      <td>NaN</td>\n      <td>NaN</td>\n    </tr>\n    <tr>\n      <th>4</th>\n      <td>NaN</td>\n      <td>NaN</td>\n      <td>NaN</td>\n      <td>NaN</td>\n      <td>NaN</td>\n      <td>NaN</td>\n      <td>NaN</td>\n      <td>NaN</td>\n      <td>NaN</td>\n      <td>NaN</td>\n      <td>...</td>\n      <td>NaN</td>\n      <td>NaN</td>\n      <td>NaN</td>\n      <td>NaN</td>\n      <td>NaN</td>\n      <td>NaN</td>\n      <td>NaN</td>\n      <td>NaN</td>\n      <td>NaN</td>\n      <td>NaN</td>\n    </tr>\n    <tr>\n      <th>5</th>\n      <td>NaN</td>\n      <td>NaN</td>\n      <td>NaN</td>\n      <td>NaN</td>\n      <td>NaN</td>\n      <td>NaN</td>\n      <td>NaN</td>\n      <td>NaN</td>\n      <td>NaN</td>\n      <td>NaN</td>\n      <td>...</td>\n      <td>NaN</td>\n      <td>NaN</td>\n      <td>NaN</td>\n      <td>NaN</td>\n      <td>NaN</td>\n      <td>NaN</td>\n      <td>NaN</td>\n      <td>NaN</td>\n      <td>NaN</td>\n      <td>NaN</td>\n    </tr>\n    <tr>\n      <th>...</th>\n      <td>...</td>\n      <td>...</td>\n      <td>...</td>\n      <td>...</td>\n      <td>...</td>\n      <td>...</td>\n      <td>...</td>\n      <td>...</td>\n      <td>...</td>\n      <td>...</td>\n      <td>...</td>\n      <td>...</td>\n      <td>...</td>\n      <td>...</td>\n      <td>...</td>\n      <td>...</td>\n      <td>...</td>\n      <td>...</td>\n      <td>...</td>\n      <td>...</td>\n      <td>...</td>\n    </tr>\n    <tr>\n      <th>71563</th>\n      <td>NaN</td>\n      <td>NaN</td>\n      <td>NaN</td>\n      <td>NaN</td>\n      <td>NaN</td>\n      <td>NaN</td>\n      <td>NaN</td>\n      <td>NaN</td>\n      <td>NaN</td>\n      <td>NaN</td>\n      <td>...</td>\n      <td>NaN</td>\n      <td>NaN</td>\n      <td>NaN</td>\n      <td>NaN</td>\n      <td>NaN</td>\n      <td>NaN</td>\n      <td>NaN</td>\n      <td>NaN</td>\n      <td>NaN</td>\n      <td>NaN</td>\n    </tr>\n    <tr>\n      <th>71564</th>\n      <td>NaN</td>\n      <td>NaN</td>\n      <td>NaN</td>\n      <td>NaN</td>\n      <td>NaN</td>\n      <td>NaN</td>\n      <td>NaN</td>\n      <td>NaN</td>\n      <td>NaN</td>\n      <td>NaN</td>\n      <td>...</td>\n      <td>NaN</td>\n      <td>NaN</td>\n      <td>NaN</td>\n      <td>NaN</td>\n      <td>NaN</td>\n      <td>NaN</td>\n      <td>NaN</td>\n      <td>NaN</td>\n      <td>NaN</td>\n      <td>NaN</td>\n    </tr>\n    <tr>\n      <th>71565</th>\n      <td>NaN</td>\n      <td>NaN</td>\n      <td>NaN</td>\n      <td>NaN</td>\n      <td>NaN</td>\n      <td>NaN</td>\n      <td>NaN</td>\n      <td>NaN</td>\n      <td>NaN</td>\n      <td>NaN</td>\n      <td>...</td>\n      <td>NaN</td>\n      <td>NaN</td>\n      <td>NaN</td>\n      <td>NaN</td>\n      <td>NaN</td>\n      <td>NaN</td>\n      <td>NaN</td>\n      <td>NaN</td>\n      <td>NaN</td>\n      <td>NaN</td>\n    </tr>\n    <tr>\n      <th>71566</th>\n      <td>NaN</td>\n      <td>NaN</td>\n      <td>NaN</td>\n      <td>NaN</td>\n      <td>NaN</td>\n      <td>NaN</td>\n      <td>NaN</td>\n      <td>NaN</td>\n      <td>NaN</td>\n      <td>NaN</td>\n      <td>...</td>\n      <td>NaN</td>\n      <td>NaN</td>\n      <td>NaN</td>\n      <td>NaN</td>\n      <td>NaN</td>\n      <td>NaN</td>\n      <td>NaN</td>\n      <td>NaN</td>\n      <td>NaN</td>\n      <td>NaN</td>\n    </tr>\n    <tr>\n      <th>71567</th>\n      <td>NaN</td>\n      <td>NaN</td>\n      <td>NaN</td>\n      <td>NaN</td>\n      <td>NaN</td>\n      <td>NaN</td>\n      <td>NaN</td>\n      <td>NaN</td>\n      <td>NaN</td>\n      <td>NaN</td>\n      <td>...</td>\n      <td>NaN</td>\n      <td>NaN</td>\n      <td>NaN</td>\n      <td>NaN</td>\n      <td>NaN</td>\n      <td>NaN</td>\n      <td>NaN</td>\n      <td>NaN</td>\n      <td>NaN</td>\n      <td>NaN</td>\n    </tr>\n  </tbody>\n</table>\n<p>69878 rows × 10677 columns</p>\n</div>"
     },
     "execution_count": 57,
     "metadata": {},
     "output_type": "execute_result"
    }
   ],
   "source": [
    "data[data.isnull()]"
   ],
   "metadata": {
    "collapsed": false,
    "pycharm": {
     "name": "#%%\n"
    }
   }
  },
  {
   "cell_type": "code",
   "execution_count": 47,
   "outputs": [],
   "source": [
    "def recommend_for_user(user_item_matrix, content_data, user_id, top_n=10):\n",
    "\n",
    "    rating = user_item_matrix.loc[user_id].to_frame('PredRating')\n",
    "    recommendations = (\n",
    "        rating\n",
    "            .join(content_data.set_index('MovieID'))\n",
    "            .join(ratings.set_index('MovieID')[['Rating']])\n",
    "            .sort_values(by='PredRating', ascending=False)\n",
    "    )\n",
    "    if top_n is not None:\n",
    "        recommendations = recommendations.iloc[:top_n]\n",
    "        return recommendations[recommendations['Rating'] > 0]\n",
    "    else:\n",
    "        return recommendations[recommendations['Rating'] > 0]"
   ],
   "metadata": {
    "collapsed": false,
    "pycharm": {
     "name": "#%%\n"
    }
   }
  },
  {
   "cell_type": "code",
   "execution_count": 48,
   "outputs": [
    {
     "data": {
      "text/plain": "   UserID  MovieID  Rating  Timestamp\n0       1      122     5.0  838985046\n1       1      185     5.0  838983525\n2       1      231     5.0  838983392\n3       1      292     5.0  838983421\n4       1      316     5.0  838983392",
      "text/html": "<div>\n<style scoped>\n    .dataframe tbody tr th:only-of-type {\n        vertical-align: middle;\n    }\n\n    .dataframe tbody tr th {\n        vertical-align: top;\n    }\n\n    .dataframe thead th {\n        text-align: right;\n    }\n</style>\n<table border=\"1\" class=\"dataframe\">\n  <thead>\n    <tr style=\"text-align: right;\">\n      <th></th>\n      <th>UserID</th>\n      <th>MovieID</th>\n      <th>Rating</th>\n      <th>Timestamp</th>\n    </tr>\n  </thead>\n  <tbody>\n    <tr>\n      <th>0</th>\n      <td>1</td>\n      <td>122</td>\n      <td>5.0</td>\n      <td>838985046</td>\n    </tr>\n    <tr>\n      <th>1</th>\n      <td>1</td>\n      <td>185</td>\n      <td>5.0</td>\n      <td>838983525</td>\n    </tr>\n    <tr>\n      <th>2</th>\n      <td>1</td>\n      <td>231</td>\n      <td>5.0</td>\n      <td>838983392</td>\n    </tr>\n    <tr>\n      <th>3</th>\n      <td>1</td>\n      <td>292</td>\n      <td>5.0</td>\n      <td>838983421</td>\n    </tr>\n    <tr>\n      <th>4</th>\n      <td>1</td>\n      <td>316</td>\n      <td>5.0</td>\n      <td>838983392</td>\n    </tr>\n  </tbody>\n</table>\n</div>"
     },
     "execution_count": 48,
     "metadata": {},
     "output_type": "execute_result"
    }
   ],
   "source": [
    "ratings.head()"
   ],
   "metadata": {
    "collapsed": false,
    "pycharm": {
     "name": "#%%\n"
    }
   }
  },
  {
   "cell_type": "code",
   "execution_count": 49,
   "outputs": [],
   "source": [
    "user_id = 4\n",
    "\n",
    "preds = recommend_for_user(user_item_matrix=predictions, content_data=movies, user_id=user_id, top_n=10)"
   ],
   "metadata": {
    "collapsed": false,
    "pycharm": {
     "name": "#%%\n"
    }
   }
  },
  {
   "cell_type": "code",
   "execution_count": 50,
   "outputs": [],
   "source": [
    "real = recommend_for_user(user_item_matrix=data, content_data=movies, user_id=user_id, top_n=10)"
   ],
   "metadata": {
    "collapsed": false,
    "pycharm": {
     "name": "#%%\n"
    }
   }
  },
  {
   "cell_type": "code",
   "execution_count": 51,
   "outputs": [
    {
     "data": {
      "text/plain": "         PredRating                                              Title  \\\nMovieID                                                                  \n51209      5.000000               Fighting Elegy (Kenka erejii) (1966)   \n64275      5.000000           Blue Light, The (Das Blaue Licht) (1932)   \n33264      5.000000                  Satan's Tango (Sátántangó) (1994)   \n53355      5.000000                     Sun Alley (Sonnenallee) (1999)   \n42783      5.000000              Shadows of Forgotten Ancestors (1964)   \n33264      5.000000                  Satan's Tango (Sátántangó) (1994)   \n65001      4.500003                         Constantine's Sword (2007)   \n65001      4.500003                         Constantine's Sword (2007)   \n63179      4.500000                                      Tokyo! (2008)   \n53883      4.500000  Power of Nightmares: The Rise of the Politics ...   \n\n                        Genres  Rating  \nMovieID                                 \n51209            Action|Comedy     5.0  \n64275    Drama|Fantasy|Mystery     5.0  \n33264                    Drama     5.0  \n53355           Comedy|Romance     5.0  \n42783            Drama|Romance     5.0  \n33264                    Drama     5.0  \n65001              Documentary     4.5  \n65001              Documentary     5.0  \n63179                    Drama     4.5  \n53883              Documentary     4.5  ",
      "text/html": "<div>\n<style scoped>\n    .dataframe tbody tr th:only-of-type {\n        vertical-align: middle;\n    }\n\n    .dataframe tbody tr th {\n        vertical-align: top;\n    }\n\n    .dataframe thead th {\n        text-align: right;\n    }\n</style>\n<table border=\"1\" class=\"dataframe\">\n  <thead>\n    <tr style=\"text-align: right;\">\n      <th></th>\n      <th>PredRating</th>\n      <th>Title</th>\n      <th>Genres</th>\n      <th>Rating</th>\n    </tr>\n    <tr>\n      <th>MovieID</th>\n      <th></th>\n      <th></th>\n      <th></th>\n      <th></th>\n    </tr>\n  </thead>\n  <tbody>\n    <tr>\n      <th>51209</th>\n      <td>5.000000</td>\n      <td>Fighting Elegy (Kenka erejii) (1966)</td>\n      <td>Action|Comedy</td>\n      <td>5.0</td>\n    </tr>\n    <tr>\n      <th>64275</th>\n      <td>5.000000</td>\n      <td>Blue Light, The (Das Blaue Licht) (1932)</td>\n      <td>Drama|Fantasy|Mystery</td>\n      <td>5.0</td>\n    </tr>\n    <tr>\n      <th>33264</th>\n      <td>5.000000</td>\n      <td>Satan's Tango (Sátántangó) (1994)</td>\n      <td>Drama</td>\n      <td>5.0</td>\n    </tr>\n    <tr>\n      <th>53355</th>\n      <td>5.000000</td>\n      <td>Sun Alley (Sonnenallee) (1999)</td>\n      <td>Comedy|Romance</td>\n      <td>5.0</td>\n    </tr>\n    <tr>\n      <th>42783</th>\n      <td>5.000000</td>\n      <td>Shadows of Forgotten Ancestors (1964)</td>\n      <td>Drama|Romance</td>\n      <td>5.0</td>\n    </tr>\n    <tr>\n      <th>33264</th>\n      <td>5.000000</td>\n      <td>Satan's Tango (Sátántangó) (1994)</td>\n      <td>Drama</td>\n      <td>5.0</td>\n    </tr>\n    <tr>\n      <th>65001</th>\n      <td>4.500003</td>\n      <td>Constantine's Sword (2007)</td>\n      <td>Documentary</td>\n      <td>4.5</td>\n    </tr>\n    <tr>\n      <th>65001</th>\n      <td>4.500003</td>\n      <td>Constantine's Sword (2007)</td>\n      <td>Documentary</td>\n      <td>5.0</td>\n    </tr>\n    <tr>\n      <th>63179</th>\n      <td>4.500000</td>\n      <td>Tokyo! (2008)</td>\n      <td>Drama</td>\n      <td>4.5</td>\n    </tr>\n    <tr>\n      <th>53883</th>\n      <td>4.500000</td>\n      <td>Power of Nightmares: The Rise of the Politics ...</td>\n      <td>Documentary</td>\n      <td>4.5</td>\n    </tr>\n  </tbody>\n</table>\n</div>"
     },
     "execution_count": 51,
     "metadata": {},
     "output_type": "execute_result"
    }
   ],
   "source": [
    "preds"
   ],
   "metadata": {
    "collapsed": false,
    "pycharm": {
     "name": "#%%\n"
    }
   }
  },
  {
   "cell_type": "code",
   "execution_count": 52,
   "outputs": [
    {
     "data": {
      "text/plain": "         PredRating                              Title  \\\nMovieID                                                  \n590             5.0          Dances with Wolves (1990)   \n589             5.0  Terminator 2: Judgment Day (1991)   \n589             5.0  Terminator 2: Judgment Day (1991)   \n589             5.0  Terminator 2: Judgment Day (1991)   \n589             5.0  Terminator 2: Judgment Day (1991)   \n589             5.0  Terminator 2: Judgment Day (1991)   \n589             5.0  Terminator 2: Judgment Day (1991)   \n589             5.0  Terminator 2: Judgment Day (1991)   \n589             5.0  Terminator 2: Judgment Day (1991)   \n589             5.0  Terminator 2: Judgment Day (1991)   \n\n                          Genres  Rating  \nMovieID                                   \n590      Adventure|Drama|Western     4.0  \n589                Action|Sci-Fi     5.0  \n589                Action|Sci-Fi     5.0  \n589                Action|Sci-Fi     1.0  \n589                Action|Sci-Fi     4.0  \n589                Action|Sci-Fi     3.0  \n589                Action|Sci-Fi     3.0  \n589                Action|Sci-Fi     4.5  \n589                Action|Sci-Fi     4.0  \n589                Action|Sci-Fi     4.0  ",
      "text/html": "<div>\n<style scoped>\n    .dataframe tbody tr th:only-of-type {\n        vertical-align: middle;\n    }\n\n    .dataframe tbody tr th {\n        vertical-align: top;\n    }\n\n    .dataframe thead th {\n        text-align: right;\n    }\n</style>\n<table border=\"1\" class=\"dataframe\">\n  <thead>\n    <tr style=\"text-align: right;\">\n      <th></th>\n      <th>PredRating</th>\n      <th>Title</th>\n      <th>Genres</th>\n      <th>Rating</th>\n    </tr>\n    <tr>\n      <th>MovieID</th>\n      <th></th>\n      <th></th>\n      <th></th>\n      <th></th>\n    </tr>\n  </thead>\n  <tbody>\n    <tr>\n      <th>590</th>\n      <td>5.0</td>\n      <td>Dances with Wolves (1990)</td>\n      <td>Adventure|Drama|Western</td>\n      <td>4.0</td>\n    </tr>\n    <tr>\n      <th>589</th>\n      <td>5.0</td>\n      <td>Terminator 2: Judgment Day (1991)</td>\n      <td>Action|Sci-Fi</td>\n      <td>5.0</td>\n    </tr>\n    <tr>\n      <th>589</th>\n      <td>5.0</td>\n      <td>Terminator 2: Judgment Day (1991)</td>\n      <td>Action|Sci-Fi</td>\n      <td>5.0</td>\n    </tr>\n    <tr>\n      <th>589</th>\n      <td>5.0</td>\n      <td>Terminator 2: Judgment Day (1991)</td>\n      <td>Action|Sci-Fi</td>\n      <td>1.0</td>\n    </tr>\n    <tr>\n      <th>589</th>\n      <td>5.0</td>\n      <td>Terminator 2: Judgment Day (1991)</td>\n      <td>Action|Sci-Fi</td>\n      <td>4.0</td>\n    </tr>\n    <tr>\n      <th>589</th>\n      <td>5.0</td>\n      <td>Terminator 2: Judgment Day (1991)</td>\n      <td>Action|Sci-Fi</td>\n      <td>3.0</td>\n    </tr>\n    <tr>\n      <th>589</th>\n      <td>5.0</td>\n      <td>Terminator 2: Judgment Day (1991)</td>\n      <td>Action|Sci-Fi</td>\n      <td>3.0</td>\n    </tr>\n    <tr>\n      <th>589</th>\n      <td>5.0</td>\n      <td>Terminator 2: Judgment Day (1991)</td>\n      <td>Action|Sci-Fi</td>\n      <td>4.5</td>\n    </tr>\n    <tr>\n      <th>589</th>\n      <td>5.0</td>\n      <td>Terminator 2: Judgment Day (1991)</td>\n      <td>Action|Sci-Fi</td>\n      <td>4.0</td>\n    </tr>\n    <tr>\n      <th>589</th>\n      <td>5.0</td>\n      <td>Terminator 2: Judgment Day (1991)</td>\n      <td>Action|Sci-Fi</td>\n      <td>4.0</td>\n    </tr>\n  </tbody>\n</table>\n</div>"
     },
     "execution_count": 52,
     "metadata": {},
     "output_type": "execute_result"
    }
   ],
   "source": [
    "real"
   ],
   "metadata": {
    "collapsed": false,
    "pycharm": {
     "name": "#%%\n"
    }
   }
  },
  {
   "cell_type": "code",
   "execution_count": null,
   "outputs": [],
   "source": [],
   "metadata": {
    "collapsed": false,
    "pycharm": {
     "name": "#%%\n"
    }
   }
  }
 ],
 "metadata": {
  "kernelspec": {
   "display_name": "Python 3",
   "language": "python",
   "name": "python3"
  },
  "language_info": {
   "codemirror_mode": {
    "name": "ipython",
    "version": 2
   },
   "file_extension": ".py",
   "mimetype": "text/x-python",
   "name": "python",
   "nbconvert_exporter": "python",
   "pygments_lexer": "ipython2",
   "version": "2.7.6"
  }
 },
 "nbformat": 4,
 "nbformat_minor": 0
}