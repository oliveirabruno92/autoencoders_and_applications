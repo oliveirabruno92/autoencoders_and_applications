{
 "cells": [
  {
   "cell_type": "code",
   "execution_count": 241,
   "metadata": {
    "collapsed": true
   },
   "outputs": [],
   "source": [
    "import numpy as np\n",
    "import pandas as pd\n",
    "from sklearn.model_selection import train_test_split\n",
    "\n",
    "import tensorflow as tf\n",
    "\n",
    "import matplotlib.pyplot as plt\n",
    "%matplotlib inline\n",
    "\n",
    "from sklearn.preprocessing import MinMaxScaler"
   ]
  },
  {
   "cell_type": "code",
   "execution_count": 308,
   "outputs": [],
   "source": [
    "ratings = pd.read_csv('../data/recommendation_system/ratings.csv')\n",
    "movies = pd.read_csv('../data/recommendation_system/movies.csv')"
   ],
   "metadata": {
    "collapsed": false,
    "pycharm": {
     "name": "#%%\n"
    }
   }
  },
  {
   "cell_type": "code",
   "execution_count": 309,
   "outputs": [
    {
     "data": {
      "text/plain": "        userId  movieId  rating   timestamp\n0            1        1     4.0   964982703\n1            1        3     4.0   964981247\n2            1        6     4.0   964982224\n3            1       47     5.0   964983815\n4            1       50     5.0   964982931\n...        ...      ...     ...         ...\n100831     610   166534     4.0  1493848402\n100832     610   168248     5.0  1493850091\n100833     610   168250     5.0  1494273047\n100834     610   168252     5.0  1493846352\n100835     610   170875     3.0  1493846415\n\n[100836 rows x 4 columns]",
      "text/html": "<div>\n<style scoped>\n    .dataframe tbody tr th:only-of-type {\n        vertical-align: middle;\n    }\n\n    .dataframe tbody tr th {\n        vertical-align: top;\n    }\n\n    .dataframe thead th {\n        text-align: right;\n    }\n</style>\n<table border=\"1\" class=\"dataframe\">\n  <thead>\n    <tr style=\"text-align: right;\">\n      <th></th>\n      <th>userId</th>\n      <th>movieId</th>\n      <th>rating</th>\n      <th>timestamp</th>\n    </tr>\n  </thead>\n  <tbody>\n    <tr>\n      <th>0</th>\n      <td>1</td>\n      <td>1</td>\n      <td>4.0</td>\n      <td>964982703</td>\n    </tr>\n    <tr>\n      <th>1</th>\n      <td>1</td>\n      <td>3</td>\n      <td>4.0</td>\n      <td>964981247</td>\n    </tr>\n    <tr>\n      <th>2</th>\n      <td>1</td>\n      <td>6</td>\n      <td>4.0</td>\n      <td>964982224</td>\n    </tr>\n    <tr>\n      <th>3</th>\n      <td>1</td>\n      <td>47</td>\n      <td>5.0</td>\n      <td>964983815</td>\n    </tr>\n    <tr>\n      <th>4</th>\n      <td>1</td>\n      <td>50</td>\n      <td>5.0</td>\n      <td>964982931</td>\n    </tr>\n    <tr>\n      <th>...</th>\n      <td>...</td>\n      <td>...</td>\n      <td>...</td>\n      <td>...</td>\n    </tr>\n    <tr>\n      <th>100831</th>\n      <td>610</td>\n      <td>166534</td>\n      <td>4.0</td>\n      <td>1493848402</td>\n    </tr>\n    <tr>\n      <th>100832</th>\n      <td>610</td>\n      <td>168248</td>\n      <td>5.0</td>\n      <td>1493850091</td>\n    </tr>\n    <tr>\n      <th>100833</th>\n      <td>610</td>\n      <td>168250</td>\n      <td>5.0</td>\n      <td>1494273047</td>\n    </tr>\n    <tr>\n      <th>100834</th>\n      <td>610</td>\n      <td>168252</td>\n      <td>5.0</td>\n      <td>1493846352</td>\n    </tr>\n    <tr>\n      <th>100835</th>\n      <td>610</td>\n      <td>170875</td>\n      <td>3.0</td>\n      <td>1493846415</td>\n    </tr>\n  </tbody>\n</table>\n<p>100836 rows × 4 columns</p>\n</div>"
     },
     "execution_count": 309,
     "metadata": {},
     "output_type": "execute_result"
    }
   ],
   "source": [
    "ratings"
   ],
   "metadata": {
    "collapsed": false,
    "pycharm": {
     "name": "#%%\n"
    }
   }
  },
  {
   "cell_type": "code",
   "execution_count": 310,
   "outputs": [
    {
     "data": {
      "text/plain": "(100836, 4)"
     },
     "execution_count": 310,
     "metadata": {},
     "output_type": "execute_result"
    }
   ],
   "source": [
    "ratings.shape"
   ],
   "metadata": {
    "collapsed": false,
    "pycharm": {
     "name": "#%%\n"
    }
   }
  },
  {
   "cell_type": "code",
   "execution_count": 311,
   "outputs": [],
   "source": [
    "data = pd.pivot_table(\n",
    "    data=ratings,\n",
    "    columns='movieId',\n",
    "    index='userId',\n",
    "    values='rating'\n",
    ")"
   ],
   "metadata": {
    "collapsed": false,
    "pycharm": {
     "name": "#%%\n"
    }
   }
  },
  {
   "cell_type": "code",
   "execution_count": 312,
   "outputs": [
    {
     "data": {
      "text/plain": "movieId  1       2       3       4       5       6       7       8       \\\nuserId                                                                    \n1           4.0     NaN     4.0     NaN     NaN     4.0     NaN     NaN   \n2           NaN     NaN     NaN     NaN     NaN     NaN     NaN     NaN   \n3           NaN     NaN     NaN     NaN     NaN     NaN     NaN     NaN   \n4           NaN     NaN     NaN     NaN     NaN     NaN     NaN     NaN   \n5           4.0     NaN     NaN     NaN     NaN     NaN     NaN     NaN   \n\nmovieId  9       10      ...  193565  193567  193571  193573  193579  193581  \\\nuserId                   ...                                                   \n1           NaN     NaN  ...     NaN     NaN     NaN     NaN     NaN     NaN   \n2           NaN     NaN  ...     NaN     NaN     NaN     NaN     NaN     NaN   \n3           NaN     NaN  ...     NaN     NaN     NaN     NaN     NaN     NaN   \n4           NaN     NaN  ...     NaN     NaN     NaN     NaN     NaN     NaN   \n5           NaN     NaN  ...     NaN     NaN     NaN     NaN     NaN     NaN   \n\nmovieId  193583  193585  193587  193609  \nuserId                                   \n1           NaN     NaN     NaN     NaN  \n2           NaN     NaN     NaN     NaN  \n3           NaN     NaN     NaN     NaN  \n4           NaN     NaN     NaN     NaN  \n5           NaN     NaN     NaN     NaN  \n\n[5 rows x 9724 columns]",
      "text/html": "<div>\n<style scoped>\n    .dataframe tbody tr th:only-of-type {\n        vertical-align: middle;\n    }\n\n    .dataframe tbody tr th {\n        vertical-align: top;\n    }\n\n    .dataframe thead th {\n        text-align: right;\n    }\n</style>\n<table border=\"1\" class=\"dataframe\">\n  <thead>\n    <tr style=\"text-align: right;\">\n      <th>movieId</th>\n      <th>1</th>\n      <th>2</th>\n      <th>3</th>\n      <th>4</th>\n      <th>5</th>\n      <th>6</th>\n      <th>7</th>\n      <th>8</th>\n      <th>9</th>\n      <th>10</th>\n      <th>...</th>\n      <th>193565</th>\n      <th>193567</th>\n      <th>193571</th>\n      <th>193573</th>\n      <th>193579</th>\n      <th>193581</th>\n      <th>193583</th>\n      <th>193585</th>\n      <th>193587</th>\n      <th>193609</th>\n    </tr>\n    <tr>\n      <th>userId</th>\n      <th></th>\n      <th></th>\n      <th></th>\n      <th></th>\n      <th></th>\n      <th></th>\n      <th></th>\n      <th></th>\n      <th></th>\n      <th></th>\n      <th></th>\n      <th></th>\n      <th></th>\n      <th></th>\n      <th></th>\n      <th></th>\n      <th></th>\n      <th></th>\n      <th></th>\n      <th></th>\n      <th></th>\n    </tr>\n  </thead>\n  <tbody>\n    <tr>\n      <th>1</th>\n      <td>4.0</td>\n      <td>NaN</td>\n      <td>4.0</td>\n      <td>NaN</td>\n      <td>NaN</td>\n      <td>4.0</td>\n      <td>NaN</td>\n      <td>NaN</td>\n      <td>NaN</td>\n      <td>NaN</td>\n      <td>...</td>\n      <td>NaN</td>\n      <td>NaN</td>\n      <td>NaN</td>\n      <td>NaN</td>\n      <td>NaN</td>\n      <td>NaN</td>\n      <td>NaN</td>\n      <td>NaN</td>\n      <td>NaN</td>\n      <td>NaN</td>\n    </tr>\n    <tr>\n      <th>2</th>\n      <td>NaN</td>\n      <td>NaN</td>\n      <td>NaN</td>\n      <td>NaN</td>\n      <td>NaN</td>\n      <td>NaN</td>\n      <td>NaN</td>\n      <td>NaN</td>\n      <td>NaN</td>\n      <td>NaN</td>\n      <td>...</td>\n      <td>NaN</td>\n      <td>NaN</td>\n      <td>NaN</td>\n      <td>NaN</td>\n      <td>NaN</td>\n      <td>NaN</td>\n      <td>NaN</td>\n      <td>NaN</td>\n      <td>NaN</td>\n      <td>NaN</td>\n    </tr>\n    <tr>\n      <th>3</th>\n      <td>NaN</td>\n      <td>NaN</td>\n      <td>NaN</td>\n      <td>NaN</td>\n      <td>NaN</td>\n      <td>NaN</td>\n      <td>NaN</td>\n      <td>NaN</td>\n      <td>NaN</td>\n      <td>NaN</td>\n      <td>...</td>\n      <td>NaN</td>\n      <td>NaN</td>\n      <td>NaN</td>\n      <td>NaN</td>\n      <td>NaN</td>\n      <td>NaN</td>\n      <td>NaN</td>\n      <td>NaN</td>\n      <td>NaN</td>\n      <td>NaN</td>\n    </tr>\n    <tr>\n      <th>4</th>\n      <td>NaN</td>\n      <td>NaN</td>\n      <td>NaN</td>\n      <td>NaN</td>\n      <td>NaN</td>\n      <td>NaN</td>\n      <td>NaN</td>\n      <td>NaN</td>\n      <td>NaN</td>\n      <td>NaN</td>\n      <td>...</td>\n      <td>NaN</td>\n      <td>NaN</td>\n      <td>NaN</td>\n      <td>NaN</td>\n      <td>NaN</td>\n      <td>NaN</td>\n      <td>NaN</td>\n      <td>NaN</td>\n      <td>NaN</td>\n      <td>NaN</td>\n    </tr>\n    <tr>\n      <th>5</th>\n      <td>4.0</td>\n      <td>NaN</td>\n      <td>NaN</td>\n      <td>NaN</td>\n      <td>NaN</td>\n      <td>NaN</td>\n      <td>NaN</td>\n      <td>NaN</td>\n      <td>NaN</td>\n      <td>NaN</td>\n      <td>...</td>\n      <td>NaN</td>\n      <td>NaN</td>\n      <td>NaN</td>\n      <td>NaN</td>\n      <td>NaN</td>\n      <td>NaN</td>\n      <td>NaN</td>\n      <td>NaN</td>\n      <td>NaN</td>\n      <td>NaN</td>\n    </tr>\n  </tbody>\n</table>\n<p>5 rows × 9724 columns</p>\n</div>"
     },
     "execution_count": 312,
     "metadata": {},
     "output_type": "execute_result"
    }
   ],
   "source": [
    "data.head()"
   ],
   "metadata": {
    "collapsed": false,
    "pycharm": {
     "name": "#%%\n"
    }
   }
  },
  {
   "cell_type": "code",
   "execution_count": 313,
   "outputs": [],
   "source": [
    "train_data, test_data = train_test_split(data, test_size=0.1, random_state=42)\n",
    "train_data, val_data = train_test_split(train_data, test_size=0.1, random_state=42)"
   ],
   "metadata": {
    "collapsed": false,
    "pycharm": {
     "name": "#%%\n"
    }
   }
  },
  {
   "cell_type": "code",
   "execution_count": 314,
   "outputs": [
    {
     "data": {
      "text/plain": "(494, 9724)"
     },
     "execution_count": 314,
     "metadata": {},
     "output_type": "execute_result"
    }
   ],
   "source": [
    "train_data.shape"
   ],
   "metadata": {
    "collapsed": false,
    "pycharm": {
     "name": "#%%\n"
    }
   }
  },
  {
   "cell_type": "code",
   "execution_count": 315,
   "outputs": [
    {
     "data": {
      "text/plain": "(55, 9724)"
     },
     "execution_count": 315,
     "metadata": {},
     "output_type": "execute_result"
    }
   ],
   "source": [
    "val_data.shape"
   ],
   "metadata": {
    "collapsed": false,
    "pycharm": {
     "name": "#%%\n"
    }
   }
  },
  {
   "cell_type": "code",
   "execution_count": 316,
   "outputs": [
    {
     "data": {
      "text/plain": "(61, 9724)"
     },
     "execution_count": 316,
     "metadata": {},
     "output_type": "execute_result"
    }
   ],
   "source": [
    "test_data.shape"
   ],
   "metadata": {
    "collapsed": false,
    "pycharm": {
     "name": "#%%\n"
    }
   }
  },
  {
   "cell_type": "code",
   "execution_count": 317,
   "outputs": [
    {
     "data": {
      "text/plain": "5931640"
     },
     "execution_count": 317,
     "metadata": {},
     "output_type": "execute_result"
    }
   ],
   "source": [
    "data.size"
   ],
   "metadata": {
    "collapsed": false,
    "pycharm": {
     "name": "#%%\n"
    }
   }
  },
  {
   "cell_type": "code",
   "execution_count": 318,
   "outputs": [],
   "source": [
    "def sparsity_calculation(data):\n",
    "    data = np.nan_to_num(data)\n",
    "    return round(1. - np.count_nonzero(data) / data.size, 3) * 100"
   ],
   "metadata": {
    "collapsed": false,
    "pycharm": {
     "name": "#%%\n"
    }
   }
  },
  {
   "cell_type": "code",
   "execution_count": 319,
   "outputs": [
    {
     "data": {
      "text/plain": "98.3"
     },
     "execution_count": 319,
     "metadata": {},
     "output_type": "execute_result"
    }
   ],
   "source": [
    "sparsity_calculation(data)"
   ],
   "metadata": {
    "collapsed": false,
    "pycharm": {
     "name": "#%%\n"
    }
   }
  },
  {
   "cell_type": "code",
   "execution_count": 320,
   "outputs": [
    {
     "data": {
      "text/plain": "98.4"
     },
     "execution_count": 320,
     "metadata": {},
     "output_type": "execute_result"
    }
   ],
   "source": [
    "sparsity_calculation(train_data)"
   ],
   "metadata": {
    "collapsed": false,
    "pycharm": {
     "name": "#%%\n"
    }
   }
  },
  {
   "cell_type": "code",
   "execution_count": 321,
   "outputs": [
    {
     "data": {
      "text/plain": "98.6"
     },
     "execution_count": 321,
     "metadata": {},
     "output_type": "execute_result"
    }
   ],
   "source": [
    "sparsity_calculation(val_data)"
   ],
   "metadata": {
    "collapsed": false,
    "pycharm": {
     "name": "#%%\n"
    }
   }
  },
  {
   "cell_type": "code",
   "execution_count": 322,
   "outputs": [
    {
     "data": {
      "text/plain": "97.6"
     },
     "execution_count": 322,
     "metadata": {},
     "output_type": "execute_result"
    }
   ],
   "source": [
    "sparsity_calculation(test_data)"
   ],
   "metadata": {
    "collapsed": false,
    "pycharm": {
     "name": "#%%\n"
    }
   }
  },
  {
   "cell_type": "code",
   "execution_count": 323,
   "outputs": [
    {
     "name": "stderr",
     "output_type": "stream",
     "text": [
      "/Users/bruno.guimaraes/.virtualenvs/NeuralNetworks_Course/lib/python3.9/site-packages/sklearn/preprocessing/_data.py:461: RuntimeWarning: All-NaN slice encountered\n",
      "  data_min = np.nanmin(X, axis=0)\n",
      "/Users/bruno.guimaraes/.virtualenvs/NeuralNetworks_Course/lib/python3.9/site-packages/sklearn/preprocessing/_data.py:462: RuntimeWarning: All-NaN slice encountered\n",
      "  data_max = np.nanmax(X, axis=0)\n"
     ]
    },
    {
     "data": {
      "text/plain": "MinMaxScaler(feature_range=(-1, 1))"
     },
     "execution_count": 323,
     "metadata": {},
     "output_type": "execute_result"
    }
   ],
   "source": [
    "scaler = MinMaxScaler(feature_range=(-1,1))\n",
    "scaler.fit(train_data)"
   ],
   "metadata": {
    "collapsed": false,
    "pycharm": {
     "name": "#%%\n"
    }
   }
  },
  {
   "cell_type": "code",
   "execution_count": 324,
   "outputs": [],
   "source": [
    "train = pd.DataFrame(scaler.transform(train_data), index=train_data.index, columns=train_data.columns).fillna(0)\n",
    "val = pd.DataFrame(scaler.transform(val_data), index=val_data.index, columns=val_data.columns).fillna(0)\n",
    "test = pd.DataFrame(scaler.transform(test_data), index=test_data.index, columns=test_data.columns).fillna(0)"
   ],
   "metadata": {
    "collapsed": false,
    "pycharm": {
     "name": "#%%\n"
    }
   }
  },
  {
   "cell_type": "code",
   "execution_count": 325,
   "outputs": [
    {
     "data": {
      "text/plain": "movieId    1         2         3       4         5       6       7       \\\nuserId                                                                    \n155      0.111111  0.000000  0.000000     0.0  0.000000    0.00     0.0   \n189      0.000000  0.000000  0.000000     0.0  0.000000    0.00     0.0   \n296      0.000000  0.000000  0.000000     0.0  0.000000    0.00     0.0   \n421      0.000000  0.000000  0.000000     0.0  0.000000    0.00     0.0   \n493      0.000000  0.000000  0.000000     0.0  0.000000    0.50     0.0   \n390      0.000000  0.000000  0.000000     0.0  0.000000    0.00     0.0   \n183      0.000000  0.000000  0.000000     0.0  0.000000    0.00     0.0   \n411      1.000000  0.555556  0.000000     0.0  0.000000    0.00     0.0   \n535      0.000000  0.000000  0.000000     0.0  0.000000    0.00     0.0   \n440      0.000000  0.000000  0.000000     0.0  0.000000    0.00     0.0   \n357      1.000000  0.111111  0.000000     0.0  0.000000    0.00     0.0   \n556      0.000000  0.000000  0.000000     0.0  0.000000    0.00     0.0   \n570      0.555556  0.333333  0.000000     0.0  0.000000    0.00     0.0   \n400      0.000000  0.000000  0.000000     0.0  0.000000    1.00     0.0   \n37       0.000000  0.000000  0.000000     0.0  0.000000    0.00     0.0   \n466      0.000000  0.000000  0.000000     0.0  0.000000    0.00     0.0   \n128      0.000000  0.000000  0.000000     0.0  0.000000    0.00     0.0   \n185      0.555556  0.000000  0.000000     0.0  0.000000    0.00     0.0   \n46       1.000000  0.000000  0.000000     0.0  0.000000    0.00     0.0   \n62       0.000000  0.555556  0.000000     0.0  0.000000    0.75     0.0   \n66       0.555556  0.000000  0.000000     0.0  0.555556    0.00     0.0   \n443      0.555556  0.000000  0.000000     0.0  0.000000    0.00     0.0   \n594      0.000000  0.555556  0.555556     0.0  0.000000    0.00     0.0   \n465      0.000000  0.000000  0.000000     0.0  0.000000    0.00     0.0   \n210      0.000000  0.000000  0.000000     0.0  0.000000    0.00     0.0   \n72       0.000000  0.000000  0.000000     0.0  0.000000    0.00     0.0   \n595      0.000000  0.000000  0.000000     0.0  0.000000    0.00     0.0   \n506      0.000000  0.000000  0.000000     0.0  0.000000    0.00     0.0   \n563      0.000000 -0.111111  0.000000     0.0  0.000000    0.00     0.0   \n316      0.000000  0.000000  0.000000     0.0  0.000000    0.00     0.0   \n68      -0.111111 -0.111111 -0.333333     0.0 -0.333333    0.50    -0.5   \n252      0.777778  0.000000  0.000000     0.0  0.000000    0.00     0.0   \n596      0.555556  0.000000  0.000000     0.0  0.000000    0.00     0.0   \n10       0.000000  0.000000  0.000000     0.0  0.000000    0.00     0.0   \n150      0.000000  0.000000  0.111111     0.0  0.111111    0.50     0.0   \n597      0.555556  0.000000  0.000000     0.0  0.000000    0.00    -1.0   \n569      0.000000  0.000000  0.000000     0.0  0.000000    0.00     0.0   \n204      0.000000  0.000000  0.000000     0.0  0.000000    0.00     0.0   \n518      0.000000  0.000000  0.000000     0.0  0.000000    0.00     0.0   \n206      1.000000  0.000000  0.000000     0.0  0.000000    0.00     0.5   \n174      0.000000  0.000000  0.000000     0.0  0.000000    0.00     0.0   \n496      0.000000  0.000000  0.000000     0.0  0.000000    0.00     0.0   \n180      0.000000  0.000000  0.000000     0.0  0.000000    0.00     0.0   \n248      0.000000  0.000000  0.000000     0.0  0.000000    0.00     0.0   \n375      0.000000  0.000000  0.000000     0.0  0.000000    0.00     0.0   \n44       0.111111  0.000000  0.111111     0.0  0.000000    0.00     0.0   \n475      0.000000  0.777778  0.000000     0.0  0.000000    0.00     0.0   \n388      0.000000  0.000000  0.000000     0.0  0.000000    0.00     0.0   \n254      0.777778  0.000000  0.000000     0.0  0.000000    0.00     0.0   \n59       0.000000  0.000000  0.000000     0.0  0.000000    0.00     0.0   \n45       0.555556  0.000000  0.000000     0.0  0.111111    0.50     0.0   \n138      0.000000  0.000000  0.000000     0.0  0.000000    0.00     0.0   \n537      0.000000  0.000000  0.000000     0.0  0.000000    0.00     0.0   \n489      0.000000 -0.111111  0.000000     0.0 -0.333333    0.00     0.5   \n294      0.000000  0.111111 -0.777778     0.0  0.000000    0.00     0.0   \n\nmovieId  8       9       10      ...  193565  193567  193571  193573  193579  \\\nuserId                           ...                                           \n155         0.0     0.0    0.00  ...     0.0     0.0     0.0     0.0     0.0   \n189         0.0     0.0    0.00  ...     0.0     0.0     0.0     0.0     0.0   \n296         0.0     0.0    0.00  ...     0.0     0.0     0.0     0.0     0.0   \n421         0.0     0.0    0.00  ...     0.0     0.0     0.0     0.0     0.0   \n493         0.0     0.0    0.00  ...     0.0     0.0     0.0     0.0     0.0   \n390         0.0     0.0    0.00  ...     0.0     0.0     0.0     0.0     0.0   \n183         0.0     0.0    0.00  ...     0.0     0.0     0.0     0.0     0.0   \n411         0.0     0.0    0.00  ...     0.0     0.0     0.0     0.0     0.0   \n535         0.0     0.0    0.00  ...     0.0     0.0     0.0     0.0     0.0   \n440         0.0     0.0    0.00  ...     0.0     0.0     0.0     0.0     0.0   \n357         0.0     0.0    0.00  ...     0.0     0.0     0.0     0.0     0.0   \n556         0.0     0.0    0.00  ...     0.0     0.0     0.0     0.0     0.0   \n570         0.0     0.0    0.25  ...     0.0     0.0     0.0     0.0     0.0   \n400         0.0     0.0    0.00  ...     0.0     0.0     0.0     0.0     0.0   \n37          0.0     0.0    0.00  ...     0.0     0.0     0.0     0.0     0.0   \n466         0.0     0.0    0.00  ...     0.0     0.0     0.0     0.0     0.0   \n128         0.0     0.0    0.00  ...     0.0     0.0     0.0     0.0     0.0   \n185         0.0     0.0    0.00  ...     0.0     0.0     0.0     0.0     0.0   \n46          0.0     0.0    0.00  ...     0.0     0.0     0.0     0.0     0.0   \n62          0.0     0.0    0.00  ...     0.0     0.0     0.0     0.0     0.0   \n66          0.0     0.0    0.00  ...     0.0     0.0     0.0     0.0     0.0   \n443         0.0     0.0    0.00  ...     0.0     0.0     0.0     0.0     0.0   \n594         0.0     0.0    0.00  ...     0.0     0.0     0.0     0.0     0.0   \n465         0.0     0.0    0.00  ...     0.0     0.0     0.0     0.0     0.0   \n210         0.0     0.0    0.00  ...     0.0     0.0     0.0     0.0     0.0   \n72          0.0     0.0    0.00  ...     0.0     0.0     0.0     0.0     0.0   \n595         0.0     0.0    0.00  ...     0.0     0.0     0.0     0.0     0.0   \n506         0.0     0.0    0.00  ...     0.0     0.0     0.0     0.0     0.0   \n563         0.0     0.0    0.00  ...     0.0     0.0     0.0     0.0     0.0   \n316         0.0     0.0    0.00  ...     0.0     0.0     0.0     0.0     0.0   \n68          0.0     0.0    0.75  ...     0.0     0.0     0.0     0.0     0.0   \n252         0.0     0.0    0.00  ...     0.0     0.0     0.0     0.0     0.0   \n596         0.0     0.0    0.00  ...     0.0     0.0     0.0     0.0     0.0   \n10          0.0     0.0    0.00  ...     0.0     0.0     0.0     0.0     0.0   \n150         0.0     0.0    0.00  ...     0.0     0.0     0.0     0.0     0.0   \n597         0.0     0.0    0.00  ...     0.0     0.0     0.0     0.0     0.0   \n569         0.0     0.0    0.50  ...     0.0     0.0     0.0     0.0     0.0   \n204         0.0     0.0    0.00  ...     0.0     0.0     0.0     0.0     0.0   \n518         0.0     0.0    0.00  ...     0.0     0.0     0.0     0.0     0.0   \n206         0.0     0.0    0.00  ...     0.0     0.0     0.0     0.0     0.0   \n174         0.0     0.0    0.00  ...     0.0     0.0     0.0     0.0     0.0   \n496         0.0     0.0    0.00  ...     0.0     0.0     0.0     0.0     0.0   \n180         0.0     0.0    0.00  ...     0.0     0.0     0.0     0.0     0.0   \n248         0.0     0.0    0.25  ...     0.0     0.0     0.0     0.0     0.0   \n375         0.0     0.0    0.00  ...     0.0     0.0     0.0     0.0     0.0   \n44          0.0     0.0    0.00  ...     0.0     0.0     0.0     0.0     0.0   \n475         0.0     0.0    0.00  ...     0.0     0.0     0.0     0.0     0.0   \n388         0.0     0.0    0.00  ...     0.0     0.0     0.0     0.0     0.0   \n254         0.0     0.0    0.00  ...     0.0     0.0     0.0     0.0     0.0   \n59          0.0     0.0    0.00  ...     0.0     0.0     0.0     0.0     0.0   \n45          0.0     0.0    0.00  ...     0.0     0.0     0.0     0.0     0.0   \n138         0.0     0.0    0.00  ...     0.0     0.0     0.0     0.0     0.0   \n537         0.0     0.0    0.00  ...     0.0     0.0     0.0     0.0     0.0   \n489         0.0     0.0   -0.25  ...     0.0     0.0     0.0     0.0     0.0   \n294         0.0     0.0    0.00  ...     0.0     0.0     0.0     0.0     0.0   \n\nmovieId  193581  193583  193585  193587  193609  \nuserId                                           \n155         0.0     0.0     0.0     0.0     0.0  \n189         0.0     0.0     0.0     0.0     0.0  \n296         0.0     0.0     0.0     0.0     0.0  \n421         0.0     0.0     0.0     0.0     0.0  \n493         0.0     0.0     0.0     0.0     0.0  \n390         0.0     0.0     0.0     0.0     0.0  \n183         0.0     0.0     0.0     0.0     0.0  \n411         0.0     0.0     0.0     0.0     0.0  \n535         0.0     0.0     0.0     0.0     0.0  \n440         0.0     0.0     0.0     0.0     0.0  \n357         0.0     0.0     0.0     0.0     0.0  \n556         0.0     0.0     0.0     0.0     0.0  \n570         0.0     0.0     0.0     0.0     0.0  \n400         0.0     0.0     0.0     0.0     0.0  \n37          0.0     0.0     0.0     0.0     0.0  \n466         0.0     0.0     0.0     0.0     0.0  \n128         0.0     0.0     0.0     0.0     0.0  \n185         0.0     0.0     0.0     0.0     0.0  \n46          0.0     0.0     0.0     0.0     0.0  \n62          0.0     0.0     0.0     0.0     0.0  \n66          0.0     0.0     0.0     0.0     0.0  \n443         0.0     0.0     0.0     0.0     0.0  \n594         0.0     0.0     0.0     0.0     0.0  \n465         0.0     0.0     0.0     0.0     0.0  \n210         0.0     0.0     0.0     0.0     0.0  \n72          0.0     0.0     0.0     0.0     0.0  \n595         0.0     0.0     0.0     0.0     0.0  \n506         0.0     0.0     0.0     0.0     0.0  \n563         0.0     0.0     0.0     0.0     0.0  \n316         0.0     0.0     0.0     0.0     0.0  \n68          0.0     0.0     0.0     0.0     0.0  \n252         0.0     0.0     0.0     0.0     0.0  \n596         0.0     0.0     0.0     0.0     0.0  \n10          0.0     0.0     0.0     0.0     0.0  \n150         0.0     0.0     0.0     0.0     0.0  \n597         0.0     0.0     0.0     0.0     0.0  \n569         0.0     0.0     0.0     0.0     0.0  \n204         0.0     0.0     0.0     0.0     0.0  \n518         0.0     0.0     0.0     0.0     0.0  \n206         0.0     0.0     0.0     0.0     0.0  \n174         0.0     0.0     0.0     0.0     0.0  \n496         0.0     0.0     0.0     0.0     0.0  \n180         0.0     0.0     0.0     0.0     0.0  \n248         0.0     0.0     0.0     0.0     0.0  \n375         0.0     0.0     0.0     0.0     0.0  \n44          0.0     0.0     0.0     0.0     0.0  \n475         0.0     0.0     0.0     0.0     0.0  \n388         0.0     0.0     0.0     0.0     0.0  \n254         0.0     0.0     0.0     0.0     0.0  \n59          0.0     0.0     0.0     0.0     0.0  \n45          0.0     0.0     0.0     0.0     0.0  \n138         0.0     0.0     0.0     0.0     0.0  \n537         0.0     0.0     0.0     0.0     0.0  \n489         0.0     0.0     0.0     0.0     0.0  \n294         0.0     0.0     0.0     0.0     0.0  \n\n[55 rows x 9724 columns]",
      "text/html": "<div>\n<style scoped>\n    .dataframe tbody tr th:only-of-type {\n        vertical-align: middle;\n    }\n\n    .dataframe tbody tr th {\n        vertical-align: top;\n    }\n\n    .dataframe thead th {\n        text-align: right;\n    }\n</style>\n<table border=\"1\" class=\"dataframe\">\n  <thead>\n    <tr style=\"text-align: right;\">\n      <th>movieId</th>\n      <th>1</th>\n      <th>2</th>\n      <th>3</th>\n      <th>4</th>\n      <th>5</th>\n      <th>6</th>\n      <th>7</th>\n      <th>8</th>\n      <th>9</th>\n      <th>10</th>\n      <th>...</th>\n      <th>193565</th>\n      <th>193567</th>\n      <th>193571</th>\n      <th>193573</th>\n      <th>193579</th>\n      <th>193581</th>\n      <th>193583</th>\n      <th>193585</th>\n      <th>193587</th>\n      <th>193609</th>\n    </tr>\n    <tr>\n      <th>userId</th>\n      <th></th>\n      <th></th>\n      <th></th>\n      <th></th>\n      <th></th>\n      <th></th>\n      <th></th>\n      <th></th>\n      <th></th>\n      <th></th>\n      <th></th>\n      <th></th>\n      <th></th>\n      <th></th>\n      <th></th>\n      <th></th>\n      <th></th>\n      <th></th>\n      <th></th>\n      <th></th>\n      <th></th>\n    </tr>\n  </thead>\n  <tbody>\n    <tr>\n      <th>155</th>\n      <td>0.111111</td>\n      <td>0.000000</td>\n      <td>0.000000</td>\n      <td>0.0</td>\n      <td>0.000000</td>\n      <td>0.00</td>\n      <td>0.0</td>\n      <td>0.0</td>\n      <td>0.0</td>\n      <td>0.00</td>\n      <td>...</td>\n      <td>0.0</td>\n      <td>0.0</td>\n      <td>0.0</td>\n      <td>0.0</td>\n      <td>0.0</td>\n      <td>0.0</td>\n      <td>0.0</td>\n      <td>0.0</td>\n      <td>0.0</td>\n      <td>0.0</td>\n    </tr>\n    <tr>\n      <th>189</th>\n      <td>0.000000</td>\n      <td>0.000000</td>\n      <td>0.000000</td>\n      <td>0.0</td>\n      <td>0.000000</td>\n      <td>0.00</td>\n      <td>0.0</td>\n      <td>0.0</td>\n      <td>0.0</td>\n      <td>0.00</td>\n      <td>...</td>\n      <td>0.0</td>\n      <td>0.0</td>\n      <td>0.0</td>\n      <td>0.0</td>\n      <td>0.0</td>\n      <td>0.0</td>\n      <td>0.0</td>\n      <td>0.0</td>\n      <td>0.0</td>\n      <td>0.0</td>\n    </tr>\n    <tr>\n      <th>296</th>\n      <td>0.000000</td>\n      <td>0.000000</td>\n      <td>0.000000</td>\n      <td>0.0</td>\n      <td>0.000000</td>\n      <td>0.00</td>\n      <td>0.0</td>\n      <td>0.0</td>\n      <td>0.0</td>\n      <td>0.00</td>\n      <td>...</td>\n      <td>0.0</td>\n      <td>0.0</td>\n      <td>0.0</td>\n      <td>0.0</td>\n      <td>0.0</td>\n      <td>0.0</td>\n      <td>0.0</td>\n      <td>0.0</td>\n      <td>0.0</td>\n      <td>0.0</td>\n    </tr>\n    <tr>\n      <th>421</th>\n      <td>0.000000</td>\n      <td>0.000000</td>\n      <td>0.000000</td>\n      <td>0.0</td>\n      <td>0.000000</td>\n      <td>0.00</td>\n      <td>0.0</td>\n      <td>0.0</td>\n      <td>0.0</td>\n      <td>0.00</td>\n      <td>...</td>\n      <td>0.0</td>\n      <td>0.0</td>\n      <td>0.0</td>\n      <td>0.0</td>\n      <td>0.0</td>\n      <td>0.0</td>\n      <td>0.0</td>\n      <td>0.0</td>\n      <td>0.0</td>\n      <td>0.0</td>\n    </tr>\n    <tr>\n      <th>493</th>\n      <td>0.000000</td>\n      <td>0.000000</td>\n      <td>0.000000</td>\n      <td>0.0</td>\n      <td>0.000000</td>\n      <td>0.50</td>\n      <td>0.0</td>\n      <td>0.0</td>\n      <td>0.0</td>\n      <td>0.00</td>\n      <td>...</td>\n      <td>0.0</td>\n      <td>0.0</td>\n      <td>0.0</td>\n      <td>0.0</td>\n      <td>0.0</td>\n      <td>0.0</td>\n      <td>0.0</td>\n      <td>0.0</td>\n      <td>0.0</td>\n      <td>0.0</td>\n    </tr>\n    <tr>\n      <th>390</th>\n      <td>0.000000</td>\n      <td>0.000000</td>\n      <td>0.000000</td>\n      <td>0.0</td>\n      <td>0.000000</td>\n      <td>0.00</td>\n      <td>0.0</td>\n      <td>0.0</td>\n      <td>0.0</td>\n      <td>0.00</td>\n      <td>...</td>\n      <td>0.0</td>\n      <td>0.0</td>\n      <td>0.0</td>\n      <td>0.0</td>\n      <td>0.0</td>\n      <td>0.0</td>\n      <td>0.0</td>\n      <td>0.0</td>\n      <td>0.0</td>\n      <td>0.0</td>\n    </tr>\n    <tr>\n      <th>183</th>\n      <td>0.000000</td>\n      <td>0.000000</td>\n      <td>0.000000</td>\n      <td>0.0</td>\n      <td>0.000000</td>\n      <td>0.00</td>\n      <td>0.0</td>\n      <td>0.0</td>\n      <td>0.0</td>\n      <td>0.00</td>\n      <td>...</td>\n      <td>0.0</td>\n      <td>0.0</td>\n      <td>0.0</td>\n      <td>0.0</td>\n      <td>0.0</td>\n      <td>0.0</td>\n      <td>0.0</td>\n      <td>0.0</td>\n      <td>0.0</td>\n      <td>0.0</td>\n    </tr>\n    <tr>\n      <th>411</th>\n      <td>1.000000</td>\n      <td>0.555556</td>\n      <td>0.000000</td>\n      <td>0.0</td>\n      <td>0.000000</td>\n      <td>0.00</td>\n      <td>0.0</td>\n      <td>0.0</td>\n      <td>0.0</td>\n      <td>0.00</td>\n      <td>...</td>\n      <td>0.0</td>\n      <td>0.0</td>\n      <td>0.0</td>\n      <td>0.0</td>\n      <td>0.0</td>\n      <td>0.0</td>\n      <td>0.0</td>\n      <td>0.0</td>\n      <td>0.0</td>\n      <td>0.0</td>\n    </tr>\n    <tr>\n      <th>535</th>\n      <td>0.000000</td>\n      <td>0.000000</td>\n      <td>0.000000</td>\n      <td>0.0</td>\n      <td>0.000000</td>\n      <td>0.00</td>\n      <td>0.0</td>\n      <td>0.0</td>\n      <td>0.0</td>\n      <td>0.00</td>\n      <td>...</td>\n      <td>0.0</td>\n      <td>0.0</td>\n      <td>0.0</td>\n      <td>0.0</td>\n      <td>0.0</td>\n      <td>0.0</td>\n      <td>0.0</td>\n      <td>0.0</td>\n      <td>0.0</td>\n      <td>0.0</td>\n    </tr>\n    <tr>\n      <th>440</th>\n      <td>0.000000</td>\n      <td>0.000000</td>\n      <td>0.000000</td>\n      <td>0.0</td>\n      <td>0.000000</td>\n      <td>0.00</td>\n      <td>0.0</td>\n      <td>0.0</td>\n      <td>0.0</td>\n      <td>0.00</td>\n      <td>...</td>\n      <td>0.0</td>\n      <td>0.0</td>\n      <td>0.0</td>\n      <td>0.0</td>\n      <td>0.0</td>\n      <td>0.0</td>\n      <td>0.0</td>\n      <td>0.0</td>\n      <td>0.0</td>\n      <td>0.0</td>\n    </tr>\n    <tr>\n      <th>357</th>\n      <td>1.000000</td>\n      <td>0.111111</td>\n      <td>0.000000</td>\n      <td>0.0</td>\n      <td>0.000000</td>\n      <td>0.00</td>\n      <td>0.0</td>\n      <td>0.0</td>\n      <td>0.0</td>\n      <td>0.00</td>\n      <td>...</td>\n      <td>0.0</td>\n      <td>0.0</td>\n      <td>0.0</td>\n      <td>0.0</td>\n      <td>0.0</td>\n      <td>0.0</td>\n      <td>0.0</td>\n      <td>0.0</td>\n      <td>0.0</td>\n      <td>0.0</td>\n    </tr>\n    <tr>\n      <th>556</th>\n      <td>0.000000</td>\n      <td>0.000000</td>\n      <td>0.000000</td>\n      <td>0.0</td>\n      <td>0.000000</td>\n      <td>0.00</td>\n      <td>0.0</td>\n      <td>0.0</td>\n      <td>0.0</td>\n      <td>0.00</td>\n      <td>...</td>\n      <td>0.0</td>\n      <td>0.0</td>\n      <td>0.0</td>\n      <td>0.0</td>\n      <td>0.0</td>\n      <td>0.0</td>\n      <td>0.0</td>\n      <td>0.0</td>\n      <td>0.0</td>\n      <td>0.0</td>\n    </tr>\n    <tr>\n      <th>570</th>\n      <td>0.555556</td>\n      <td>0.333333</td>\n      <td>0.000000</td>\n      <td>0.0</td>\n      <td>0.000000</td>\n      <td>0.00</td>\n      <td>0.0</td>\n      <td>0.0</td>\n      <td>0.0</td>\n      <td>0.25</td>\n      <td>...</td>\n      <td>0.0</td>\n      <td>0.0</td>\n      <td>0.0</td>\n      <td>0.0</td>\n      <td>0.0</td>\n      <td>0.0</td>\n      <td>0.0</td>\n      <td>0.0</td>\n      <td>0.0</td>\n      <td>0.0</td>\n    </tr>\n    <tr>\n      <th>400</th>\n      <td>0.000000</td>\n      <td>0.000000</td>\n      <td>0.000000</td>\n      <td>0.0</td>\n      <td>0.000000</td>\n      <td>1.00</td>\n      <td>0.0</td>\n      <td>0.0</td>\n      <td>0.0</td>\n      <td>0.00</td>\n      <td>...</td>\n      <td>0.0</td>\n      <td>0.0</td>\n      <td>0.0</td>\n      <td>0.0</td>\n      <td>0.0</td>\n      <td>0.0</td>\n      <td>0.0</td>\n      <td>0.0</td>\n      <td>0.0</td>\n      <td>0.0</td>\n    </tr>\n    <tr>\n      <th>37</th>\n      <td>0.000000</td>\n      <td>0.000000</td>\n      <td>0.000000</td>\n      <td>0.0</td>\n      <td>0.000000</td>\n      <td>0.00</td>\n      <td>0.0</td>\n      <td>0.0</td>\n      <td>0.0</td>\n      <td>0.00</td>\n      <td>...</td>\n      <td>0.0</td>\n      <td>0.0</td>\n      <td>0.0</td>\n      <td>0.0</td>\n      <td>0.0</td>\n      <td>0.0</td>\n      <td>0.0</td>\n      <td>0.0</td>\n      <td>0.0</td>\n      <td>0.0</td>\n    </tr>\n    <tr>\n      <th>466</th>\n      <td>0.000000</td>\n      <td>0.000000</td>\n      <td>0.000000</td>\n      <td>0.0</td>\n      <td>0.000000</td>\n      <td>0.00</td>\n      <td>0.0</td>\n      <td>0.0</td>\n      <td>0.0</td>\n      <td>0.00</td>\n      <td>...</td>\n      <td>0.0</td>\n      <td>0.0</td>\n      <td>0.0</td>\n      <td>0.0</td>\n      <td>0.0</td>\n      <td>0.0</td>\n      <td>0.0</td>\n      <td>0.0</td>\n      <td>0.0</td>\n      <td>0.0</td>\n    </tr>\n    <tr>\n      <th>128</th>\n      <td>0.000000</td>\n      <td>0.000000</td>\n      <td>0.000000</td>\n      <td>0.0</td>\n      <td>0.000000</td>\n      <td>0.00</td>\n      <td>0.0</td>\n      <td>0.0</td>\n      <td>0.0</td>\n      <td>0.00</td>\n      <td>...</td>\n      <td>0.0</td>\n      <td>0.0</td>\n      <td>0.0</td>\n      <td>0.0</td>\n      <td>0.0</td>\n      <td>0.0</td>\n      <td>0.0</td>\n      <td>0.0</td>\n      <td>0.0</td>\n      <td>0.0</td>\n    </tr>\n    <tr>\n      <th>185</th>\n      <td>0.555556</td>\n      <td>0.000000</td>\n      <td>0.000000</td>\n      <td>0.0</td>\n      <td>0.000000</td>\n      <td>0.00</td>\n      <td>0.0</td>\n      <td>0.0</td>\n      <td>0.0</td>\n      <td>0.00</td>\n      <td>...</td>\n      <td>0.0</td>\n      <td>0.0</td>\n      <td>0.0</td>\n      <td>0.0</td>\n      <td>0.0</td>\n      <td>0.0</td>\n      <td>0.0</td>\n      <td>0.0</td>\n      <td>0.0</td>\n      <td>0.0</td>\n    </tr>\n    <tr>\n      <th>46</th>\n      <td>1.000000</td>\n      <td>0.000000</td>\n      <td>0.000000</td>\n      <td>0.0</td>\n      <td>0.000000</td>\n      <td>0.00</td>\n      <td>0.0</td>\n      <td>0.0</td>\n      <td>0.0</td>\n      <td>0.00</td>\n      <td>...</td>\n      <td>0.0</td>\n      <td>0.0</td>\n      <td>0.0</td>\n      <td>0.0</td>\n      <td>0.0</td>\n      <td>0.0</td>\n      <td>0.0</td>\n      <td>0.0</td>\n      <td>0.0</td>\n      <td>0.0</td>\n    </tr>\n    <tr>\n      <th>62</th>\n      <td>0.000000</td>\n      <td>0.555556</td>\n      <td>0.000000</td>\n      <td>0.0</td>\n      <td>0.000000</td>\n      <td>0.75</td>\n      <td>0.0</td>\n      <td>0.0</td>\n      <td>0.0</td>\n      <td>0.00</td>\n      <td>...</td>\n      <td>0.0</td>\n      <td>0.0</td>\n      <td>0.0</td>\n      <td>0.0</td>\n      <td>0.0</td>\n      <td>0.0</td>\n      <td>0.0</td>\n      <td>0.0</td>\n      <td>0.0</td>\n      <td>0.0</td>\n    </tr>\n    <tr>\n      <th>66</th>\n      <td>0.555556</td>\n      <td>0.000000</td>\n      <td>0.000000</td>\n      <td>0.0</td>\n      <td>0.555556</td>\n      <td>0.00</td>\n      <td>0.0</td>\n      <td>0.0</td>\n      <td>0.0</td>\n      <td>0.00</td>\n      <td>...</td>\n      <td>0.0</td>\n      <td>0.0</td>\n      <td>0.0</td>\n      <td>0.0</td>\n      <td>0.0</td>\n      <td>0.0</td>\n      <td>0.0</td>\n      <td>0.0</td>\n      <td>0.0</td>\n      <td>0.0</td>\n    </tr>\n    <tr>\n      <th>443</th>\n      <td>0.555556</td>\n      <td>0.000000</td>\n      <td>0.000000</td>\n      <td>0.0</td>\n      <td>0.000000</td>\n      <td>0.00</td>\n      <td>0.0</td>\n      <td>0.0</td>\n      <td>0.0</td>\n      <td>0.00</td>\n      <td>...</td>\n      <td>0.0</td>\n      <td>0.0</td>\n      <td>0.0</td>\n      <td>0.0</td>\n      <td>0.0</td>\n      <td>0.0</td>\n      <td>0.0</td>\n      <td>0.0</td>\n      <td>0.0</td>\n      <td>0.0</td>\n    </tr>\n    <tr>\n      <th>594</th>\n      <td>0.000000</td>\n      <td>0.555556</td>\n      <td>0.555556</td>\n      <td>0.0</td>\n      <td>0.000000</td>\n      <td>0.00</td>\n      <td>0.0</td>\n      <td>0.0</td>\n      <td>0.0</td>\n      <td>0.00</td>\n      <td>...</td>\n      <td>0.0</td>\n      <td>0.0</td>\n      <td>0.0</td>\n      <td>0.0</td>\n      <td>0.0</td>\n      <td>0.0</td>\n      <td>0.0</td>\n      <td>0.0</td>\n      <td>0.0</td>\n      <td>0.0</td>\n    </tr>\n    <tr>\n      <th>465</th>\n      <td>0.000000</td>\n      <td>0.000000</td>\n      <td>0.000000</td>\n      <td>0.0</td>\n      <td>0.000000</td>\n      <td>0.00</td>\n      <td>0.0</td>\n      <td>0.0</td>\n      <td>0.0</td>\n      <td>0.00</td>\n      <td>...</td>\n      <td>0.0</td>\n      <td>0.0</td>\n      <td>0.0</td>\n      <td>0.0</td>\n      <td>0.0</td>\n      <td>0.0</td>\n      <td>0.0</td>\n      <td>0.0</td>\n      <td>0.0</td>\n      <td>0.0</td>\n    </tr>\n    <tr>\n      <th>210</th>\n      <td>0.000000</td>\n      <td>0.000000</td>\n      <td>0.000000</td>\n      <td>0.0</td>\n      <td>0.000000</td>\n      <td>0.00</td>\n      <td>0.0</td>\n      <td>0.0</td>\n      <td>0.0</td>\n      <td>0.00</td>\n      <td>...</td>\n      <td>0.0</td>\n      <td>0.0</td>\n      <td>0.0</td>\n      <td>0.0</td>\n      <td>0.0</td>\n      <td>0.0</td>\n      <td>0.0</td>\n      <td>0.0</td>\n      <td>0.0</td>\n      <td>0.0</td>\n    </tr>\n    <tr>\n      <th>72</th>\n      <td>0.000000</td>\n      <td>0.000000</td>\n      <td>0.000000</td>\n      <td>0.0</td>\n      <td>0.000000</td>\n      <td>0.00</td>\n      <td>0.0</td>\n      <td>0.0</td>\n      <td>0.0</td>\n      <td>0.00</td>\n      <td>...</td>\n      <td>0.0</td>\n      <td>0.0</td>\n      <td>0.0</td>\n      <td>0.0</td>\n      <td>0.0</td>\n      <td>0.0</td>\n      <td>0.0</td>\n      <td>0.0</td>\n      <td>0.0</td>\n      <td>0.0</td>\n    </tr>\n    <tr>\n      <th>595</th>\n      <td>0.000000</td>\n      <td>0.000000</td>\n      <td>0.000000</td>\n      <td>0.0</td>\n      <td>0.000000</td>\n      <td>0.00</td>\n      <td>0.0</td>\n      <td>0.0</td>\n      <td>0.0</td>\n      <td>0.00</td>\n      <td>...</td>\n      <td>0.0</td>\n      <td>0.0</td>\n      <td>0.0</td>\n      <td>0.0</td>\n      <td>0.0</td>\n      <td>0.0</td>\n      <td>0.0</td>\n      <td>0.0</td>\n      <td>0.0</td>\n      <td>0.0</td>\n    </tr>\n    <tr>\n      <th>506</th>\n      <td>0.000000</td>\n      <td>0.000000</td>\n      <td>0.000000</td>\n      <td>0.0</td>\n      <td>0.000000</td>\n      <td>0.00</td>\n      <td>0.0</td>\n      <td>0.0</td>\n      <td>0.0</td>\n      <td>0.00</td>\n      <td>...</td>\n      <td>0.0</td>\n      <td>0.0</td>\n      <td>0.0</td>\n      <td>0.0</td>\n      <td>0.0</td>\n      <td>0.0</td>\n      <td>0.0</td>\n      <td>0.0</td>\n      <td>0.0</td>\n      <td>0.0</td>\n    </tr>\n    <tr>\n      <th>563</th>\n      <td>0.000000</td>\n      <td>-0.111111</td>\n      <td>0.000000</td>\n      <td>0.0</td>\n      <td>0.000000</td>\n      <td>0.00</td>\n      <td>0.0</td>\n      <td>0.0</td>\n      <td>0.0</td>\n      <td>0.00</td>\n      <td>...</td>\n      <td>0.0</td>\n      <td>0.0</td>\n      <td>0.0</td>\n      <td>0.0</td>\n      <td>0.0</td>\n      <td>0.0</td>\n      <td>0.0</td>\n      <td>0.0</td>\n      <td>0.0</td>\n      <td>0.0</td>\n    </tr>\n    <tr>\n      <th>316</th>\n      <td>0.000000</td>\n      <td>0.000000</td>\n      <td>0.000000</td>\n      <td>0.0</td>\n      <td>0.000000</td>\n      <td>0.00</td>\n      <td>0.0</td>\n      <td>0.0</td>\n      <td>0.0</td>\n      <td>0.00</td>\n      <td>...</td>\n      <td>0.0</td>\n      <td>0.0</td>\n      <td>0.0</td>\n      <td>0.0</td>\n      <td>0.0</td>\n      <td>0.0</td>\n      <td>0.0</td>\n      <td>0.0</td>\n      <td>0.0</td>\n      <td>0.0</td>\n    </tr>\n    <tr>\n      <th>68</th>\n      <td>-0.111111</td>\n      <td>-0.111111</td>\n      <td>-0.333333</td>\n      <td>0.0</td>\n      <td>-0.333333</td>\n      <td>0.50</td>\n      <td>-0.5</td>\n      <td>0.0</td>\n      <td>0.0</td>\n      <td>0.75</td>\n      <td>...</td>\n      <td>0.0</td>\n      <td>0.0</td>\n      <td>0.0</td>\n      <td>0.0</td>\n      <td>0.0</td>\n      <td>0.0</td>\n      <td>0.0</td>\n      <td>0.0</td>\n      <td>0.0</td>\n      <td>0.0</td>\n    </tr>\n    <tr>\n      <th>252</th>\n      <td>0.777778</td>\n      <td>0.000000</td>\n      <td>0.000000</td>\n      <td>0.0</td>\n      <td>0.000000</td>\n      <td>0.00</td>\n      <td>0.0</td>\n      <td>0.0</td>\n      <td>0.0</td>\n      <td>0.00</td>\n      <td>...</td>\n      <td>0.0</td>\n      <td>0.0</td>\n      <td>0.0</td>\n      <td>0.0</td>\n      <td>0.0</td>\n      <td>0.0</td>\n      <td>0.0</td>\n      <td>0.0</td>\n      <td>0.0</td>\n      <td>0.0</td>\n    </tr>\n    <tr>\n      <th>596</th>\n      <td>0.555556</td>\n      <td>0.000000</td>\n      <td>0.000000</td>\n      <td>0.0</td>\n      <td>0.000000</td>\n      <td>0.00</td>\n      <td>0.0</td>\n      <td>0.0</td>\n      <td>0.0</td>\n      <td>0.00</td>\n      <td>...</td>\n      <td>0.0</td>\n      <td>0.0</td>\n      <td>0.0</td>\n      <td>0.0</td>\n      <td>0.0</td>\n      <td>0.0</td>\n      <td>0.0</td>\n      <td>0.0</td>\n      <td>0.0</td>\n      <td>0.0</td>\n    </tr>\n    <tr>\n      <th>10</th>\n      <td>0.000000</td>\n      <td>0.000000</td>\n      <td>0.000000</td>\n      <td>0.0</td>\n      <td>0.000000</td>\n      <td>0.00</td>\n      <td>0.0</td>\n      <td>0.0</td>\n      <td>0.0</td>\n      <td>0.00</td>\n      <td>...</td>\n      <td>0.0</td>\n      <td>0.0</td>\n      <td>0.0</td>\n      <td>0.0</td>\n      <td>0.0</td>\n      <td>0.0</td>\n      <td>0.0</td>\n      <td>0.0</td>\n      <td>0.0</td>\n      <td>0.0</td>\n    </tr>\n    <tr>\n      <th>150</th>\n      <td>0.000000</td>\n      <td>0.000000</td>\n      <td>0.111111</td>\n      <td>0.0</td>\n      <td>0.111111</td>\n      <td>0.50</td>\n      <td>0.0</td>\n      <td>0.0</td>\n      <td>0.0</td>\n      <td>0.00</td>\n      <td>...</td>\n      <td>0.0</td>\n      <td>0.0</td>\n      <td>0.0</td>\n      <td>0.0</td>\n      <td>0.0</td>\n      <td>0.0</td>\n      <td>0.0</td>\n      <td>0.0</td>\n      <td>0.0</td>\n      <td>0.0</td>\n    </tr>\n    <tr>\n      <th>597</th>\n      <td>0.555556</td>\n      <td>0.000000</td>\n      <td>0.000000</td>\n      <td>0.0</td>\n      <td>0.000000</td>\n      <td>0.00</td>\n      <td>-1.0</td>\n      <td>0.0</td>\n      <td>0.0</td>\n      <td>0.00</td>\n      <td>...</td>\n      <td>0.0</td>\n      <td>0.0</td>\n      <td>0.0</td>\n      <td>0.0</td>\n      <td>0.0</td>\n      <td>0.0</td>\n      <td>0.0</td>\n      <td>0.0</td>\n      <td>0.0</td>\n      <td>0.0</td>\n    </tr>\n    <tr>\n      <th>569</th>\n      <td>0.000000</td>\n      <td>0.000000</td>\n      <td>0.000000</td>\n      <td>0.0</td>\n      <td>0.000000</td>\n      <td>0.00</td>\n      <td>0.0</td>\n      <td>0.0</td>\n      <td>0.0</td>\n      <td>0.50</td>\n      <td>...</td>\n      <td>0.0</td>\n      <td>0.0</td>\n      <td>0.0</td>\n      <td>0.0</td>\n      <td>0.0</td>\n      <td>0.0</td>\n      <td>0.0</td>\n      <td>0.0</td>\n      <td>0.0</td>\n      <td>0.0</td>\n    </tr>\n    <tr>\n      <th>204</th>\n      <td>0.000000</td>\n      <td>0.000000</td>\n      <td>0.000000</td>\n      <td>0.0</td>\n      <td>0.000000</td>\n      <td>0.00</td>\n      <td>0.0</td>\n      <td>0.0</td>\n      <td>0.0</td>\n      <td>0.00</td>\n      <td>...</td>\n      <td>0.0</td>\n      <td>0.0</td>\n      <td>0.0</td>\n      <td>0.0</td>\n      <td>0.0</td>\n      <td>0.0</td>\n      <td>0.0</td>\n      <td>0.0</td>\n      <td>0.0</td>\n      <td>0.0</td>\n    </tr>\n    <tr>\n      <th>518</th>\n      <td>0.000000</td>\n      <td>0.000000</td>\n      <td>0.000000</td>\n      <td>0.0</td>\n      <td>0.000000</td>\n      <td>0.00</td>\n      <td>0.0</td>\n      <td>0.0</td>\n      <td>0.0</td>\n      <td>0.00</td>\n      <td>...</td>\n      <td>0.0</td>\n      <td>0.0</td>\n      <td>0.0</td>\n      <td>0.0</td>\n      <td>0.0</td>\n      <td>0.0</td>\n      <td>0.0</td>\n      <td>0.0</td>\n      <td>0.0</td>\n      <td>0.0</td>\n    </tr>\n    <tr>\n      <th>206</th>\n      <td>1.000000</td>\n      <td>0.000000</td>\n      <td>0.000000</td>\n      <td>0.0</td>\n      <td>0.000000</td>\n      <td>0.00</td>\n      <td>0.5</td>\n      <td>0.0</td>\n      <td>0.0</td>\n      <td>0.00</td>\n      <td>...</td>\n      <td>0.0</td>\n      <td>0.0</td>\n      <td>0.0</td>\n      <td>0.0</td>\n      <td>0.0</td>\n      <td>0.0</td>\n      <td>0.0</td>\n      <td>0.0</td>\n      <td>0.0</td>\n      <td>0.0</td>\n    </tr>\n    <tr>\n      <th>174</th>\n      <td>0.000000</td>\n      <td>0.000000</td>\n      <td>0.000000</td>\n      <td>0.0</td>\n      <td>0.000000</td>\n      <td>0.00</td>\n      <td>0.0</td>\n      <td>0.0</td>\n      <td>0.0</td>\n      <td>0.00</td>\n      <td>...</td>\n      <td>0.0</td>\n      <td>0.0</td>\n      <td>0.0</td>\n      <td>0.0</td>\n      <td>0.0</td>\n      <td>0.0</td>\n      <td>0.0</td>\n      <td>0.0</td>\n      <td>0.0</td>\n      <td>0.0</td>\n    </tr>\n    <tr>\n      <th>496</th>\n      <td>0.000000</td>\n      <td>0.000000</td>\n      <td>0.000000</td>\n      <td>0.0</td>\n      <td>0.000000</td>\n      <td>0.00</td>\n      <td>0.0</td>\n      <td>0.0</td>\n      <td>0.0</td>\n      <td>0.00</td>\n      <td>...</td>\n      <td>0.0</td>\n      <td>0.0</td>\n      <td>0.0</td>\n      <td>0.0</td>\n      <td>0.0</td>\n      <td>0.0</td>\n      <td>0.0</td>\n      <td>0.0</td>\n      <td>0.0</td>\n      <td>0.0</td>\n    </tr>\n    <tr>\n      <th>180</th>\n      <td>0.000000</td>\n      <td>0.000000</td>\n      <td>0.000000</td>\n      <td>0.0</td>\n      <td>0.000000</td>\n      <td>0.00</td>\n      <td>0.0</td>\n      <td>0.0</td>\n      <td>0.0</td>\n      <td>0.00</td>\n      <td>...</td>\n      <td>0.0</td>\n      <td>0.0</td>\n      <td>0.0</td>\n      <td>0.0</td>\n      <td>0.0</td>\n      <td>0.0</td>\n      <td>0.0</td>\n      <td>0.0</td>\n      <td>0.0</td>\n      <td>0.0</td>\n    </tr>\n    <tr>\n      <th>248</th>\n      <td>0.000000</td>\n      <td>0.000000</td>\n      <td>0.000000</td>\n      <td>0.0</td>\n      <td>0.000000</td>\n      <td>0.00</td>\n      <td>0.0</td>\n      <td>0.0</td>\n      <td>0.0</td>\n      <td>0.25</td>\n      <td>...</td>\n      <td>0.0</td>\n      <td>0.0</td>\n      <td>0.0</td>\n      <td>0.0</td>\n      <td>0.0</td>\n      <td>0.0</td>\n      <td>0.0</td>\n      <td>0.0</td>\n      <td>0.0</td>\n      <td>0.0</td>\n    </tr>\n    <tr>\n      <th>375</th>\n      <td>0.000000</td>\n      <td>0.000000</td>\n      <td>0.000000</td>\n      <td>0.0</td>\n      <td>0.000000</td>\n      <td>0.00</td>\n      <td>0.0</td>\n      <td>0.0</td>\n      <td>0.0</td>\n      <td>0.00</td>\n      <td>...</td>\n      <td>0.0</td>\n      <td>0.0</td>\n      <td>0.0</td>\n      <td>0.0</td>\n      <td>0.0</td>\n      <td>0.0</td>\n      <td>0.0</td>\n      <td>0.0</td>\n      <td>0.0</td>\n      <td>0.0</td>\n    </tr>\n    <tr>\n      <th>44</th>\n      <td>0.111111</td>\n      <td>0.000000</td>\n      <td>0.111111</td>\n      <td>0.0</td>\n      <td>0.000000</td>\n      <td>0.00</td>\n      <td>0.0</td>\n      <td>0.0</td>\n      <td>0.0</td>\n      <td>0.00</td>\n      <td>...</td>\n      <td>0.0</td>\n      <td>0.0</td>\n      <td>0.0</td>\n      <td>0.0</td>\n      <td>0.0</td>\n      <td>0.0</td>\n      <td>0.0</td>\n      <td>0.0</td>\n      <td>0.0</td>\n      <td>0.0</td>\n    </tr>\n    <tr>\n      <th>475</th>\n      <td>0.000000</td>\n      <td>0.777778</td>\n      <td>0.000000</td>\n      <td>0.0</td>\n      <td>0.000000</td>\n      <td>0.00</td>\n      <td>0.0</td>\n      <td>0.0</td>\n      <td>0.0</td>\n      <td>0.00</td>\n      <td>...</td>\n      <td>0.0</td>\n      <td>0.0</td>\n      <td>0.0</td>\n      <td>0.0</td>\n      <td>0.0</td>\n      <td>0.0</td>\n      <td>0.0</td>\n      <td>0.0</td>\n      <td>0.0</td>\n      <td>0.0</td>\n    </tr>\n    <tr>\n      <th>388</th>\n      <td>0.000000</td>\n      <td>0.000000</td>\n      <td>0.000000</td>\n      <td>0.0</td>\n      <td>0.000000</td>\n      <td>0.00</td>\n      <td>0.0</td>\n      <td>0.0</td>\n      <td>0.0</td>\n      <td>0.00</td>\n      <td>...</td>\n      <td>0.0</td>\n      <td>0.0</td>\n      <td>0.0</td>\n      <td>0.0</td>\n      <td>0.0</td>\n      <td>0.0</td>\n      <td>0.0</td>\n      <td>0.0</td>\n      <td>0.0</td>\n      <td>0.0</td>\n    </tr>\n    <tr>\n      <th>254</th>\n      <td>0.777778</td>\n      <td>0.000000</td>\n      <td>0.000000</td>\n      <td>0.0</td>\n      <td>0.000000</td>\n      <td>0.00</td>\n      <td>0.0</td>\n      <td>0.0</td>\n      <td>0.0</td>\n      <td>0.00</td>\n      <td>...</td>\n      <td>0.0</td>\n      <td>0.0</td>\n      <td>0.0</td>\n      <td>0.0</td>\n      <td>0.0</td>\n      <td>0.0</td>\n      <td>0.0</td>\n      <td>0.0</td>\n      <td>0.0</td>\n      <td>0.0</td>\n    </tr>\n    <tr>\n      <th>59</th>\n      <td>0.000000</td>\n      <td>0.000000</td>\n      <td>0.000000</td>\n      <td>0.0</td>\n      <td>0.000000</td>\n      <td>0.00</td>\n      <td>0.0</td>\n      <td>0.0</td>\n      <td>0.0</td>\n      <td>0.00</td>\n      <td>...</td>\n      <td>0.0</td>\n      <td>0.0</td>\n      <td>0.0</td>\n      <td>0.0</td>\n      <td>0.0</td>\n      <td>0.0</td>\n      <td>0.0</td>\n      <td>0.0</td>\n      <td>0.0</td>\n      <td>0.0</td>\n    </tr>\n    <tr>\n      <th>45</th>\n      <td>0.555556</td>\n      <td>0.000000</td>\n      <td>0.000000</td>\n      <td>0.0</td>\n      <td>0.111111</td>\n      <td>0.50</td>\n      <td>0.0</td>\n      <td>0.0</td>\n      <td>0.0</td>\n      <td>0.00</td>\n      <td>...</td>\n      <td>0.0</td>\n      <td>0.0</td>\n      <td>0.0</td>\n      <td>0.0</td>\n      <td>0.0</td>\n      <td>0.0</td>\n      <td>0.0</td>\n      <td>0.0</td>\n      <td>0.0</td>\n      <td>0.0</td>\n    </tr>\n    <tr>\n      <th>138</th>\n      <td>0.000000</td>\n      <td>0.000000</td>\n      <td>0.000000</td>\n      <td>0.0</td>\n      <td>0.000000</td>\n      <td>0.00</td>\n      <td>0.0</td>\n      <td>0.0</td>\n      <td>0.0</td>\n      <td>0.00</td>\n      <td>...</td>\n      <td>0.0</td>\n      <td>0.0</td>\n      <td>0.0</td>\n      <td>0.0</td>\n      <td>0.0</td>\n      <td>0.0</td>\n      <td>0.0</td>\n      <td>0.0</td>\n      <td>0.0</td>\n      <td>0.0</td>\n    </tr>\n    <tr>\n      <th>537</th>\n      <td>0.000000</td>\n      <td>0.000000</td>\n      <td>0.000000</td>\n      <td>0.0</td>\n      <td>0.000000</td>\n      <td>0.00</td>\n      <td>0.0</td>\n      <td>0.0</td>\n      <td>0.0</td>\n      <td>0.00</td>\n      <td>...</td>\n      <td>0.0</td>\n      <td>0.0</td>\n      <td>0.0</td>\n      <td>0.0</td>\n      <td>0.0</td>\n      <td>0.0</td>\n      <td>0.0</td>\n      <td>0.0</td>\n      <td>0.0</td>\n      <td>0.0</td>\n    </tr>\n    <tr>\n      <th>489</th>\n      <td>0.000000</td>\n      <td>-0.111111</td>\n      <td>0.000000</td>\n      <td>0.0</td>\n      <td>-0.333333</td>\n      <td>0.00</td>\n      <td>0.5</td>\n      <td>0.0</td>\n      <td>0.0</td>\n      <td>-0.25</td>\n      <td>...</td>\n      <td>0.0</td>\n      <td>0.0</td>\n      <td>0.0</td>\n      <td>0.0</td>\n      <td>0.0</td>\n      <td>0.0</td>\n      <td>0.0</td>\n      <td>0.0</td>\n      <td>0.0</td>\n      <td>0.0</td>\n    </tr>\n    <tr>\n      <th>294</th>\n      <td>0.000000</td>\n      <td>0.111111</td>\n      <td>-0.777778</td>\n      <td>0.0</td>\n      <td>0.000000</td>\n      <td>0.00</td>\n      <td>0.0</td>\n      <td>0.0</td>\n      <td>0.0</td>\n      <td>0.00</td>\n      <td>...</td>\n      <td>0.0</td>\n      <td>0.0</td>\n      <td>0.0</td>\n      <td>0.0</td>\n      <td>0.0</td>\n      <td>0.0</td>\n      <td>0.0</td>\n      <td>0.0</td>\n      <td>0.0</td>\n      <td>0.0</td>\n    </tr>\n  </tbody>\n</table>\n<p>55 rows × 9724 columns</p>\n</div>"
     },
     "execution_count": 325,
     "metadata": {},
     "output_type": "execute_result"
    }
   ],
   "source": [
    "val"
   ],
   "metadata": {
    "collapsed": false,
    "pycharm": {
     "name": "#%%\n"
    }
   }
  },
  {
   "cell_type": "code",
   "execution_count": 260,
   "outputs": [],
   "source": [
    "n_movies = len(data.columns)"
   ],
   "metadata": {
    "collapsed": false,
    "pycharm": {
     "name": "#%%\n"
    }
   }
  },
  {
   "cell_type": "code",
   "execution_count": 289,
   "outputs": [],
   "source": [
    "def encoder(input_layer):\n",
    "\n",
    "    x = tf.keras.layers.Dense(units=100, activation='relu')(input_layer)\n",
    "    x = tf.keras.layers.Dense(units=50, activation='relu')(x)\n",
    "    x = tf.keras.layers.Dense(units=10, activation='relu')(x)\n",
    "\n",
    "    return x\n",
    "\n",
    "def decoder(x):\n",
    "\n",
    "    x = tf.keras.layers.Dense(units=10, activation='relu')(x)\n",
    "    x = tf.keras.layers.Dense(units=50, activation='relu')(x)\n",
    "    x = tf.keras.layers.Dense(units=100, activation='relu')(x)\n",
    "    output_layer = tf.keras.layers.Conv2D(1, (3, 3), activation='sigmoid', padding='same')(x)\n",
    "\n",
    "    return output_layer\n",
    "\n",
    "def movie_recommender(n_movies):\n",
    "\n",
    "    input_layer = tf.keras.layers.Input(\n",
    "        shape=(n_movies, ),\n",
    "        dtype=tf.float32,\n",
    "        name='input_layer'\n",
    "    )\n",
    "\n",
    "    x = tf.keras.layers.Dense(units=100, activation='relu')(input_layer)\n",
    "    x = tf.keras.layers.BatchNormalization()(x)\n",
    "    x = tf.keras.layers.Dense(units=50, activation='relu')(x)\n",
    "    x = tf.keras.layers.BatchNormalization()(x)\n",
    "    x = tf.keras.layers.Dense(units=10, activation='relu')(x)\n",
    "    x = tf.keras.layers.Dense(units=10, activation='relu')(x)\n",
    "    x = tf.keras.layers.BatchNormalization()(x)\n",
    "    x = tf.keras.layers.Dense(units=50, activation='relu')(x)\n",
    "    x = tf.keras.layers.BatchNormalization()(x)\n",
    "    x = tf.keras.layers.Dense(units=100, activation='relu')(x)\n",
    "    output_layer = tf.keras.layers.Dense(units=n_movies)(x)\n",
    "\n",
    "    model = tf.keras.models.Model(\n",
    "        inputs=[input_layer],\n",
    "        outputs=[output_layer]\n",
    "    )\n",
    "    model.compile(\n",
    "        optimizer='adam',\n",
    "        loss='mean_squared_error',\n",
    "        metrics=['mae']\n",
    "    )\n",
    "\n",
    "    return model"
   ],
   "metadata": {
    "collapsed": false,
    "pycharm": {
     "name": "#%%\n"
    }
   }
  },
  {
   "cell_type": "code",
   "execution_count": 290,
   "outputs": [],
   "source": [
    "model = movie_recommender(n_movies)"
   ],
   "metadata": {
    "collapsed": false,
    "pycharm": {
     "name": "#%%\n"
    }
   }
  },
  {
   "cell_type": "code",
   "execution_count": 291,
   "outputs": [
    {
     "name": "stdout",
     "output_type": "stream",
     "text": [
      "Model: \"model_10\"\n",
      "_________________________________________________________________\n",
      " Layer (type)                Output Shape              Param #   \n",
      "=================================================================\n",
      " input_layer (InputLayer)    [(None, 9724)]            0         \n",
      "                                                                 \n",
      " dense_50 (Dense)            (None, 100)               972500    \n",
      "                                                                 \n",
      " batch_normalization (BatchN  (None, 100)              400       \n",
      " ormalization)                                                   \n",
      "                                                                 \n",
      " dense_51 (Dense)            (None, 50)                5050      \n",
      "                                                                 \n",
      " batch_normalization_1 (Batc  (None, 50)               200       \n",
      " hNormalization)                                                 \n",
      "                                                                 \n",
      " dense_52 (Dense)            (None, 10)                510       \n",
      "                                                                 \n",
      " dense_53 (Dense)            (None, 10)                110       \n",
      "                                                                 \n",
      " batch_normalization_2 (Batc  (None, 10)               40        \n",
      " hNormalization)                                                 \n",
      "                                                                 \n",
      " dense_54 (Dense)            (None, 50)                550       \n",
      "                                                                 \n",
      " batch_normalization_3 (Batc  (None, 50)               200       \n",
      " hNormalization)                                                 \n",
      "                                                                 \n",
      " dense_55 (Dense)            (None, 100)               5100      \n",
      "                                                                 \n",
      " dense_56 (Dense)            (None, 9724)              982124    \n",
      "                                                                 \n",
      "=================================================================\n",
      "Total params: 1,966,784\n",
      "Trainable params: 1,966,364\n",
      "Non-trainable params: 420\n",
      "_________________________________________________________________\n"
     ]
    }
   ],
   "source": [
    "model.summary()"
   ],
   "metadata": {
    "collapsed": false,
    "pycharm": {
     "name": "#%%\n"
    }
   }
  },
  {
   "cell_type": "code",
   "execution_count": 292,
   "outputs": [],
   "source": [
    "callback = tf.keras.callbacks.EarlyStopping(monitor='loss', patience=10)"
   ],
   "metadata": {
    "collapsed": false,
    "pycharm": {
     "name": "#%%\n"
    }
   }
  },
  {
   "cell_type": "code",
   "execution_count": 293,
   "outputs": [
    {
     "name": "stdout",
     "output_type": "stream",
     "text": [
      "Epoch 1/100\n",
      "42/42 [==============================] - 2s 13ms/step - loss: 0.0089 - mae: 0.0388 - val_loss: 0.0150 - val_mae: 0.0125\n",
      "Epoch 2/100\n",
      "42/42 [==============================] - 0s 8ms/step - loss: 0.0076 - mae: 0.0260 - val_loss: 0.0150 - val_mae: 0.0130\n",
      "Epoch 3/100\n",
      "42/42 [==============================] - 0s 8ms/step - loss: 0.0073 - mae: 0.0224 - val_loss: 0.0149 - val_mae: 0.0136\n",
      "Epoch 4/100\n",
      "42/42 [==============================] - 0s 8ms/step - loss: 0.0072 - mae: 0.0212 - val_loss: 0.0148 - val_mae: 0.0138\n",
      "Epoch 5/100\n",
      "42/42 [==============================] - 0s 8ms/step - loss: 0.0071 - mae: 0.0204 - val_loss: 0.0148 - val_mae: 0.0139\n",
      "Epoch 6/100\n",
      "42/42 [==============================] - 0s 9ms/step - loss: 0.0071 - mae: 0.0198 - val_loss: 0.0148 - val_mae: 0.0141\n",
      "Epoch 7/100\n",
      "42/42 [==============================] - 0s 9ms/step - loss: 0.0070 - mae: 0.0191 - val_loss: 0.0148 - val_mae: 0.0141\n",
      "Epoch 8/100\n",
      "42/42 [==============================] - 0s 10ms/step - loss: 0.0070 - mae: 0.0193 - val_loss: 0.0147 - val_mae: 0.0145\n",
      "Epoch 9/100\n",
      "42/42 [==============================] - 0s 9ms/step - loss: 0.0070 - mae: 0.0192 - val_loss: 0.0148 - val_mae: 0.0150\n",
      "Epoch 10/100\n",
      "42/42 [==============================] - 0s 11ms/step - loss: 0.0069 - mae: 0.0187 - val_loss: 0.0147 - val_mae: 0.0153\n",
      "Epoch 11/100\n",
      "42/42 [==============================] - 0s 9ms/step - loss: 0.0069 - mae: 0.0192 - val_loss: 0.0147 - val_mae: 0.0146\n",
      "Epoch 12/100\n",
      "42/42 [==============================] - 0s 8ms/step - loss: 0.0068 - mae: 0.0186 - val_loss: 0.0147 - val_mae: 0.0148\n",
      "Epoch 13/100\n",
      "42/42 [==============================] - 0s 7ms/step - loss: 0.0069 - mae: 0.0191 - val_loss: 0.0148 - val_mae: 0.0160\n",
      "Epoch 14/100\n",
      "42/42 [==============================] - 0s 8ms/step - loss: 0.0068 - mae: 0.0182 - val_loss: 0.0147 - val_mae: 0.0154\n",
      "Epoch 15/100\n",
      "42/42 [==============================] - 0s 7ms/step - loss: 0.0068 - mae: 0.0187 - val_loss: 0.0147 - val_mae: 0.0151\n",
      "Epoch 16/100\n",
      "42/42 [==============================] - 0s 7ms/step - loss: 0.0067 - mae: 0.0181 - val_loss: 0.0147 - val_mae: 0.0146\n",
      "Epoch 17/100\n",
      "42/42 [==============================] - 0s 8ms/step - loss: 0.0066 - mae: 0.0180 - val_loss: 0.0147 - val_mae: 0.0144\n",
      "Epoch 18/100\n",
      "42/42 [==============================] - 0s 7ms/step - loss: 0.0066 - mae: 0.0182 - val_loss: 0.0147 - val_mae: 0.0146\n",
      "Epoch 19/100\n",
      "42/42 [==============================] - 0s 7ms/step - loss: 0.0067 - mae: 0.0183 - val_loss: 0.0147 - val_mae: 0.0143\n",
      "Epoch 20/100\n",
      "42/42 [==============================] - 0s 7ms/step - loss: 0.0065 - mae: 0.0179 - val_loss: 0.0146 - val_mae: 0.0147\n",
      "Epoch 21/100\n",
      "42/42 [==============================] - 0s 8ms/step - loss: 0.0064 - mae: 0.0174 - val_loss: 0.0146 - val_mae: 0.0141\n",
      "Epoch 22/100\n",
      "42/42 [==============================] - 0s 7ms/step - loss: 0.0064 - mae: 0.0182 - val_loss: 0.0147 - val_mae: 0.0140\n",
      "Epoch 23/100\n",
      "42/42 [==============================] - 0s 7ms/step - loss: 0.0064 - mae: 0.0179 - val_loss: 0.0147 - val_mae: 0.0139\n",
      "Epoch 24/100\n",
      "42/42 [==============================] - 0s 7ms/step - loss: 0.0063 - mae: 0.0171 - val_loss: 0.0146 - val_mae: 0.0144\n",
      "Epoch 25/100\n",
      "42/42 [==============================] - 0s 8ms/step - loss: 0.0062 - mae: 0.0175 - val_loss: 0.0146 - val_mae: 0.0140\n",
      "Epoch 26/100\n",
      "42/42 [==============================] - 0s 8ms/step - loss: 0.0062 - mae: 0.0178 - val_loss: 0.0147 - val_mae: 0.0139\n",
      "Epoch 27/100\n",
      "42/42 [==============================] - 0s 8ms/step - loss: 0.0063 - mae: 0.0184 - val_loss: 0.0147 - val_mae: 0.0139\n",
      "Epoch 28/100\n",
      "42/42 [==============================] - 0s 8ms/step - loss: 0.0062 - mae: 0.0174 - val_loss: 0.0147 - val_mae: 0.0135\n",
      "Epoch 29/100\n",
      "42/42 [==============================] - 0s 8ms/step - loss: 0.0061 - mae: 0.0176 - val_loss: 0.0147 - val_mae: 0.0137\n",
      "Epoch 30/100\n",
      "42/42 [==============================] - 0s 8ms/step - loss: 0.0061 - mae: 0.0173 - val_loss: 0.0147 - val_mae: 0.0141\n",
      "Epoch 31/100\n",
      "42/42 [==============================] - 0s 8ms/step - loss: 0.0060 - mae: 0.0173 - val_loss: 0.0146 - val_mae: 0.0142\n",
      "Epoch 32/100\n",
      "42/42 [==============================] - 0s 8ms/step - loss: 0.0058 - mae: 0.0174 - val_loss: 0.0147 - val_mae: 0.0136\n",
      "Epoch 33/100\n",
      "42/42 [==============================] - 0s 8ms/step - loss: 0.0058 - mae: 0.0163 - val_loss: 0.0146 - val_mae: 0.0137\n",
      "Epoch 34/100\n",
      "42/42 [==============================] - 0s 8ms/step - loss: 0.0057 - mae: 0.0163 - val_loss: 0.0147 - val_mae: 0.0138\n",
      "Epoch 35/100\n",
      "42/42 [==============================] - 0s 8ms/step - loss: 0.0059 - mae: 0.0169 - val_loss: 0.0147 - val_mae: 0.0136\n",
      "Epoch 36/100\n",
      "42/42 [==============================] - 0s 8ms/step - loss: 0.0057 - mae: 0.0170 - val_loss: 0.0146 - val_mae: 0.0136\n",
      "Epoch 37/100\n",
      "42/42 [==============================] - 0s 7ms/step - loss: 0.0057 - mae: 0.0162 - val_loss: 0.0146 - val_mae: 0.0139\n",
      "Epoch 38/100\n",
      "42/42 [==============================] - 0s 7ms/step - loss: 0.0056 - mae: 0.0160 - val_loss: 0.0146 - val_mae: 0.0134\n",
      "Epoch 39/100\n",
      "42/42 [==============================] - 0s 7ms/step - loss: 0.0058 - mae: 0.0167 - val_loss: 0.0147 - val_mae: 0.0139\n",
      "Epoch 40/100\n",
      "42/42 [==============================] - 0s 7ms/step - loss: 0.0057 - mae: 0.0162 - val_loss: 0.0147 - val_mae: 0.0133\n",
      "Epoch 41/100\n",
      "42/42 [==============================] - 0s 8ms/step - loss: 0.0056 - mae: 0.0166 - val_loss: 0.0146 - val_mae: 0.0138\n",
      "Epoch 42/100\n",
      "42/42 [==============================] - 0s 8ms/step - loss: 0.0057 - mae: 0.0162 - val_loss: 0.0146 - val_mae: 0.0136\n",
      "Epoch 43/100\n",
      "42/42 [==============================] - 0s 8ms/step - loss: 0.0055 - mae: 0.0159 - val_loss: 0.0147 - val_mae: 0.0138\n",
      "Epoch 44/100\n",
      "42/42 [==============================] - 0s 8ms/step - loss: 0.0054 - mae: 0.0162 - val_loss: 0.0147 - val_mae: 0.0138\n",
      "Epoch 45/100\n",
      "42/42 [==============================] - 0s 7ms/step - loss: 0.0055 - mae: 0.0151 - val_loss: 0.0147 - val_mae: 0.0140\n",
      "Epoch 46/100\n",
      "42/42 [==============================] - 0s 7ms/step - loss: 0.0054 - mae: 0.0159 - val_loss: 0.0147 - val_mae: 0.0136\n",
      "Epoch 47/100\n",
      "42/42 [==============================] - 0s 8ms/step - loss: 0.0055 - mae: 0.0163 - val_loss: 0.0147 - val_mae: 0.0136\n",
      "Epoch 48/100\n",
      "42/42 [==============================] - 0s 7ms/step - loss: 0.0056 - mae: 0.0164 - val_loss: 0.0147 - val_mae: 0.0141\n",
      "Epoch 49/100\n",
      "42/42 [==============================] - 0s 7ms/step - loss: 0.0057 - mae: 0.0165 - val_loss: 0.0146 - val_mae: 0.0140\n",
      "Epoch 50/100\n",
      "42/42 [==============================] - 0s 8ms/step - loss: 0.0054 - mae: 0.0158 - val_loss: 0.0146 - val_mae: 0.0138\n",
      "Epoch 51/100\n",
      "42/42 [==============================] - 0s 8ms/step - loss: 0.0053 - mae: 0.0156 - val_loss: 0.0146 - val_mae: 0.0139\n",
      "Epoch 52/100\n",
      "42/42 [==============================] - 0s 8ms/step - loss: 0.0053 - mae: 0.0156 - val_loss: 0.0147 - val_mae: 0.0137\n",
      "Epoch 53/100\n",
      "42/42 [==============================] - 0s 8ms/step - loss: 0.0056 - mae: 0.0160 - val_loss: 0.0146 - val_mae: 0.0139\n",
      "Epoch 54/100\n",
      "42/42 [==============================] - 0s 8ms/step - loss: 0.0056 - mae: 0.0166 - val_loss: 0.0146 - val_mae: 0.0142\n",
      "Epoch 55/100\n",
      "42/42 [==============================] - 0s 8ms/step - loss: 0.0053 - mae: 0.0154 - val_loss: 0.0146 - val_mae: 0.0141\n",
      "Epoch 56/100\n",
      "42/42 [==============================] - 0s 8ms/step - loss: 0.0053 - mae: 0.0156 - val_loss: 0.0147 - val_mae: 0.0136\n",
      "Epoch 57/100\n",
      "42/42 [==============================] - 0s 8ms/step - loss: 0.0053 - mae: 0.0150 - val_loss: 0.0147 - val_mae: 0.0137\n",
      "Epoch 58/100\n",
      "42/42 [==============================] - 0s 8ms/step - loss: 0.0053 - mae: 0.0156 - val_loss: 0.0146 - val_mae: 0.0137\n",
      "Epoch 59/100\n",
      "42/42 [==============================] - 0s 7ms/step - loss: 0.0051 - mae: 0.0144 - val_loss: 0.0147 - val_mae: 0.0135\n",
      "Epoch 60/100\n",
      "42/42 [==============================] - 0s 7ms/step - loss: 0.0051 - mae: 0.0151 - val_loss: 0.0147 - val_mae: 0.0135\n",
      "Epoch 61/100\n",
      "42/42 [==============================] - 0s 8ms/step - loss: 0.0051 - mae: 0.0149 - val_loss: 0.0147 - val_mae: 0.0136\n",
      "Epoch 62/100\n",
      "42/42 [==============================] - 0s 7ms/step - loss: 0.0052 - mae: 0.0155 - val_loss: 0.0147 - val_mae: 0.0133\n",
      "Epoch 63/100\n",
      "42/42 [==============================] - 0s 7ms/step - loss: 0.0052 - mae: 0.0153 - val_loss: 0.0146 - val_mae: 0.0136\n",
      "Epoch 64/100\n",
      "42/42 [==============================] - 0s 8ms/step - loss: 0.0052 - mae: 0.0150 - val_loss: 0.0147 - val_mae: 0.0135\n",
      "Epoch 65/100\n",
      "42/42 [==============================] - 0s 8ms/step - loss: 0.0052 - mae: 0.0151 - val_loss: 0.0146 - val_mae: 0.0137\n",
      "Epoch 66/100\n",
      "42/42 [==============================] - 0s 8ms/step - loss: 0.0053 - mae: 0.0158 - val_loss: 0.0146 - val_mae: 0.0137\n",
      "Epoch 67/100\n",
      "42/42 [==============================] - 0s 7ms/step - loss: 0.0053 - mae: 0.0159 - val_loss: 0.0146 - val_mae: 0.0137\n",
      "Epoch 68/100\n",
      "42/42 [==============================] - 0s 7ms/step - loss: 0.0053 - mae: 0.0149 - val_loss: 0.0146 - val_mae: 0.0138\n",
      "Epoch 69/100\n",
      "42/42 [==============================] - 0s 8ms/step - loss: 0.0050 - mae: 0.0149 - val_loss: 0.0146 - val_mae: 0.0134\n",
      "Epoch 70/100\n",
      "42/42 [==============================] - 0s 7ms/step - loss: 0.0049 - mae: 0.0144 - val_loss: 0.0146 - val_mae: 0.0133\n",
      "Epoch 71/100\n",
      "42/42 [==============================] - 0s 8ms/step - loss: 0.0050 - mae: 0.0145 - val_loss: 0.0146 - val_mae: 0.0135\n",
      "Epoch 72/100\n",
      "42/42 [==============================] - 0s 8ms/step - loss: 0.0049 - mae: 0.0145 - val_loss: 0.0147 - val_mae: 0.0134\n",
      "Epoch 73/100\n",
      "42/42 [==============================] - 0s 9ms/step - loss: 0.0051 - mae: 0.0147 - val_loss: 0.0147 - val_mae: 0.0133\n",
      "Epoch 74/100\n",
      "42/42 [==============================] - 0s 8ms/step - loss: 0.0050 - mae: 0.0145 - val_loss: 0.0146 - val_mae: 0.0139\n",
      "Epoch 75/100\n",
      "42/42 [==============================] - 0s 8ms/step - loss: 0.0050 - mae: 0.0148 - val_loss: 0.0146 - val_mae: 0.0139\n",
      "Epoch 76/100\n",
      "42/42 [==============================] - 0s 8ms/step - loss: 0.0050 - mae: 0.0147 - val_loss: 0.0146 - val_mae: 0.0143\n",
      "Epoch 77/100\n",
      "42/42 [==============================] - 0s 8ms/step - loss: 0.0048 - mae: 0.0143 - val_loss: 0.0147 - val_mae: 0.0138\n",
      "Epoch 78/100\n",
      "42/42 [==============================] - 0s 8ms/step - loss: 0.0048 - mae: 0.0142 - val_loss: 0.0146 - val_mae: 0.0135\n",
      "Epoch 79/100\n",
      "42/42 [==============================] - 0s 8ms/step - loss: 0.0049 - mae: 0.0142 - val_loss: 0.0146 - val_mae: 0.0138\n",
      "Epoch 80/100\n",
      "42/42 [==============================] - 0s 7ms/step - loss: 0.0048 - mae: 0.0138 - val_loss: 0.0146 - val_mae: 0.0135\n",
      "Epoch 81/100\n",
      "42/42 [==============================] - 0s 9ms/step - loss: 0.0048 - mae: 0.0144 - val_loss: 0.0147 - val_mae: 0.0133\n",
      "Epoch 82/100\n",
      "42/42 [==============================] - 0s 8ms/step - loss: 0.0049 - mae: 0.0144 - val_loss: 0.0147 - val_mae: 0.0133\n",
      "Epoch 83/100\n",
      "42/42 [==============================] - 0s 8ms/step - loss: 0.0047 - mae: 0.0144 - val_loss: 0.0147 - val_mae: 0.0135\n",
      "Epoch 84/100\n",
      "42/42 [==============================] - 0s 7ms/step - loss: 0.0048 - mae: 0.0140 - val_loss: 0.0147 - val_mae: 0.0134\n",
      "Epoch 85/100\n",
      "42/42 [==============================] - 0s 7ms/step - loss: 0.0048 - mae: 0.0138 - val_loss: 0.0146 - val_mae: 0.0134\n",
      "Epoch 86/100\n",
      "42/42 [==============================] - 0s 8ms/step - loss: 0.0049 - mae: 0.0143 - val_loss: 0.0146 - val_mae: 0.0135\n",
      "Epoch 87/100\n",
      "42/42 [==============================] - 0s 8ms/step - loss: 0.0049 - mae: 0.0147 - val_loss: 0.0146 - val_mae: 0.0136\n",
      "Epoch 88/100\n",
      "42/42 [==============================] - 0s 7ms/step - loss: 0.0049 - mae: 0.0145 - val_loss: 0.0146 - val_mae: 0.0134\n",
      "Epoch 89/100\n",
      "42/42 [==============================] - 0s 7ms/step - loss: 0.0049 - mae: 0.0148 - val_loss: 0.0147 - val_mae: 0.0137\n",
      "Epoch 90/100\n",
      "42/42 [==============================] - 0s 7ms/step - loss: 0.0048 - mae: 0.0145 - val_loss: 0.0147 - val_mae: 0.0134\n",
      "Epoch 91/100\n",
      "42/42 [==============================] - 0s 8ms/step - loss: 0.0049 - mae: 0.0143 - val_loss: 0.0146 - val_mae: 0.0134\n",
      "Epoch 92/100\n",
      "42/42 [==============================] - 0s 8ms/step - loss: 0.0048 - mae: 0.0149 - val_loss: 0.0146 - val_mae: 0.0133\n",
      "Epoch 93/100\n",
      "42/42 [==============================] - 0s 8ms/step - loss: 0.0048 - mae: 0.0143 - val_loss: 0.0146 - val_mae: 0.0138\n"
     ]
    }
   ],
   "source": [
    "history = model.fit(\n",
    "    train,\n",
    "    train,\n",
    "    validation_data=(val, val),\n",
    "    epochs=100,\n",
    "    batch_size=12,\n",
    "    callbacks=[callback]\n",
    ")"
   ],
   "metadata": {
    "collapsed": false,
    "pycharm": {
     "name": "#%%\n"
    }
   }
  },
  {
   "cell_type": "code",
   "execution_count": 294,
   "outputs": [
    {
     "data": {
      "text/plain": "<Figure size 1440x432 with 2 Axes>",
      "image/png": "[encoded data removed]"
     },
     "metadata": {
      "needs_background": "light"
     },
     "output_type": "display_data"
    }
   ],
   "source": [
    "epoch_loss = history.history['loss']\n",
    "epoch_val_loss = history.history['val_loss']\n",
    "epoch_mae = history.history['mae']\n",
    "epoch_val_mae = history.history['val_mae']\n",
    "\n",
    "plt.figure(figsize=(20,6))\n",
    "plt.subplot(1,2,1)\n",
    "plt.plot(range(0,len(epoch_loss)), epoch_loss, 'b-', linewidth=2, label='Train Loss')\n",
    "plt.plot(range(0,len(epoch_val_loss)), epoch_val_loss, 'r-', linewidth=2, label='Val Loss')\n",
    "plt.title('Evolution of loss on train & validation datasets over epochs')\n",
    "plt.legend(loc='best')\n",
    "\n",
    "plt.subplot(1,2,2)\n",
    "plt.plot(range(0,len(epoch_mae)), epoch_mae, 'b-', linewidth=2, label='Train MAE')\n",
    "plt.plot(range(0,len(epoch_val_mae)), epoch_val_mae, 'r-', linewidth=2,label='Val MAE')\n",
    "plt.title('Evolution of MAE on train & validation datasets over epochs')\n",
    "plt.legend(loc='best')\n",
    "\n",
    "plt.show()"
   ],
   "metadata": {
    "collapsed": false,
    "pycharm": {
     "name": "#%%\n"
    }
   }
  },
  {
   "cell_type": "code",
   "execution_count": 326,
   "outputs": [],
   "source": [
    "predictions = model.predict(test)"
   ],
   "metadata": {
    "collapsed": false,
    "pycharm": {
     "name": "#%%\n"
    }
   }
  },
  {
   "cell_type": "code",
   "execution_count": 327,
   "outputs": [],
   "source": [
    "predictions = pd.DataFrame(scaler.inverse_transform(predictions), columns=test.columns, index=test.index)"
   ],
   "metadata": {
    "collapsed": false,
    "pycharm": {
     "name": "#%%\n"
    }
   }
  },
  {
   "cell_type": "code",
   "execution_count": 329,
   "outputs": [
    {
     "data": {
      "text/plain": "movieId  userId    1    2    3   4    5    6    7   8    9  ...  193565  \\\n0            82  2.5  3.0  NaN NaN  NaN  3.5  NaN NaN  NaN  ...     NaN   \n1           219  3.5  2.5  NaN NaN  NaN  3.5  NaN NaN  NaN  ...     NaN   \n2            56  NaN  NaN  NaN NaN  NaN  NaN  NaN NaN  NaN  ...     NaN   \n3           599  3.0  2.5  1.5 NaN  NaN  4.5  2.5 NaN  1.5  ...     NaN   \n4           265  NaN  NaN  NaN NaN  NaN  NaN  NaN NaN  NaN  ...     NaN   \n..          ...  ...  ...  ...  ..  ...  ...  ...  ..  ...  ...     ...   \n56          606  2.5  NaN  NaN NaN  NaN  NaN  2.5 NaN  NaN  ...     NaN   \n57          269  5.0  NaN  4.0 NaN  3.0  5.0  NaN NaN  2.0  ...     NaN   \n58           30  NaN  NaN  NaN NaN  NaN  NaN  NaN NaN  NaN  ...     NaN   \n59          517  4.0  3.0  NaN NaN  NaN  NaN  NaN NaN  NaN  ...     NaN   \n60          212  NaN  NaN  NaN NaN  NaN  NaN  NaN NaN  NaN  ...     NaN   \n\nmovieId  193567  193571  193573  193579  193581  193583  193585  193587  \\\n0           NaN     NaN     NaN     NaN     NaN     NaN     NaN     NaN   \n1           NaN     NaN     NaN     NaN     NaN     NaN     NaN     NaN   \n2           NaN     NaN     NaN     NaN     NaN     NaN     NaN     NaN   \n3           NaN     NaN     NaN     NaN     NaN     NaN     NaN     NaN   \n4           NaN     NaN     NaN     NaN     NaN     NaN     NaN     NaN   \n..          ...     ...     ...     ...     ...     ...     ...     ...   \n56          NaN     NaN     NaN     NaN     NaN     NaN     NaN     NaN   \n57          NaN     NaN     NaN     NaN     NaN     NaN     NaN     NaN   \n58          NaN     NaN     NaN     NaN     NaN     NaN     NaN     NaN   \n59          NaN     NaN     NaN     NaN     NaN     NaN     NaN     NaN   \n60          NaN     NaN     NaN     NaN     NaN     NaN     NaN     NaN   \n\nmovieId  193609  \n0           NaN  \n1           NaN  \n2           NaN  \n3           NaN  \n4           NaN  \n..          ...  \n56          NaN  \n57          NaN  \n58          NaN  \n59          NaN  \n60          NaN  \n\n[61 rows x 9725 columns]",
      "text/html": "<div>\n<style scoped>\n    .dataframe tbody tr th:only-of-type {\n        vertical-align: middle;\n    }\n\n    .dataframe tbody tr th {\n        vertical-align: top;\n    }\n\n    .dataframe thead th {\n        text-align: right;\n    }\n</style>\n<table border=\"1\" class=\"dataframe\">\n  <thead>\n    <tr style=\"text-align: right;\">\n      <th>movieId</th>\n      <th>userId</th>\n      <th>1</th>\n      <th>2</th>\n      <th>3</th>\n      <th>4</th>\n      <th>5</th>\n      <th>6</th>\n      <th>7</th>\n      <th>8</th>\n      <th>9</th>\n      <th>...</th>\n      <th>193565</th>\n      <th>193567</th>\n      <th>193571</th>\n      <th>193573</th>\n      <th>193579</th>\n      <th>193581</th>\n      <th>193583</th>\n      <th>193585</th>\n      <th>193587</th>\n      <th>193609</th>\n    </tr>\n  </thead>\n  <tbody>\n    <tr>\n      <th>0</th>\n      <td>82</td>\n      <td>2.5</td>\n      <td>3.0</td>\n      <td>NaN</td>\n      <td>NaN</td>\n      <td>NaN</td>\n      <td>3.5</td>\n      <td>NaN</td>\n      <td>NaN</td>\n      <td>NaN</td>\n      <td>...</td>\n      <td>NaN</td>\n      <td>NaN</td>\n      <td>NaN</td>\n      <td>NaN</td>\n      <td>NaN</td>\n      <td>NaN</td>\n      <td>NaN</td>\n      <td>NaN</td>\n      <td>NaN</td>\n      <td>NaN</td>\n    </tr>\n    <tr>\n      <th>1</th>\n      <td>219</td>\n      <td>3.5</td>\n      <td>2.5</td>\n      <td>NaN</td>\n      <td>NaN</td>\n      <td>NaN</td>\n      <td>3.5</td>\n      <td>NaN</td>\n      <td>NaN</td>\n      <td>NaN</td>\n      <td>...</td>\n      <td>NaN</td>\n      <td>NaN</td>\n      <td>NaN</td>\n      <td>NaN</td>\n      <td>NaN</td>\n      <td>NaN</td>\n      <td>NaN</td>\n      <td>NaN</td>\n      <td>NaN</td>\n      <td>NaN</td>\n    </tr>\n    <tr>\n      <th>2</th>\n      <td>56</td>\n      <td>NaN</td>\n      <td>NaN</td>\n      <td>NaN</td>\n      <td>NaN</td>\n      <td>NaN</td>\n      <td>NaN</td>\n      <td>NaN</td>\n      <td>NaN</td>\n      <td>NaN</td>\n      <td>...</td>\n      <td>NaN</td>\n      <td>NaN</td>\n      <td>NaN</td>\n      <td>NaN</td>\n      <td>NaN</td>\n      <td>NaN</td>\n      <td>NaN</td>\n      <td>NaN</td>\n      <td>NaN</td>\n      <td>NaN</td>\n    </tr>\n    <tr>\n      <th>3</th>\n      <td>599</td>\n      <td>3.0</td>\n      <td>2.5</td>\n      <td>1.5</td>\n      <td>NaN</td>\n      <td>NaN</td>\n      <td>4.5</td>\n      <td>2.5</td>\n      <td>NaN</td>\n      <td>1.5</td>\n      <td>...</td>\n      <td>NaN</td>\n      <td>NaN</td>\n      <td>NaN</td>\n      <td>NaN</td>\n      <td>NaN</td>\n      <td>NaN</td>\n      <td>NaN</td>\n      <td>NaN</td>\n      <td>NaN</td>\n      <td>NaN</td>\n    </tr>\n    <tr>\n      <th>4</th>\n      <td>265</td>\n      <td>NaN</td>\n      <td>NaN</td>\n      <td>NaN</td>\n      <td>NaN</td>\n      <td>NaN</td>\n      <td>NaN</td>\n      <td>NaN</td>\n      <td>NaN</td>\n      <td>NaN</td>\n      <td>...</td>\n      <td>NaN</td>\n      <td>NaN</td>\n      <td>NaN</td>\n      <td>NaN</td>\n      <td>NaN</td>\n      <td>NaN</td>\n      <td>NaN</td>\n      <td>NaN</td>\n      <td>NaN</td>\n      <td>NaN</td>\n    </tr>\n    <tr>\n      <th>...</th>\n      <td>...</td>\n      <td>...</td>\n      <td>...</td>\n      <td>...</td>\n      <td>...</td>\n      <td>...</td>\n      <td>...</td>\n      <td>...</td>\n      <td>...</td>\n      <td>...</td>\n      <td>...</td>\n      <td>...</td>\n      <td>...</td>\n      <td>...</td>\n      <td>...</td>\n      <td>...</td>\n      <td>...</td>\n      <td>...</td>\n      <td>...</td>\n      <td>...</td>\n      <td>...</td>\n    </tr>\n    <tr>\n      <th>56</th>\n      <td>606</td>\n      <td>2.5</td>\n      <td>NaN</td>\n      <td>NaN</td>\n      <td>NaN</td>\n      <td>NaN</td>\n      <td>NaN</td>\n      <td>2.5</td>\n      <td>NaN</td>\n      <td>NaN</td>\n      <td>...</td>\n      <td>NaN</td>\n      <td>NaN</td>\n      <td>NaN</td>\n      <td>NaN</td>\n      <td>NaN</td>\n      <td>NaN</td>\n      <td>NaN</td>\n      <td>NaN</td>\n      <td>NaN</td>\n      <td>NaN</td>\n    </tr>\n    <tr>\n      <th>57</th>\n      <td>269</td>\n      <td>5.0</td>\n      <td>NaN</td>\n      <td>4.0</td>\n      <td>NaN</td>\n      <td>3.0</td>\n      <td>5.0</td>\n      <td>NaN</td>\n      <td>NaN</td>\n      <td>2.0</td>\n      <td>...</td>\n      <td>NaN</td>\n      <td>NaN</td>\n      <td>NaN</td>\n      <td>NaN</td>\n      <td>NaN</td>\n      <td>NaN</td>\n      <td>NaN</td>\n      <td>NaN</td>\n      <td>NaN</td>\n      <td>NaN</td>\n    </tr>\n    <tr>\n      <th>58</th>\n      <td>30</td>\n      <td>NaN</td>\n      <td>NaN</td>\n      <td>NaN</td>\n      <td>NaN</td>\n      <td>NaN</td>\n      <td>NaN</td>\n      <td>NaN</td>\n      <td>NaN</td>\n      <td>NaN</td>\n      <td>...</td>\n      <td>NaN</td>\n      <td>NaN</td>\n      <td>NaN</td>\n      <td>NaN</td>\n      <td>NaN</td>\n      <td>NaN</td>\n      <td>NaN</td>\n      <td>NaN</td>\n      <td>NaN</td>\n      <td>NaN</td>\n    </tr>\n    <tr>\n      <th>59</th>\n      <td>517</td>\n      <td>4.0</td>\n      <td>3.0</td>\n      <td>NaN</td>\n      <td>NaN</td>\n      <td>NaN</td>\n      <td>NaN</td>\n      <td>NaN</td>\n      <td>NaN</td>\n      <td>NaN</td>\n      <td>...</td>\n      <td>NaN</td>\n      <td>NaN</td>\n      <td>NaN</td>\n      <td>NaN</td>\n      <td>NaN</td>\n      <td>NaN</td>\n      <td>NaN</td>\n      <td>NaN</td>\n      <td>NaN</td>\n      <td>NaN</td>\n    </tr>\n    <tr>\n      <th>60</th>\n      <td>212</td>\n      <td>NaN</td>\n      <td>NaN</td>\n      <td>NaN</td>\n      <td>NaN</td>\n      <td>NaN</td>\n      <td>NaN</td>\n      <td>NaN</td>\n      <td>NaN</td>\n      <td>NaN</td>\n      <td>...</td>\n      <td>NaN</td>\n      <td>NaN</td>\n      <td>NaN</td>\n      <td>NaN</td>\n      <td>NaN</td>\n      <td>NaN</td>\n      <td>NaN</td>\n      <td>NaN</td>\n      <td>NaN</td>\n      <td>NaN</td>\n    </tr>\n  </tbody>\n</table>\n<p>61 rows × 9725 columns</p>\n</div>"
     },
     "execution_count": 329,
     "metadata": {},
     "output_type": "execute_result"
    }
   ],
   "source": [
    "test_data.reset_index()"
   ],
   "metadata": {
    "collapsed": false,
    "pycharm": {
     "name": "#%%\n"
    }
   }
  },
  {
   "cell_type": "code",
   "execution_count": 331,
   "outputs": [],
   "source": [
    "predictions = predictions.reset_index()\n",
    "test_data = test_data.reset_index()"
   ],
   "metadata": {
    "collapsed": false,
    "pycharm": {
     "name": "#%%\n"
    }
   }
  },
  {
   "cell_type": "code",
   "execution_count": 332,
   "outputs": [],
   "source": [
    "predictions = predictions.melt(id_vars='userId', var_name='movieId', value_name='predicted_ratings')"
   ],
   "metadata": {
    "collapsed": false,
    "pycharm": {
     "name": "#%%\n"
    }
   }
  },
  {
   "cell_type": "code",
   "execution_count": 336,
   "outputs": [],
   "source": [
    "test_data = test_data.melt(id_vars='userId', var_name='movieId', value_name='ratings').fillna(0)"
   ],
   "metadata": {
    "collapsed": false,
    "pycharm": {
     "name": "#%%\n"
    }
   }
  },
  {
   "cell_type": "code",
   "execution_count": 337,
   "outputs": [
    {
     "data": {
      "text/plain": "   userId movieId  predicted_ratings\n0      82       1           3.075350\n1     219       1           3.225283\n2      56       1           3.144926\n3     599       1           4.742270\n4     265       1           3.095882",
      "text/html": "<div>\n<style scoped>\n    .dataframe tbody tr th:only-of-type {\n        vertical-align: middle;\n    }\n\n    .dataframe tbody tr th {\n        vertical-align: top;\n    }\n\n    .dataframe thead th {\n        text-align: right;\n    }\n</style>\n<table border=\"1\" class=\"dataframe\">\n  <thead>\n    <tr style=\"text-align: right;\">\n      <th></th>\n      <th>userId</th>\n      <th>movieId</th>\n      <th>predicted_ratings</th>\n    </tr>\n  </thead>\n  <tbody>\n    <tr>\n      <th>0</th>\n      <td>82</td>\n      <td>1</td>\n      <td>3.075350</td>\n    </tr>\n    <tr>\n      <th>1</th>\n      <td>219</td>\n      <td>1</td>\n      <td>3.225283</td>\n    </tr>\n    <tr>\n      <th>2</th>\n      <td>56</td>\n      <td>1</td>\n      <td>3.144926</td>\n    </tr>\n    <tr>\n      <th>3</th>\n      <td>599</td>\n      <td>1</td>\n      <td>4.742270</td>\n    </tr>\n    <tr>\n      <th>4</th>\n      <td>265</td>\n      <td>1</td>\n      <td>3.095882</td>\n    </tr>\n  </tbody>\n</table>\n</div>"
     },
     "execution_count": 337,
     "metadata": {},
     "output_type": "execute_result"
    }
   ],
   "source": [
    "predictions.head()"
   ],
   "metadata": {
    "collapsed": false,
    "pycharm": {
     "name": "#%%\n"
    }
   }
  },
  {
   "cell_type": "code",
   "execution_count": 338,
   "outputs": [
    {
     "data": {
      "text/plain": "   userId  movieId  ratings\n0      82        1      2.5\n1     219        1      3.5\n2      56        1      0.0\n3     599        1      3.0\n4     265        1      0.0",
      "text/html": "<div>\n<style scoped>\n    .dataframe tbody tr th:only-of-type {\n        vertical-align: middle;\n    }\n\n    .dataframe tbody tr th {\n        vertical-align: top;\n    }\n\n    .dataframe thead th {\n        text-align: right;\n    }\n</style>\n<table border=\"1\" class=\"dataframe\">\n  <thead>\n    <tr style=\"text-align: right;\">\n      <th></th>\n      <th>userId</th>\n      <th>movieId</th>\n      <th>ratings</th>\n    </tr>\n  </thead>\n  <tbody>\n    <tr>\n      <th>0</th>\n      <td>82</td>\n      <td>1</td>\n      <td>2.5</td>\n    </tr>\n    <tr>\n      <th>1</th>\n      <td>219</td>\n      <td>1</td>\n      <td>3.5</td>\n    </tr>\n    <tr>\n      <th>2</th>\n      <td>56</td>\n      <td>1</td>\n      <td>0.0</td>\n    </tr>\n    <tr>\n      <th>3</th>\n      <td>599</td>\n      <td>1</td>\n      <td>3.0</td>\n    </tr>\n    <tr>\n      <th>4</th>\n      <td>265</td>\n      <td>1</td>\n      <td>0.0</td>\n    </tr>\n  </tbody>\n</table>\n</div>"
     },
     "execution_count": 338,
     "metadata": {},
     "output_type": "execute_result"
    }
   ],
   "source": [
    "test_data.head()"
   ],
   "metadata": {
    "collapsed": false,
    "pycharm": {
     "name": "#%%\n"
    }
   }
  },
  {
   "cell_type": "code",
   "execution_count": 339,
   "outputs": [],
   "source": [
    "results = pd.merge(predictions, test_data, on=['userId', 'movieId'], how='inner')"
   ],
   "metadata": {
    "collapsed": false,
    "pycharm": {
     "name": "#%%\n"
    }
   }
  },
  {
   "cell_type": "code",
   "execution_count": 340,
   "outputs": [],
   "source": [
    "results = pd.merge(results, movies[['movieId', 'title', 'genres']], on='movieId', how='inner')"
   ],
   "metadata": {
    "collapsed": false,
    "pycharm": {
     "name": "#%%\n"
    }
   }
  },
  {
   "cell_type": "code",
   "execution_count": 341,
   "outputs": [
    {
     "data": {
      "text/plain": "        userId movieId  predicted_ratings  ratings  \\\n214537      82    4813           5.504531      0.0   \n238083      82    5490           5.501542      0.0   \n251015      82    5915           5.501482      0.0   \n538081      82  132333           5.501451      0.0   \n291153      82    7121           5.501249      0.0   \n...        ...     ...                ...      ...   \n589809      82  184053                NaN      0.0   \n590480      82  184997                NaN      0.0   \n590602      82  185031                NaN      0.0   \n591517      82  188751                NaN      0.0   \n591944      82  189547                NaN      0.0   \n\n                                            title              genres  \n214537                 When Worlds Collide (1951)              Sci-Fi  \n238083                         The Big Bus (1976)       Action|Comedy  \n251015  Victory (a.k.a. Escape to Victory) (1981)    Action|Drama|War  \n538081                                Seve (2014)   Documentary|Drama  \n291153                          Adam's Rib (1949)      Comedy|Romance  \n...                                           ...                 ...  \n589809                       Battle Planet (2008)       Action|Sci-Fi  \n590480                         Love, Simon (2018)        Comedy|Drama  \n590602                               Alpha (2018)  Adventure|Thriller  \n591517        Mamma Mia: Here We Go Again! (2018)      Comedy|Romance  \n591944                        Iron Soldier (2010)       Action|Sci-Fi  \n\n[9724 rows x 6 columns]",
      "text/html": "<div>\n<style scoped>\n    .dataframe tbody tr th:only-of-type {\n        vertical-align: middle;\n    }\n\n    .dataframe tbody tr th {\n        vertical-align: top;\n    }\n\n    .dataframe thead th {\n        text-align: right;\n    }\n</style>\n<table border=\"1\" class=\"dataframe\">\n  <thead>\n    <tr style=\"text-align: right;\">\n      <th></th>\n      <th>userId</th>\n      <th>movieId</th>\n      <th>predicted_ratings</th>\n      <th>ratings</th>\n      <th>title</th>\n      <th>genres</th>\n    </tr>\n  </thead>\n  <tbody>\n    <tr>\n      <th>214537</th>\n      <td>82</td>\n      <td>4813</td>\n      <td>5.504531</td>\n      <td>0.0</td>\n      <td>When Worlds Collide (1951)</td>\n      <td>Sci-Fi</td>\n    </tr>\n    <tr>\n      <th>238083</th>\n      <td>82</td>\n      <td>5490</td>\n      <td>5.501542</td>\n      <td>0.0</td>\n      <td>The Big Bus (1976)</td>\n      <td>Action|Comedy</td>\n    </tr>\n    <tr>\n      <th>251015</th>\n      <td>82</td>\n      <td>5915</td>\n      <td>5.501482</td>\n      <td>0.0</td>\n      <td>Victory (a.k.a. Escape to Victory) (1981)</td>\n      <td>Action|Drama|War</td>\n    </tr>\n    <tr>\n      <th>538081</th>\n      <td>82</td>\n      <td>132333</td>\n      <td>5.501451</td>\n      <td>0.0</td>\n      <td>Seve (2014)</td>\n      <td>Documentary|Drama</td>\n    </tr>\n    <tr>\n      <th>291153</th>\n      <td>82</td>\n      <td>7121</td>\n      <td>5.501249</td>\n      <td>0.0</td>\n      <td>Adam's Rib (1949)</td>\n      <td>Comedy|Romance</td>\n    </tr>\n    <tr>\n      <th>...</th>\n      <td>...</td>\n      <td>...</td>\n      <td>...</td>\n      <td>...</td>\n      <td>...</td>\n      <td>...</td>\n    </tr>\n    <tr>\n      <th>589809</th>\n      <td>82</td>\n      <td>184053</td>\n      <td>NaN</td>\n      <td>0.0</td>\n      <td>Battle Planet (2008)</td>\n      <td>Action|Sci-Fi</td>\n    </tr>\n    <tr>\n      <th>590480</th>\n      <td>82</td>\n      <td>184997</td>\n      <td>NaN</td>\n      <td>0.0</td>\n      <td>Love, Simon (2018)</td>\n      <td>Comedy|Drama</td>\n    </tr>\n    <tr>\n      <th>590602</th>\n      <td>82</td>\n      <td>185031</td>\n      <td>NaN</td>\n      <td>0.0</td>\n      <td>Alpha (2018)</td>\n      <td>Adventure|Thriller</td>\n    </tr>\n    <tr>\n      <th>591517</th>\n      <td>82</td>\n      <td>188751</td>\n      <td>NaN</td>\n      <td>0.0</td>\n      <td>Mamma Mia: Here We Go Again! (2018)</td>\n      <td>Comedy|Romance</td>\n    </tr>\n    <tr>\n      <th>591944</th>\n      <td>82</td>\n      <td>189547</td>\n      <td>NaN</td>\n      <td>0.0</td>\n      <td>Iron Soldier (2010)</td>\n      <td>Action|Sci-Fi</td>\n    </tr>\n  </tbody>\n</table>\n<p>9724 rows × 6 columns</p>\n</div>"
     },
     "execution_count": 341,
     "metadata": {},
     "output_type": "execute_result"
    }
   ],
   "source": [
    "results[results['userId'] == 82].sort_values(by='predicted_ratings', ascending=False)"
   ],
   "metadata": {
    "collapsed": false,
    "pycharm": {
     "name": "#%%\n"
    }
   }
  },
  {
   "cell_type": "code",
   "execution_count": 342,
   "outputs": [
    {
     "data": {
      "text/plain": "        userId movieId  predicted_ratings\n0           82       1           3.075350\n1          219       1           3.225283\n2           56       1           3.144926\n3          599       1           4.742270\n4          265       1           3.095882\n...        ...     ...                ...\n593159     606  193609           4.498168\n593160     269  193609           4.500163\n593161      30  193609           4.497249\n593162     517  193609           4.499948\n593163     212  193609           4.497646\n\n[593164 rows x 3 columns]",
      "text/html": "<div>\n<style scoped>\n    .dataframe tbody tr th:only-of-type {\n        vertical-align: middle;\n    }\n\n    .dataframe tbody tr th {\n        vertical-align: top;\n    }\n\n    .dataframe thead th {\n        text-align: right;\n    }\n</style>\n<table border=\"1\" class=\"dataframe\">\n  <thead>\n    <tr style=\"text-align: right;\">\n      <th></th>\n      <th>userId</th>\n      <th>movieId</th>\n      <th>predicted_ratings</th>\n    </tr>\n  </thead>\n  <tbody>\n    <tr>\n      <th>0</th>\n      <td>82</td>\n      <td>1</td>\n      <td>3.075350</td>\n    </tr>\n    <tr>\n      <th>1</th>\n      <td>219</td>\n      <td>1</td>\n      <td>3.225283</td>\n    </tr>\n    <tr>\n      <th>2</th>\n      <td>56</td>\n      <td>1</td>\n      <td>3.144926</td>\n    </tr>\n    <tr>\n      <th>3</th>\n      <td>599</td>\n      <td>1</td>\n      <td>4.742270</td>\n    </tr>\n    <tr>\n      <th>4</th>\n      <td>265</td>\n      <td>1</td>\n      <td>3.095882</td>\n    </tr>\n    <tr>\n      <th>...</th>\n      <td>...</td>\n      <td>...</td>\n      <td>...</td>\n    </tr>\n    <tr>\n      <th>593159</th>\n      <td>606</td>\n      <td>193609</td>\n      <td>4.498168</td>\n    </tr>\n    <tr>\n      <th>593160</th>\n      <td>269</td>\n      <td>193609</td>\n      <td>4.500163</td>\n    </tr>\n    <tr>\n      <th>593161</th>\n      <td>30</td>\n      <td>193609</td>\n      <td>4.497249</td>\n    </tr>\n    <tr>\n      <th>593162</th>\n      <td>517</td>\n      <td>193609</td>\n      <td>4.499948</td>\n    </tr>\n    <tr>\n      <th>593163</th>\n      <td>212</td>\n      <td>193609</td>\n      <td>4.497646</td>\n    </tr>\n  </tbody>\n</table>\n<p>593164 rows × 3 columns</p>\n</div>"
     },
     "execution_count": 342,
     "metadata": {},
     "output_type": "execute_result"
    }
   ],
   "source": [
    "predictions"
   ],
   "metadata": {
    "collapsed": false,
    "pycharm": {
     "name": "#%%\n"
    }
   }
  },
  {
   "cell_type": "code",
   "execution_count": null,
   "outputs": [],
   "source": [],
   "metadata": {
    "collapsed": false,
    "pycharm": {
     "name": "#%%\n"
    }
   }
  }
 ],
 "metadata": {
  "kernelspec": {
   "display_name": "Python 3",
   "language": "python",
   "name": "python3"
  },
  "language_info": {
   "codemirror_mode": {
    "name": "ipython",
    "version": 2
   },
   "file_extension": ".py",
   "mimetype": "text/x-python",
   "name": "python",
   "nbconvert_exporter": "python",
   "pygments_lexer": "ipython2",
   "version": "2.7.6"
  }
 },
 "nbformat": 4,
 "nbformat_minor": 0
}